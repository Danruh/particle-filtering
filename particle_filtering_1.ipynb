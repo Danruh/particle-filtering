{
 "cells": [
  {
   "attachments": {},
   "cell_type": "markdown",
   "metadata": {},
   "source": [
    "# Particle Filtering Assignment\n",
    "This assignment deals with particle filtering tutorials from the stone soup website"
   ]
  },
  {
   "attachments": {},
   "cell_type": "markdown",
   "metadata": {},
   "source": [
    "## Tutorial 1: Kalman Filter"
   ]
  },
  {
   "cell_type": "code",
   "execution_count": 1,
   "metadata": {},
   "outputs": [],
   "source": [
    "import numpy as np\n",
    "from datetime import datetime, timedelta"
   ]
  },
  {
   "attachments": {},
   "cell_type": "markdown",
   "metadata": {},
   "source": [
    "### Near constant velocity example\n",
    "This example is for a simple \"near constant velocity\", which is that a target moving at constant velocity with some added noise.\n",
    "\n",
    "We need these inputs:"
   ]
  },
  {
   "cell_type": "code",
   "execution_count": 2,
   "metadata": {},
   "outputs": [],
   "source": [
    "from stonesoup.types.groundtruth import GroundTruthPath, GroundTruthState\n",
    "from stonesoup.models.transition.linear import CombinedLinearGaussianTransitionModel, ConstantVelocity\n",
    "\n",
    "# Fix our random seed for a repeatable example\n",
    "np.random.seed(1991)"
   ]
  },
  {
   "cell_type": "code",
   "execution_count": 3,
   "metadata": {},
   "outputs": [],
   "source": [
    "# Start the clock\n",
    "start_time = datetime.now()\n",
    "\n",
    "# Create 2D transistion model\n",
    "q_x = 0.05\n",
    "q_y = 0.05\n",
    "transition_model = CombinedLinearGaussianTransitionModel([ConstantVelocity(q_x), ConstantVelocity(q_y)])\n",
    "\n",
    "# Generate the truth path\n",
    "truth_path = GroundTruthPath([GroundTruthState([0, 1, 0, 1], timestamp=start_time)])\n",
    "\n",
    "num_steps = 20\n",
    "for k in range(1, num_steps + 1):\n",
    "    truth_path.append(GroundTruthState(\n",
    "        transition_model.function(truth_path[k-1], noise=True, time_interval=timedelta(seconds=1)),\n",
    "        timestamp=start_time+timedelta(seconds=k)))"
   ]
  },
  {
   "attachments": {},
   "cell_type": "markdown",
   "metadata": {},
   "source": [
    "After the ground truth path has been generated let us plot the results"
   ]
  },
  {
   "cell_type": "code",
   "execution_count": 4,
   "metadata": {},
   "outputs": [
    {
     "data": {
      "application/vnd.plotly.v1+json": {
       "config": {
        "plotlyServerURL": "https://plot.ly"
       },
       "data": [
        {
         "legendgroup": "Ground Truth",
         "legendrank": 100,
         "line": {
          "dash": "dash"
         },
         "mode": "lines",
         "name": "Ground Truth",
         "showlegend": true,
         "text": [
          "GroundTruthState<br>[[0]\n [1]\n [0]\n [1]]<br>2023-05-12 21:41:19.997310",
          "GroundTruthState<br>[[1.17722347]\n [1.17454005]\n [1.00067575]\n [0.98556448]]<br>2023-05-12 21:41:20.997310",
          "GroundTruthState<br>[[2.27546287]\n [1.00520515]\n [2.03072755]\n [1.03937242]]<br>2023-05-12 21:41:21.997310",
          "GroundTruthState<br>[[3.15603997]\n [0.84910364]\n [3.2076891 ]\n [1.238314  ]]<br>2023-05-12 21:41:22.997310",
          "GroundTruthState<br>[[4.11148457]\n [1.04478491]\n [4.68154658]\n [1.59084802]]<br>2023-05-12 21:41:23.997310",
          "GroundTruthState<br>[[5.0689187 ]\n [0.98798667]\n [6.42409632]\n [1.77577014]]<br>2023-05-12 21:41:24.997310",
          "GroundTruthState<br>[[6.13410397]\n [1.16811616]\n [8.29155731]\n [1.82192523]]<br>2023-05-12 21:41:25.997310",
          "GroundTruthState<br>[[ 7.33666159]\n [ 1.28324857]\n [10.21013307]\n [ 2.01430647]]<br>2023-05-12 21:41:26.997310",
          "GroundTruthState<br>[[ 8.70873977]\n [ 1.18677769]\n [12.63917113]\n [ 2.47937534]]<br>2023-05-12 21:41:27.997310",
          "GroundTruthState<br>[[ 9.66166897]\n [ 0.89282915]\n [15.07724044]\n [ 2.43028493]]<br>2023-05-12 21:41:28.997310",
          "GroundTruthState<br>[[10.28942728]\n [ 0.69092971]\n [17.46388039]\n [ 2.28585283]]<br>2023-05-12 21:41:29.997310",
          "GroundTruthState<br>[[10.90851618]\n [ 0.63559754]\n [19.92298759]\n [ 2.27795093]]<br>2023-05-12 21:41:30.997310",
          "GroundTruthState<br>[[11.43649485]\n [ 0.70608914]\n [22.43523846]\n [ 2.6968977 ]]<br>2023-05-12 21:41:31.997310",
          "GroundTruthState<br>[[12.08375738]\n [ 0.66391157]\n [25.22625371]\n [ 2.76051945]]<br>2023-05-12 21:41:32.997310",
          "GroundTruthState<br>[[12.85725554]\n [ 0.88012337]\n [28.31708702]\n [ 3.36182071]]<br>2023-05-12 21:41:33.997310",
          "GroundTruthState<br>[[13.66400938]\n [ 0.90965246]\n [31.65360028]\n [ 3.31134733]]<br>2023-05-12 21:41:34.997310",
          "GroundTruthState<br>[[14.660942  ]\n [ 1.13570134]\n [34.95982666]\n [ 3.21269825]]<br>2023-05-12 21:41:35.997310",
          "GroundTruthState<br>[[15.76369159]\n [ 1.16458455]\n [38.32678424]\n [ 3.36652349]]<br>2023-05-12 21:41:36.997310",
          "GroundTruthState<br>[[16.99429758]\n [ 1.13128308]\n [41.65059656]\n [ 3.38707982]]<br>2023-05-12 21:41:37.997310",
          "GroundTruthState<br>[[18.30211424]\n [ 1.43090003]\n [44.94718307]\n [ 3.18966342]]<br>2023-05-12 21:41:38.997310",
          "GroundTruthState<br>[[19.71972436]\n [ 1.53880955]\n [48.06695869]\n [ 3.14773137]]<br>2023-05-12 21:41:39.997310"
         ],
         "type": "scatter",
         "x": [
          0,
          1.177223465328352,
          2.275462874700381,
          3.1560399703547968,
          4.111484568780832,
          5.068918699968233,
          6.134103970132443,
          7.336661592351442,
          8.708739774094603,
          9.661668970928952,
          10.289427281808946,
          10.90851617793013,
          11.43649485409589,
          12.083757383111484,
          12.857255540294034,
          13.664009379110706,
          14.66094199646186,
          15.763691585187017,
          16.994297584708757,
          18.302114239501268,
          19.71972436026734
         ],
         "y": [
          0,
          1.0006757513847795,
          2.0307275520116606,
          3.2076890985336823,
          4.681546580969336,
          6.424096316700446,
          8.291557310607626,
          10.210133065599429,
          12.639171131337447,
          15.077240437037124,
          17.463880393414996,
          19.922987588268054,
          22.43523846129129,
          25.226253707256983,
          28.317087024384634,
          31.653600280950233,
          34.95982666405545,
          38.32678424492485,
          41.65059655664205,
          44.94718306572588,
          48.066958689446075
         ]
        }
       ],
       "layout": {
        "colorway": [
         "#636EFA",
         "#EF553B",
         "#00CC96",
         "#AB63FA",
         "#FFA15A",
         "#19D3F3",
         "#FF6692",
         "#B6E880",
         "#FF97FF",
         "#FECB52"
        ],
        "template": {
         "data": {
          "bar": [
           {
            "error_x": {
             "color": "#2a3f5f"
            },
            "error_y": {
             "color": "#2a3f5f"
            },
            "marker": {
             "line": {
              "color": "#E5ECF6",
              "width": 0.5
             },
             "pattern": {
              "fillmode": "overlay",
              "size": 10,
              "solidity": 0.2
             }
            },
            "type": "bar"
           }
          ],
          "barpolar": [
           {
            "marker": {
             "line": {
              "color": "#E5ECF6",
              "width": 0.5
             },
             "pattern": {
              "fillmode": "overlay",
              "size": 10,
              "solidity": 0.2
             }
            },
            "type": "barpolar"
           }
          ],
          "carpet": [
           {
            "aaxis": {
             "endlinecolor": "#2a3f5f",
             "gridcolor": "white",
             "linecolor": "white",
             "minorgridcolor": "white",
             "startlinecolor": "#2a3f5f"
            },
            "baxis": {
             "endlinecolor": "#2a3f5f",
             "gridcolor": "white",
             "linecolor": "white",
             "minorgridcolor": "white",
             "startlinecolor": "#2a3f5f"
            },
            "type": "carpet"
           }
          ],
          "choropleth": [
           {
            "colorbar": {
             "outlinewidth": 0,
             "ticks": ""
            },
            "type": "choropleth"
           }
          ],
          "contour": [
           {
            "colorbar": {
             "outlinewidth": 0,
             "ticks": ""
            },
            "colorscale": [
             [
              0,
              "#0d0887"
             ],
             [
              0.1111111111111111,
              "#46039f"
             ],
             [
              0.2222222222222222,
              "#7201a8"
             ],
             [
              0.3333333333333333,
              "#9c179e"
             ],
             [
              0.4444444444444444,
              "#bd3786"
             ],
             [
              0.5555555555555556,
              "#d8576b"
             ],
             [
              0.6666666666666666,
              "#ed7953"
             ],
             [
              0.7777777777777778,
              "#fb9f3a"
             ],
             [
              0.8888888888888888,
              "#fdca26"
             ],
             [
              1,
              "#f0f921"
             ]
            ],
            "type": "contour"
           }
          ],
          "contourcarpet": [
           {
            "colorbar": {
             "outlinewidth": 0,
             "ticks": ""
            },
            "type": "contourcarpet"
           }
          ],
          "heatmap": [
           {
            "colorbar": {
             "outlinewidth": 0,
             "ticks": ""
            },
            "colorscale": [
             [
              0,
              "#0d0887"
             ],
             [
              0.1111111111111111,
              "#46039f"
             ],
             [
              0.2222222222222222,
              "#7201a8"
             ],
             [
              0.3333333333333333,
              "#9c179e"
             ],
             [
              0.4444444444444444,
              "#bd3786"
             ],
             [
              0.5555555555555556,
              "#d8576b"
             ],
             [
              0.6666666666666666,
              "#ed7953"
             ],
             [
              0.7777777777777778,
              "#fb9f3a"
             ],
             [
              0.8888888888888888,
              "#fdca26"
             ],
             [
              1,
              "#f0f921"
             ]
            ],
            "type": "heatmap"
           }
          ],
          "heatmapgl": [
           {
            "colorbar": {
             "outlinewidth": 0,
             "ticks": ""
            },
            "colorscale": [
             [
              0,
              "#0d0887"
             ],
             [
              0.1111111111111111,
              "#46039f"
             ],
             [
              0.2222222222222222,
              "#7201a8"
             ],
             [
              0.3333333333333333,
              "#9c179e"
             ],
             [
              0.4444444444444444,
              "#bd3786"
             ],
             [
              0.5555555555555556,
              "#d8576b"
             ],
             [
              0.6666666666666666,
              "#ed7953"
             ],
             [
              0.7777777777777778,
              "#fb9f3a"
             ],
             [
              0.8888888888888888,
              "#fdca26"
             ],
             [
              1,
              "#f0f921"
             ]
            ],
            "type": "heatmapgl"
           }
          ],
          "histogram": [
           {
            "marker": {
             "pattern": {
              "fillmode": "overlay",
              "size": 10,
              "solidity": 0.2
             }
            },
            "type": "histogram"
           }
          ],
          "histogram2d": [
           {
            "colorbar": {
             "outlinewidth": 0,
             "ticks": ""
            },
            "colorscale": [
             [
              0,
              "#0d0887"
             ],
             [
              0.1111111111111111,
              "#46039f"
             ],
             [
              0.2222222222222222,
              "#7201a8"
             ],
             [
              0.3333333333333333,
              "#9c179e"
             ],
             [
              0.4444444444444444,
              "#bd3786"
             ],
             [
              0.5555555555555556,
              "#d8576b"
             ],
             [
              0.6666666666666666,
              "#ed7953"
             ],
             [
              0.7777777777777778,
              "#fb9f3a"
             ],
             [
              0.8888888888888888,
              "#fdca26"
             ],
             [
              1,
              "#f0f921"
             ]
            ],
            "type": "histogram2d"
           }
          ],
          "histogram2dcontour": [
           {
            "colorbar": {
             "outlinewidth": 0,
             "ticks": ""
            },
            "colorscale": [
             [
              0,
              "#0d0887"
             ],
             [
              0.1111111111111111,
              "#46039f"
             ],
             [
              0.2222222222222222,
              "#7201a8"
             ],
             [
              0.3333333333333333,
              "#9c179e"
             ],
             [
              0.4444444444444444,
              "#bd3786"
             ],
             [
              0.5555555555555556,
              "#d8576b"
             ],
             [
              0.6666666666666666,
              "#ed7953"
             ],
             [
              0.7777777777777778,
              "#fb9f3a"
             ],
             [
              0.8888888888888888,
              "#fdca26"
             ],
             [
              1,
              "#f0f921"
             ]
            ],
            "type": "histogram2dcontour"
           }
          ],
          "mesh3d": [
           {
            "colorbar": {
             "outlinewidth": 0,
             "ticks": ""
            },
            "type": "mesh3d"
           }
          ],
          "parcoords": [
           {
            "line": {
             "colorbar": {
              "outlinewidth": 0,
              "ticks": ""
             }
            },
            "type": "parcoords"
           }
          ],
          "pie": [
           {
            "automargin": true,
            "type": "pie"
           }
          ],
          "scatter": [
           {
            "fillpattern": {
             "fillmode": "overlay",
             "size": 10,
             "solidity": 0.2
            },
            "type": "scatter"
           }
          ],
          "scatter3d": [
           {
            "line": {
             "colorbar": {
              "outlinewidth": 0,
              "ticks": ""
             }
            },
            "marker": {
             "colorbar": {
              "outlinewidth": 0,
              "ticks": ""
             }
            },
            "type": "scatter3d"
           }
          ],
          "scattercarpet": [
           {
            "marker": {
             "colorbar": {
              "outlinewidth": 0,
              "ticks": ""
             }
            },
            "type": "scattercarpet"
           }
          ],
          "scattergeo": [
           {
            "marker": {
             "colorbar": {
              "outlinewidth": 0,
              "ticks": ""
             }
            },
            "type": "scattergeo"
           }
          ],
          "scattergl": [
           {
            "marker": {
             "colorbar": {
              "outlinewidth": 0,
              "ticks": ""
             }
            },
            "type": "scattergl"
           }
          ],
          "scattermapbox": [
           {
            "marker": {
             "colorbar": {
              "outlinewidth": 0,
              "ticks": ""
             }
            },
            "type": "scattermapbox"
           }
          ],
          "scatterpolar": [
           {
            "marker": {
             "colorbar": {
              "outlinewidth": 0,
              "ticks": ""
             }
            },
            "type": "scatterpolar"
           }
          ],
          "scatterpolargl": [
           {
            "marker": {
             "colorbar": {
              "outlinewidth": 0,
              "ticks": ""
             }
            },
            "type": "scatterpolargl"
           }
          ],
          "scatterternary": [
           {
            "marker": {
             "colorbar": {
              "outlinewidth": 0,
              "ticks": ""
             }
            },
            "type": "scatterternary"
           }
          ],
          "surface": [
           {
            "colorbar": {
             "outlinewidth": 0,
             "ticks": ""
            },
            "colorscale": [
             [
              0,
              "#0d0887"
             ],
             [
              0.1111111111111111,
              "#46039f"
             ],
             [
              0.2222222222222222,
              "#7201a8"
             ],
             [
              0.3333333333333333,
              "#9c179e"
             ],
             [
              0.4444444444444444,
              "#bd3786"
             ],
             [
              0.5555555555555556,
              "#d8576b"
             ],
             [
              0.6666666666666666,
              "#ed7953"
             ],
             [
              0.7777777777777778,
              "#fb9f3a"
             ],
             [
              0.8888888888888888,
              "#fdca26"
             ],
             [
              1,
              "#f0f921"
             ]
            ],
            "type": "surface"
           }
          ],
          "table": [
           {
            "cells": {
             "fill": {
              "color": "#EBF0F8"
             },
             "line": {
              "color": "white"
             }
            },
            "header": {
             "fill": {
              "color": "#C8D4E3"
             },
             "line": {
              "color": "white"
             }
            },
            "type": "table"
           }
          ]
         },
         "layout": {
          "annotationdefaults": {
           "arrowcolor": "#2a3f5f",
           "arrowhead": 0,
           "arrowwidth": 1
          },
          "autotypenumbers": "strict",
          "coloraxis": {
           "colorbar": {
            "outlinewidth": 0,
            "ticks": ""
           }
          },
          "colorscale": {
           "diverging": [
            [
             0,
             "#8e0152"
            ],
            [
             0.1,
             "#c51b7d"
            ],
            [
             0.2,
             "#de77ae"
            ],
            [
             0.3,
             "#f1b6da"
            ],
            [
             0.4,
             "#fde0ef"
            ],
            [
             0.5,
             "#f7f7f7"
            ],
            [
             0.6,
             "#e6f5d0"
            ],
            [
             0.7,
             "#b8e186"
            ],
            [
             0.8,
             "#7fbc41"
            ],
            [
             0.9,
             "#4d9221"
            ],
            [
             1,
             "#276419"
            ]
           ],
           "sequential": [
            [
             0,
             "#0d0887"
            ],
            [
             0.1111111111111111,
             "#46039f"
            ],
            [
             0.2222222222222222,
             "#7201a8"
            ],
            [
             0.3333333333333333,
             "#9c179e"
            ],
            [
             0.4444444444444444,
             "#bd3786"
            ],
            [
             0.5555555555555556,
             "#d8576b"
            ],
            [
             0.6666666666666666,
             "#ed7953"
            ],
            [
             0.7777777777777778,
             "#fb9f3a"
            ],
            [
             0.8888888888888888,
             "#fdca26"
            ],
            [
             1,
             "#f0f921"
            ]
           ],
           "sequentialminus": [
            [
             0,
             "#0d0887"
            ],
            [
             0.1111111111111111,
             "#46039f"
            ],
            [
             0.2222222222222222,
             "#7201a8"
            ],
            [
             0.3333333333333333,
             "#9c179e"
            ],
            [
             0.4444444444444444,
             "#bd3786"
            ],
            [
             0.5555555555555556,
             "#d8576b"
            ],
            [
             0.6666666666666666,
             "#ed7953"
            ],
            [
             0.7777777777777778,
             "#fb9f3a"
            ],
            [
             0.8888888888888888,
             "#fdca26"
            ],
            [
             1,
             "#f0f921"
            ]
           ]
          },
          "colorway": [
           "#636efa",
           "#EF553B",
           "#00cc96",
           "#ab63fa",
           "#FFA15A",
           "#19d3f3",
           "#FF6692",
           "#B6E880",
           "#FF97FF",
           "#FECB52"
          ],
          "font": {
           "color": "#2a3f5f"
          },
          "geo": {
           "bgcolor": "white",
           "lakecolor": "white",
           "landcolor": "#E5ECF6",
           "showlakes": true,
           "showland": true,
           "subunitcolor": "white"
          },
          "hoverlabel": {
           "align": "left"
          },
          "hovermode": "closest",
          "mapbox": {
           "style": "light"
          },
          "paper_bgcolor": "white",
          "plot_bgcolor": "#E5ECF6",
          "polar": {
           "angularaxis": {
            "gridcolor": "white",
            "linecolor": "white",
            "ticks": ""
           },
           "bgcolor": "#E5ECF6",
           "radialaxis": {
            "gridcolor": "white",
            "linecolor": "white",
            "ticks": ""
           }
          },
          "scene": {
           "xaxis": {
            "backgroundcolor": "#E5ECF6",
            "gridcolor": "white",
            "gridwidth": 2,
            "linecolor": "white",
            "showbackground": true,
            "ticks": "",
            "zerolinecolor": "white"
           },
           "yaxis": {
            "backgroundcolor": "#E5ECF6",
            "gridcolor": "white",
            "gridwidth": 2,
            "linecolor": "white",
            "showbackground": true,
            "ticks": "",
            "zerolinecolor": "white"
           },
           "zaxis": {
            "backgroundcolor": "#E5ECF6",
            "gridcolor": "white",
            "gridwidth": 2,
            "linecolor": "white",
            "showbackground": true,
            "ticks": "",
            "zerolinecolor": "white"
           }
          },
          "shapedefaults": {
           "line": {
            "color": "#2a3f5f"
           }
          },
          "ternary": {
           "aaxis": {
            "gridcolor": "white",
            "linecolor": "white",
            "ticks": ""
           },
           "baxis": {
            "gridcolor": "white",
            "linecolor": "white",
            "ticks": ""
           },
           "bgcolor": "#E5ECF6",
           "caxis": {
            "gridcolor": "white",
            "linecolor": "white",
            "ticks": ""
           }
          },
          "title": {
           "x": 0.05
          },
          "xaxis": {
           "automargin": true,
           "gridcolor": "white",
           "linecolor": "white",
           "ticks": "",
           "title": {
            "standoff": 15
           },
           "zerolinecolor": "white",
           "zerolinewidth": 2
          },
          "yaxis": {
           "automargin": true,
           "gridcolor": "white",
           "linecolor": "white",
           "ticks": "",
           "title": {
            "standoff": 15
           },
           "zerolinecolor": "white",
           "zerolinewidth": 2
          }
         }
        },
        "xaxis": {
         "title": {
          "text": "<i>x</i>"
         }
        },
        "yaxis": {
         "scaleanchor": "x",
         "scaleratio": 1,
         "title": {
          "text": "<i>y</i>"
         }
        }
       }
      }
     },
     "metadata": {},
     "output_type": "display_data"
    }
   ],
   "source": [
    "from stonesoup.plotter import Plotterly\n",
    "plotter = Plotterly()\n",
    "plotter.plot_ground_truths(truth_path, [0, 2])\n",
    "plotter.fig"
   ]
  },
  {
   "cell_type": "code",
   "execution_count": 5,
   "metadata": {},
   "outputs": [
    {
     "name": "stdout",
     "output_type": "stream",
     "text": [
      "[[1. 1. 0. 0.]\n",
      " [0. 1. 0. 0.]\n",
      " [0. 0. 1. 1.]\n",
      " [0. 0. 0. 1.]]\n",
      "[[0.01666667 0.025      0.         0.        ]\n",
      " [0.025      0.05       0.         0.        ]\n",
      " [0.         0.         0.01666667 0.025     ]\n",
      " [0.         0.         0.025      0.05      ]]\n"
     ]
    }
   ],
   "source": [
    "print(transition_model.matrix(time_interval=timedelta(seconds=1)))\n",
    "print(transition_model.covar(time_interval=timedelta(seconds=1)))"
   ]
  },
  {
   "attachments": {},
   "cell_type": "markdown",
   "metadata": {},
   "source": [
    "### Simulating some measurements\n",
    "We use a linear sensor model that can measure position (but not velocity) of a target such that:\n",
    "\n",
    "$$\n",
    "\\mathbf{z}_k = H_k \\mathbf{x}_k + \\mathbf{v}_k \\\\\n",
    "\\mathbf{v}_k \\sim \\mathcal{N}(0, R)\n",
    "$$\n",
    "\n",
    "where the matrices\n",
    "\n",
    "$$\n",
    "H_k = \\begin{bmatrix}\n",
    "1 & 0 & 0 & 0 \\\\\n",
    "0 & 0 & 1 & 0\n",
    "\\end{bmatrix} \\\\\n",
    "\n",
    "R = \\begin{bmatrix}\n",
    "1 & 0 \\\\\n",
    "0 & 1\n",
    "\\end{bmatrix} \\omega\n",
    "$$\n",
    "\n",
    "We set $\\omega = 5$ initially"
   ]
  },
  {
   "cell_type": "code",
   "execution_count": 6,
   "metadata": {},
   "outputs": [],
   "source": [
    "# We need the Detection type and a LinearGaussian measurement model\n",
    "from stonesoup.types.detection import Detection\n",
    "from stonesoup.models.measurement.linear import LinearGaussian"
   ]
  },
  {
   "attachments": {},
   "cell_type": "markdown",
   "metadata": {},
   "source": [
    "Let us set the linear Gaussian measurement by indicating the number of dimensions in the state vector and the dimensions that are measured (so $H_k$), and the noise covariance matrix, $R_k$."
   ]
  },
  {
   "cell_type": "code",
   "execution_count": 7,
   "metadata": {},
   "outputs": [
    {
     "name": "stdout",
     "output_type": "stream",
     "text": [
      "H_k =\n",
      "[[1. 0. 0. 0.]\n",
      " [0. 0. 1. 0.]]\n",
      "R   =\n",
      "[[5 0]\n",
      " [0 5]]\n"
     ]
    }
   ],
   "source": [
    "w = 5\n",
    "R = np.array([[1, 0],  # Covariance matrix for Gaussian PDF\n",
    "              [0, 1]]) * w\n",
    "\n",
    "measurement_model = LinearGaussian(\n",
    "    ndim_state=4,  # Number of state dimensions (position and velocity in 2D)\n",
    "    mapping=(0, 2),  # Mapping measurement vector index to state index\n",
    "    noise_covar=R\n",
    "    )\n",
    "\n",
    "print(f\"H_k =\\n{measurement_model.matrix()}\")\n",
    "print(f\"R   =\\n{R}\")"
   ]
  },
  {
   "attachments": {},
   "cell_type": "markdown",
   "metadata": {},
   "source": [
    "Now generate the measurements and results"
   ]
  },
  {
   "cell_type": "code",
   "execution_count": 8,
   "metadata": {},
   "outputs": [
    {
     "data": {
      "application/vnd.plotly.v1+json": {
       "config": {
        "plotlyServerURL": "https://plot.ly"
       },
       "data": [
        {
         "legendgroup": "Ground Truth",
         "legendrank": 100,
         "line": {
          "dash": "dash"
         },
         "mode": "lines",
         "name": "Ground Truth",
         "showlegend": true,
         "text": [
          "GroundTruthState<br>[[0]\n [1]\n [0]\n [1]]<br>2023-05-12 21:41:19.997310",
          "GroundTruthState<br>[[1.17722347]\n [1.17454005]\n [1.00067575]\n [0.98556448]]<br>2023-05-12 21:41:20.997310",
          "GroundTruthState<br>[[2.27546287]\n [1.00520515]\n [2.03072755]\n [1.03937242]]<br>2023-05-12 21:41:21.997310",
          "GroundTruthState<br>[[3.15603997]\n [0.84910364]\n [3.2076891 ]\n [1.238314  ]]<br>2023-05-12 21:41:22.997310",
          "GroundTruthState<br>[[4.11148457]\n [1.04478491]\n [4.68154658]\n [1.59084802]]<br>2023-05-12 21:41:23.997310",
          "GroundTruthState<br>[[5.0689187 ]\n [0.98798667]\n [6.42409632]\n [1.77577014]]<br>2023-05-12 21:41:24.997310",
          "GroundTruthState<br>[[6.13410397]\n [1.16811616]\n [8.29155731]\n [1.82192523]]<br>2023-05-12 21:41:25.997310",
          "GroundTruthState<br>[[ 7.33666159]\n [ 1.28324857]\n [10.21013307]\n [ 2.01430647]]<br>2023-05-12 21:41:26.997310",
          "GroundTruthState<br>[[ 8.70873977]\n [ 1.18677769]\n [12.63917113]\n [ 2.47937534]]<br>2023-05-12 21:41:27.997310",
          "GroundTruthState<br>[[ 9.66166897]\n [ 0.89282915]\n [15.07724044]\n [ 2.43028493]]<br>2023-05-12 21:41:28.997310",
          "GroundTruthState<br>[[10.28942728]\n [ 0.69092971]\n [17.46388039]\n [ 2.28585283]]<br>2023-05-12 21:41:29.997310",
          "GroundTruthState<br>[[10.90851618]\n [ 0.63559754]\n [19.92298759]\n [ 2.27795093]]<br>2023-05-12 21:41:30.997310",
          "GroundTruthState<br>[[11.43649485]\n [ 0.70608914]\n [22.43523846]\n [ 2.6968977 ]]<br>2023-05-12 21:41:31.997310",
          "GroundTruthState<br>[[12.08375738]\n [ 0.66391157]\n [25.22625371]\n [ 2.76051945]]<br>2023-05-12 21:41:32.997310",
          "GroundTruthState<br>[[12.85725554]\n [ 0.88012337]\n [28.31708702]\n [ 3.36182071]]<br>2023-05-12 21:41:33.997310",
          "GroundTruthState<br>[[13.66400938]\n [ 0.90965246]\n [31.65360028]\n [ 3.31134733]]<br>2023-05-12 21:41:34.997310",
          "GroundTruthState<br>[[14.660942  ]\n [ 1.13570134]\n [34.95982666]\n [ 3.21269825]]<br>2023-05-12 21:41:35.997310",
          "GroundTruthState<br>[[15.76369159]\n [ 1.16458455]\n [38.32678424]\n [ 3.36652349]]<br>2023-05-12 21:41:36.997310",
          "GroundTruthState<br>[[16.99429758]\n [ 1.13128308]\n [41.65059656]\n [ 3.38707982]]<br>2023-05-12 21:41:37.997310",
          "GroundTruthState<br>[[18.30211424]\n [ 1.43090003]\n [44.94718307]\n [ 3.18966342]]<br>2023-05-12 21:41:38.997310",
          "GroundTruthState<br>[[19.71972436]\n [ 1.53880955]\n [48.06695869]\n [ 3.14773137]]<br>2023-05-12 21:41:39.997310"
         ],
         "type": "scatter",
         "x": [
          0,
          1.177223465328352,
          2.275462874700381,
          3.1560399703547968,
          4.111484568780832,
          5.068918699968233,
          6.134103970132443,
          7.336661592351442,
          8.708739774094603,
          9.661668970928952,
          10.289427281808946,
          10.90851617793013,
          11.43649485409589,
          12.083757383111484,
          12.857255540294034,
          13.664009379110706,
          14.66094199646186,
          15.763691585187017,
          16.994297584708757,
          18.302114239501268,
          19.71972436026734
         ],
         "y": [
          0,
          1.0006757513847795,
          2.0307275520116606,
          3.2076890985336823,
          4.681546580969336,
          6.424096316700446,
          8.291557310607626,
          10.210133065599429,
          12.639171131337447,
          15.077240437037124,
          17.463880393414996,
          19.922987588268054,
          22.43523846129129,
          25.226253707256983,
          28.317087024384634,
          31.653600280950233,
          34.95982666405545,
          38.32678424492485,
          41.65059655664205,
          44.94718306572588,
          48.066958689446075
         ]
        },
        {
         "legendgroup": "Measurements<br>(Detections)",
         "legendrank": 200,
         "marker": {
          "color": "#636EFA"
         },
         "mode": "markers",
         "name": "Measurements<br>(Detections)",
         "showlegend": true,
         "text": [
          "Detection<br>[[10.347355  ]\n [18.39026726]]<br>2023-05-12 21:41:29.997310",
          "Detection<br>[[9.65261892]\n [7.93091189]]<br>2023-05-12 21:41:25.997310",
          "Detection<br>[[ 9.94273147]\n [19.43402688]]<br>2023-05-12 21:41:30.997310",
          "Detection<br>[[6.88610663]\n [9.83618951]]<br>2023-05-12 21:41:28.997310",
          "Detection<br>[[0.43331033]\n [3.4843533 ]]<br>2023-05-12 21:41:20.997310",
          "Detection<br>[[12.76092353]\n [29.5048618 ]]<br>2023-05-12 21:41:32.997310",
          "Detection<br>[[0.38724495]\n [1.83877647]]<br>2023-05-12 21:41:22.997310",
          "Detection<br>[[11.76624166]\n [26.2545183 ]]<br>2023-05-12 21:41:33.997310",
          "Detection<br>[[ 6.74269277]\n [13.28218791]]<br>2023-05-12 21:41:26.997310",
          "Detection<br>[[17.73421886]\n [40.74056178]]<br>2023-05-12 21:41:37.997310",
          "Detection<br>[[13.0241746]\n [35.7308439]]<br>2023-05-12 21:41:36.997310",
          "Detection<br>[[ 1.03160677]\n [-5.36465746]]<br>2023-05-12 21:41:21.997310",
          "Detection<br>[[14.30482609]\n [33.61534578]]<br>2023-05-12 21:41:35.997310",
          "Detection<br>[[15.38646046]\n [42.24745638]]<br>2023-05-12 21:41:38.997310",
          "Detection<br>[[ 6.44454291]\n [11.9278038 ]]<br>2023-05-12 21:41:27.997310",
          "Detection<br>[[12.37776725]\n [18.69665359]]<br>2023-05-12 21:41:31.997310",
          "Detection<br>[[3.24954482]\n [4.86484198]]<br>2023-05-12 21:41:23.997310",
          "Detection<br>[[4.4296592 ]\n [4.08231481]]<br>2023-05-12 21:41:24.997310",
          "Detection<br>[[10.99975089]\n [35.38740607]]<br>2023-05-12 21:41:34.997310",
          "Detection<br>[[-4.94702639]\n [ 0.75235921]]<br>2023-05-12 21:41:19.997310",
          "Detection<br>[[19.55745386]\n [43.76709946]]<br>2023-05-12 21:41:39.997310"
         ],
         "type": "scatter",
         "x": [
          10.34735500492006,
          9.65261892498846,
          9.942731465275097,
          6.886106629622459,
          0.4333103287927663,
          12.760923526252308,
          0.38724495482978805,
          11.766241658361892,
          6.742692771043784,
          17.73421886031416,
          13.0241745978485,
          1.0316067719768662,
          14.304826090161862,
          15.386460456597847,
          6.444542906447699,
          12.37776724729311,
          3.249544818273506,
          4.429659201473883,
          10.99975089333293,
          -4.947026392776351,
          19.557453856720336
         ],
         "y": [
          18.390267259414063,
          7.930911894822592,
          19.434026883029095,
          9.836189511039954,
          3.4843533044159924,
          29.50486179528591,
          1.838776473593905,
          26.254518300598164,
          13.282187905773013,
          40.74056178416422,
          35.73084389951919,
          -5.36465746159668,
          33.61534578225087,
          42.24745637622229,
          11.92780380263929,
          18.696653585066976,
          4.864841977711805,
          4.082314812698975,
          35.38740606785313,
          0.7523592067096598,
          43.76709946432637
         ]
        }
       ],
       "layout": {
        "colorway": [
         "#636EFA",
         "#EF553B",
         "#00CC96",
         "#AB63FA",
         "#FFA15A",
         "#19D3F3",
         "#FF6692",
         "#B6E880",
         "#FF97FF",
         "#FECB52"
        ],
        "template": {
         "data": {
          "bar": [
           {
            "error_x": {
             "color": "#2a3f5f"
            },
            "error_y": {
             "color": "#2a3f5f"
            },
            "marker": {
             "line": {
              "color": "#E5ECF6",
              "width": 0.5
             },
             "pattern": {
              "fillmode": "overlay",
              "size": 10,
              "solidity": 0.2
             }
            },
            "type": "bar"
           }
          ],
          "barpolar": [
           {
            "marker": {
             "line": {
              "color": "#E5ECF6",
              "width": 0.5
             },
             "pattern": {
              "fillmode": "overlay",
              "size": 10,
              "solidity": 0.2
             }
            },
            "type": "barpolar"
           }
          ],
          "carpet": [
           {
            "aaxis": {
             "endlinecolor": "#2a3f5f",
             "gridcolor": "white",
             "linecolor": "white",
             "minorgridcolor": "white",
             "startlinecolor": "#2a3f5f"
            },
            "baxis": {
             "endlinecolor": "#2a3f5f",
             "gridcolor": "white",
             "linecolor": "white",
             "minorgridcolor": "white",
             "startlinecolor": "#2a3f5f"
            },
            "type": "carpet"
           }
          ],
          "choropleth": [
           {
            "colorbar": {
             "outlinewidth": 0,
             "ticks": ""
            },
            "type": "choropleth"
           }
          ],
          "contour": [
           {
            "colorbar": {
             "outlinewidth": 0,
             "ticks": ""
            },
            "colorscale": [
             [
              0,
              "#0d0887"
             ],
             [
              0.1111111111111111,
              "#46039f"
             ],
             [
              0.2222222222222222,
              "#7201a8"
             ],
             [
              0.3333333333333333,
              "#9c179e"
             ],
             [
              0.4444444444444444,
              "#bd3786"
             ],
             [
              0.5555555555555556,
              "#d8576b"
             ],
             [
              0.6666666666666666,
              "#ed7953"
             ],
             [
              0.7777777777777778,
              "#fb9f3a"
             ],
             [
              0.8888888888888888,
              "#fdca26"
             ],
             [
              1,
              "#f0f921"
             ]
            ],
            "type": "contour"
           }
          ],
          "contourcarpet": [
           {
            "colorbar": {
             "outlinewidth": 0,
             "ticks": ""
            },
            "type": "contourcarpet"
           }
          ],
          "heatmap": [
           {
            "colorbar": {
             "outlinewidth": 0,
             "ticks": ""
            },
            "colorscale": [
             [
              0,
              "#0d0887"
             ],
             [
              0.1111111111111111,
              "#46039f"
             ],
             [
              0.2222222222222222,
              "#7201a8"
             ],
             [
              0.3333333333333333,
              "#9c179e"
             ],
             [
              0.4444444444444444,
              "#bd3786"
             ],
             [
              0.5555555555555556,
              "#d8576b"
             ],
             [
              0.6666666666666666,
              "#ed7953"
             ],
             [
              0.7777777777777778,
              "#fb9f3a"
             ],
             [
              0.8888888888888888,
              "#fdca26"
             ],
             [
              1,
              "#f0f921"
             ]
            ],
            "type": "heatmap"
           }
          ],
          "heatmapgl": [
           {
            "colorbar": {
             "outlinewidth": 0,
             "ticks": ""
            },
            "colorscale": [
             [
              0,
              "#0d0887"
             ],
             [
              0.1111111111111111,
              "#46039f"
             ],
             [
              0.2222222222222222,
              "#7201a8"
             ],
             [
              0.3333333333333333,
              "#9c179e"
             ],
             [
              0.4444444444444444,
              "#bd3786"
             ],
             [
              0.5555555555555556,
              "#d8576b"
             ],
             [
              0.6666666666666666,
              "#ed7953"
             ],
             [
              0.7777777777777778,
              "#fb9f3a"
             ],
             [
              0.8888888888888888,
              "#fdca26"
             ],
             [
              1,
              "#f0f921"
             ]
            ],
            "type": "heatmapgl"
           }
          ],
          "histogram": [
           {
            "marker": {
             "pattern": {
              "fillmode": "overlay",
              "size": 10,
              "solidity": 0.2
             }
            },
            "type": "histogram"
           }
          ],
          "histogram2d": [
           {
            "colorbar": {
             "outlinewidth": 0,
             "ticks": ""
            },
            "colorscale": [
             [
              0,
              "#0d0887"
             ],
             [
              0.1111111111111111,
              "#46039f"
             ],
             [
              0.2222222222222222,
              "#7201a8"
             ],
             [
              0.3333333333333333,
              "#9c179e"
             ],
             [
              0.4444444444444444,
              "#bd3786"
             ],
             [
              0.5555555555555556,
              "#d8576b"
             ],
             [
              0.6666666666666666,
              "#ed7953"
             ],
             [
              0.7777777777777778,
              "#fb9f3a"
             ],
             [
              0.8888888888888888,
              "#fdca26"
             ],
             [
              1,
              "#f0f921"
             ]
            ],
            "type": "histogram2d"
           }
          ],
          "histogram2dcontour": [
           {
            "colorbar": {
             "outlinewidth": 0,
             "ticks": ""
            },
            "colorscale": [
             [
              0,
              "#0d0887"
             ],
             [
              0.1111111111111111,
              "#46039f"
             ],
             [
              0.2222222222222222,
              "#7201a8"
             ],
             [
              0.3333333333333333,
              "#9c179e"
             ],
             [
              0.4444444444444444,
              "#bd3786"
             ],
             [
              0.5555555555555556,
              "#d8576b"
             ],
             [
              0.6666666666666666,
              "#ed7953"
             ],
             [
              0.7777777777777778,
              "#fb9f3a"
             ],
             [
              0.8888888888888888,
              "#fdca26"
             ],
             [
              1,
              "#f0f921"
             ]
            ],
            "type": "histogram2dcontour"
           }
          ],
          "mesh3d": [
           {
            "colorbar": {
             "outlinewidth": 0,
             "ticks": ""
            },
            "type": "mesh3d"
           }
          ],
          "parcoords": [
           {
            "line": {
             "colorbar": {
              "outlinewidth": 0,
              "ticks": ""
             }
            },
            "type": "parcoords"
           }
          ],
          "pie": [
           {
            "automargin": true,
            "type": "pie"
           }
          ],
          "scatter": [
           {
            "fillpattern": {
             "fillmode": "overlay",
             "size": 10,
             "solidity": 0.2
            },
            "type": "scatter"
           }
          ],
          "scatter3d": [
           {
            "line": {
             "colorbar": {
              "outlinewidth": 0,
              "ticks": ""
             }
            },
            "marker": {
             "colorbar": {
              "outlinewidth": 0,
              "ticks": ""
             }
            },
            "type": "scatter3d"
           }
          ],
          "scattercarpet": [
           {
            "marker": {
             "colorbar": {
              "outlinewidth": 0,
              "ticks": ""
             }
            },
            "type": "scattercarpet"
           }
          ],
          "scattergeo": [
           {
            "marker": {
             "colorbar": {
              "outlinewidth": 0,
              "ticks": ""
             }
            },
            "type": "scattergeo"
           }
          ],
          "scattergl": [
           {
            "marker": {
             "colorbar": {
              "outlinewidth": 0,
              "ticks": ""
             }
            },
            "type": "scattergl"
           }
          ],
          "scattermapbox": [
           {
            "marker": {
             "colorbar": {
              "outlinewidth": 0,
              "ticks": ""
             }
            },
            "type": "scattermapbox"
           }
          ],
          "scatterpolar": [
           {
            "marker": {
             "colorbar": {
              "outlinewidth": 0,
              "ticks": ""
             }
            },
            "type": "scatterpolar"
           }
          ],
          "scatterpolargl": [
           {
            "marker": {
             "colorbar": {
              "outlinewidth": 0,
              "ticks": ""
             }
            },
            "type": "scatterpolargl"
           }
          ],
          "scatterternary": [
           {
            "marker": {
             "colorbar": {
              "outlinewidth": 0,
              "ticks": ""
             }
            },
            "type": "scatterternary"
           }
          ],
          "surface": [
           {
            "colorbar": {
             "outlinewidth": 0,
             "ticks": ""
            },
            "colorscale": [
             [
              0,
              "#0d0887"
             ],
             [
              0.1111111111111111,
              "#46039f"
             ],
             [
              0.2222222222222222,
              "#7201a8"
             ],
             [
              0.3333333333333333,
              "#9c179e"
             ],
             [
              0.4444444444444444,
              "#bd3786"
             ],
             [
              0.5555555555555556,
              "#d8576b"
             ],
             [
              0.6666666666666666,
              "#ed7953"
             ],
             [
              0.7777777777777778,
              "#fb9f3a"
             ],
             [
              0.8888888888888888,
              "#fdca26"
             ],
             [
              1,
              "#f0f921"
             ]
            ],
            "type": "surface"
           }
          ],
          "table": [
           {
            "cells": {
             "fill": {
              "color": "#EBF0F8"
             },
             "line": {
              "color": "white"
             }
            },
            "header": {
             "fill": {
              "color": "#C8D4E3"
             },
             "line": {
              "color": "white"
             }
            },
            "type": "table"
           }
          ]
         },
         "layout": {
          "annotationdefaults": {
           "arrowcolor": "#2a3f5f",
           "arrowhead": 0,
           "arrowwidth": 1
          },
          "autotypenumbers": "strict",
          "coloraxis": {
           "colorbar": {
            "outlinewidth": 0,
            "ticks": ""
           }
          },
          "colorscale": {
           "diverging": [
            [
             0,
             "#8e0152"
            ],
            [
             0.1,
             "#c51b7d"
            ],
            [
             0.2,
             "#de77ae"
            ],
            [
             0.3,
             "#f1b6da"
            ],
            [
             0.4,
             "#fde0ef"
            ],
            [
             0.5,
             "#f7f7f7"
            ],
            [
             0.6,
             "#e6f5d0"
            ],
            [
             0.7,
             "#b8e186"
            ],
            [
             0.8,
             "#7fbc41"
            ],
            [
             0.9,
             "#4d9221"
            ],
            [
             1,
             "#276419"
            ]
           ],
           "sequential": [
            [
             0,
             "#0d0887"
            ],
            [
             0.1111111111111111,
             "#46039f"
            ],
            [
             0.2222222222222222,
             "#7201a8"
            ],
            [
             0.3333333333333333,
             "#9c179e"
            ],
            [
             0.4444444444444444,
             "#bd3786"
            ],
            [
             0.5555555555555556,
             "#d8576b"
            ],
            [
             0.6666666666666666,
             "#ed7953"
            ],
            [
             0.7777777777777778,
             "#fb9f3a"
            ],
            [
             0.8888888888888888,
             "#fdca26"
            ],
            [
             1,
             "#f0f921"
            ]
           ],
           "sequentialminus": [
            [
             0,
             "#0d0887"
            ],
            [
             0.1111111111111111,
             "#46039f"
            ],
            [
             0.2222222222222222,
             "#7201a8"
            ],
            [
             0.3333333333333333,
             "#9c179e"
            ],
            [
             0.4444444444444444,
             "#bd3786"
            ],
            [
             0.5555555555555556,
             "#d8576b"
            ],
            [
             0.6666666666666666,
             "#ed7953"
            ],
            [
             0.7777777777777778,
             "#fb9f3a"
            ],
            [
             0.8888888888888888,
             "#fdca26"
            ],
            [
             1,
             "#f0f921"
            ]
           ]
          },
          "colorway": [
           "#636efa",
           "#EF553B",
           "#00cc96",
           "#ab63fa",
           "#FFA15A",
           "#19d3f3",
           "#FF6692",
           "#B6E880",
           "#FF97FF",
           "#FECB52"
          ],
          "font": {
           "color": "#2a3f5f"
          },
          "geo": {
           "bgcolor": "white",
           "lakecolor": "white",
           "landcolor": "#E5ECF6",
           "showlakes": true,
           "showland": true,
           "subunitcolor": "white"
          },
          "hoverlabel": {
           "align": "left"
          },
          "hovermode": "closest",
          "mapbox": {
           "style": "light"
          },
          "paper_bgcolor": "white",
          "plot_bgcolor": "#E5ECF6",
          "polar": {
           "angularaxis": {
            "gridcolor": "white",
            "linecolor": "white",
            "ticks": ""
           },
           "bgcolor": "#E5ECF6",
           "radialaxis": {
            "gridcolor": "white",
            "linecolor": "white",
            "ticks": ""
           }
          },
          "scene": {
           "xaxis": {
            "backgroundcolor": "#E5ECF6",
            "gridcolor": "white",
            "gridwidth": 2,
            "linecolor": "white",
            "showbackground": true,
            "ticks": "",
            "zerolinecolor": "white"
           },
           "yaxis": {
            "backgroundcolor": "#E5ECF6",
            "gridcolor": "white",
            "gridwidth": 2,
            "linecolor": "white",
            "showbackground": true,
            "ticks": "",
            "zerolinecolor": "white"
           },
           "zaxis": {
            "backgroundcolor": "#E5ECF6",
            "gridcolor": "white",
            "gridwidth": 2,
            "linecolor": "white",
            "showbackground": true,
            "ticks": "",
            "zerolinecolor": "white"
           }
          },
          "shapedefaults": {
           "line": {
            "color": "#2a3f5f"
           }
          },
          "ternary": {
           "aaxis": {
            "gridcolor": "white",
            "linecolor": "white",
            "ticks": ""
           },
           "baxis": {
            "gridcolor": "white",
            "linecolor": "white",
            "ticks": ""
           },
           "bgcolor": "#E5ECF6",
           "caxis": {
            "gridcolor": "white",
            "linecolor": "white",
            "ticks": ""
           }
          },
          "title": {
           "x": 0.05
          },
          "xaxis": {
           "automargin": true,
           "gridcolor": "white",
           "linecolor": "white",
           "ticks": "",
           "title": {
            "standoff": 15
           },
           "zerolinecolor": "white",
           "zerolinewidth": 2
          },
          "yaxis": {
           "automargin": true,
           "gridcolor": "white",
           "linecolor": "white",
           "ticks": "",
           "title": {
            "standoff": 15
           },
           "zerolinecolor": "white",
           "zerolinewidth": 2
          }
         }
        },
        "xaxis": {
         "title": {
          "text": "<i>x</i>"
         }
        },
        "yaxis": {
         "scaleanchor": "x",
         "scaleratio": 1,
         "title": {
          "text": "<i>y</i>"
         }
        }
       }
      }
     },
     "metadata": {},
     "output_type": "display_data"
    }
   ],
   "source": [
    "# Generate the measurements\n",
    "measurements = []\n",
    "for state in truth_path:\n",
    "    measurement = measurement_model.function(state, noise=True)\n",
    "    measurements.append(Detection(measurement,\n",
    "                                  timestamp=state.timestamp,\n",
    "                                  measurement_model=measurement_model))\n",
    "\n",
    "# Plot thie results\n",
    "plotter.plot_measurements(measurements, [0, 2])\n",
    "plotter.fig"
   ]
  },
  {
   "attachments": {},
   "cell_type": "markdown",
   "metadata": {},
   "source": [
    "### Construct a Kalman Filter"
   ]
  },
  {
   "cell_type": "code",
   "execution_count": null,
   "metadata": {},
   "outputs": [],
   "source": []
  }
 ],
 "metadata": {
  "kernelspec": {
   "display_name": "base",
   "language": "python",
   "name": "python3"
  },
  "language_info": {
   "codemirror_mode": {
    "name": "ipython",
    "version": 3
   },
   "file_extension": ".py",
   "mimetype": "text/x-python",
   "name": "python",
   "nbconvert_exporter": "python",
   "pygments_lexer": "ipython3",
   "version": "3.10.9"
  },
  "orig_nbformat": 4
 },
 "nbformat": 4,
 "nbformat_minor": 2
}
