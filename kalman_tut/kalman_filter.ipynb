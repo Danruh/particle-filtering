{
 "cells": [
  {
   "attachments": {},
   "cell_type": "markdown",
   "metadata": {},
   "source": [
    "# Particle Filtering Assignment\n",
    "This assignment deals with particle filtering tutorials from the stone soup website"
   ]
  },
  {
   "attachments": {},
   "cell_type": "markdown",
   "metadata": {},
   "source": [
    "## Tutorial 1: Kalman Filter"
   ]
  },
  {
   "cell_type": "code",
   "execution_count": 1,
   "metadata": {},
   "outputs": [],
   "source": [
    "import numpy as np\n",
    "from datetime import datetime, timedelta"
   ]
  },
  {
   "attachments": {},
   "cell_type": "markdown",
   "metadata": {},
   "source": [
    "### Near constant velocity example\n",
    "This example is for a simple \"near constant velocity\", which is that a target moving at constant velocity with some added noise.\n",
    "\n",
    "We need these inputs:"
   ]
  },
  {
   "cell_type": "code",
   "execution_count": 2,
   "metadata": {},
   "outputs": [],
   "source": [
    "from stonesoup.types.groundtruth import GroundTruthPath, GroundTruthState\n",
    "from stonesoup.models.transition.linear import CombinedLinearGaussianTransitionModel, ConstantVelocity\n",
    "\n",
    "# Fix our random seed for a repeatable example\n",
    "np.random.seed(1991)"
   ]
  },
  {
   "cell_type": "code",
   "execution_count": 3,
   "metadata": {},
   "outputs": [],
   "source": [
    "# Start the clock\n",
    "start_time = datetime.now()\n",
    "\n",
    "# Create 2D transistion model\n",
    "q_x = 0.05\n",
    "q_y = 0.05\n",
    "transition_model = CombinedLinearGaussianTransitionModel([ConstantVelocity(q_x), ConstantVelocity(q_y)])\n",
    "\n",
    "# Generate the truth path\n",
    "truth_path = GroundTruthPath([GroundTruthState([0, 1, 0, 1], timestamp=start_time)])\n",
    "\n",
    "num_steps = 20\n",
    "for k in range(1, num_steps + 1):\n",
    "    truth_path.append(GroundTruthState(\n",
    "        transition_model.function(truth_path[k-1], noise=True, time_interval=timedelta(seconds=1)),\n",
    "        timestamp=start_time+timedelta(seconds=k)))"
   ]
  },
  {
   "attachments": {},
   "cell_type": "markdown",
   "metadata": {},
   "source": [
    "After the ground truth path has been generated let us plot the results"
   ]
  },
  {
   "cell_type": "code",
   "execution_count": 4,
   "metadata": {},
   "outputs": [
    {
     "data": {
      "application/vnd.plotly.v1+json": {
       "config": {
        "plotlyServerURL": "https://plot.ly"
       },
       "data": [
        {
         "legendgroup": "Ground Truth",
         "legendrank": 100,
         "line": {
          "dash": "dash"
         },
         "mode": "lines",
         "name": "Ground Truth",
         "showlegend": true,
         "text": [
          "GroundTruthState<br>[[0]\n [1]\n [0]\n [1]]<br>2023-05-13 19:18:22.642571",
          "GroundTruthState<br>[[1.17722347]\n [1.17454005]\n [1.00067575]\n [0.98556448]]<br>2023-05-13 19:18:23.642571",
          "GroundTruthState<br>[[2.27546287]\n [1.00520515]\n [2.03072755]\n [1.03937242]]<br>2023-05-13 19:18:24.642571",
          "GroundTruthState<br>[[3.15603997]\n [0.84910364]\n [3.2076891 ]\n [1.238314  ]]<br>2023-05-13 19:18:25.642571",
          "GroundTruthState<br>[[4.11148457]\n [1.04478491]\n [4.68154658]\n [1.59084802]]<br>2023-05-13 19:18:26.642571",
          "GroundTruthState<br>[[5.0689187 ]\n [0.98798667]\n [6.42409632]\n [1.77577014]]<br>2023-05-13 19:18:27.642571",
          "GroundTruthState<br>[[6.13410397]\n [1.16811616]\n [8.29155731]\n [1.82192523]]<br>2023-05-13 19:18:28.642571",
          "GroundTruthState<br>[[ 7.33666159]\n [ 1.28324857]\n [10.21013307]\n [ 2.01430647]]<br>2023-05-13 19:18:29.642571",
          "GroundTruthState<br>[[ 8.70873977]\n [ 1.18677769]\n [12.63917113]\n [ 2.47937534]]<br>2023-05-13 19:18:30.642571",
          "GroundTruthState<br>[[ 9.66166897]\n [ 0.89282915]\n [15.07724044]\n [ 2.43028493]]<br>2023-05-13 19:18:31.642571",
          "GroundTruthState<br>[[10.28942728]\n [ 0.69092971]\n [17.46388039]\n [ 2.28585283]]<br>2023-05-13 19:18:32.642571",
          "GroundTruthState<br>[[10.90851618]\n [ 0.63559754]\n [19.92298759]\n [ 2.27795093]]<br>2023-05-13 19:18:33.642571",
          "GroundTruthState<br>[[11.43649485]\n [ 0.70608914]\n [22.43523846]\n [ 2.6968977 ]]<br>2023-05-13 19:18:34.642571",
          "GroundTruthState<br>[[12.08375738]\n [ 0.66391157]\n [25.22625371]\n [ 2.76051945]]<br>2023-05-13 19:18:35.642571",
          "GroundTruthState<br>[[12.85725554]\n [ 0.88012337]\n [28.31708702]\n [ 3.36182071]]<br>2023-05-13 19:18:36.642571",
          "GroundTruthState<br>[[13.66400938]\n [ 0.90965246]\n [31.65360028]\n [ 3.31134733]]<br>2023-05-13 19:18:37.642571",
          "GroundTruthState<br>[[14.660942  ]\n [ 1.13570134]\n [34.95982666]\n [ 3.21269825]]<br>2023-05-13 19:18:38.642571",
          "GroundTruthState<br>[[15.76369159]\n [ 1.16458455]\n [38.32678424]\n [ 3.36652349]]<br>2023-05-13 19:18:39.642571",
          "GroundTruthState<br>[[16.99429758]\n [ 1.13128308]\n [41.65059656]\n [ 3.38707982]]<br>2023-05-13 19:18:40.642571",
          "GroundTruthState<br>[[18.30211424]\n [ 1.43090003]\n [44.94718307]\n [ 3.18966342]]<br>2023-05-13 19:18:41.642571",
          "GroundTruthState<br>[[19.71972436]\n [ 1.53880955]\n [48.06695869]\n [ 3.14773137]]<br>2023-05-13 19:18:42.642571"
         ],
         "type": "scatter",
         "x": [
          0,
          1.177223465328352,
          2.275462874700381,
          3.1560399703547968,
          4.111484568780832,
          5.068918699968233,
          6.134103970132443,
          7.336661592351442,
          8.708739774094603,
          9.661668970928952,
          10.289427281808946,
          10.90851617793013,
          11.43649485409589,
          12.083757383111484,
          12.857255540294034,
          13.664009379110706,
          14.66094199646186,
          15.763691585187017,
          16.994297584708757,
          18.302114239501268,
          19.71972436026734
         ],
         "y": [
          0,
          1.0006757513847795,
          2.0307275520116606,
          3.2076890985336823,
          4.681546580969336,
          6.424096316700446,
          8.291557310607626,
          10.210133065599429,
          12.639171131337447,
          15.077240437037124,
          17.463880393414996,
          19.922987588268054,
          22.43523846129129,
          25.226253707256983,
          28.317087024384634,
          31.653600280950233,
          34.95982666405545,
          38.32678424492485,
          41.65059655664205,
          44.94718306572588,
          48.066958689446075
         ]
        }
       ],
       "layout": {
        "colorway": [
         "#636EFA",
         "#EF553B",
         "#00CC96",
         "#AB63FA",
         "#FFA15A",
         "#19D3F3",
         "#FF6692",
         "#B6E880",
         "#FF97FF",
         "#FECB52"
        ],
        "template": {
         "data": {
          "bar": [
           {
            "error_x": {
             "color": "#2a3f5f"
            },
            "error_y": {
             "color": "#2a3f5f"
            },
            "marker": {
             "line": {
              "color": "#E5ECF6",
              "width": 0.5
             },
             "pattern": {
              "fillmode": "overlay",
              "size": 10,
              "solidity": 0.2
             }
            },
            "type": "bar"
           }
          ],
          "barpolar": [
           {
            "marker": {
             "line": {
              "color": "#E5ECF6",
              "width": 0.5
             },
             "pattern": {
              "fillmode": "overlay",
              "size": 10,
              "solidity": 0.2
             }
            },
            "type": "barpolar"
           }
          ],
          "carpet": [
           {
            "aaxis": {
             "endlinecolor": "#2a3f5f",
             "gridcolor": "white",
             "linecolor": "white",
             "minorgridcolor": "white",
             "startlinecolor": "#2a3f5f"
            },
            "baxis": {
             "endlinecolor": "#2a3f5f",
             "gridcolor": "white",
             "linecolor": "white",
             "minorgridcolor": "white",
             "startlinecolor": "#2a3f5f"
            },
            "type": "carpet"
           }
          ],
          "choropleth": [
           {
            "colorbar": {
             "outlinewidth": 0,
             "ticks": ""
            },
            "type": "choropleth"
           }
          ],
          "contour": [
           {
            "colorbar": {
             "outlinewidth": 0,
             "ticks": ""
            },
            "colorscale": [
             [
              0,
              "#0d0887"
             ],
             [
              0.1111111111111111,
              "#46039f"
             ],
             [
              0.2222222222222222,
              "#7201a8"
             ],
             [
              0.3333333333333333,
              "#9c179e"
             ],
             [
              0.4444444444444444,
              "#bd3786"
             ],
             [
              0.5555555555555556,
              "#d8576b"
             ],
             [
              0.6666666666666666,
              "#ed7953"
             ],
             [
              0.7777777777777778,
              "#fb9f3a"
             ],
             [
              0.8888888888888888,
              "#fdca26"
             ],
             [
              1,
              "#f0f921"
             ]
            ],
            "type": "contour"
           }
          ],
          "contourcarpet": [
           {
            "colorbar": {
             "outlinewidth": 0,
             "ticks": ""
            },
            "type": "contourcarpet"
           }
          ],
          "heatmap": [
           {
            "colorbar": {
             "outlinewidth": 0,
             "ticks": ""
            },
            "colorscale": [
             [
              0,
              "#0d0887"
             ],
             [
              0.1111111111111111,
              "#46039f"
             ],
             [
              0.2222222222222222,
              "#7201a8"
             ],
             [
              0.3333333333333333,
              "#9c179e"
             ],
             [
              0.4444444444444444,
              "#bd3786"
             ],
             [
              0.5555555555555556,
              "#d8576b"
             ],
             [
              0.6666666666666666,
              "#ed7953"
             ],
             [
              0.7777777777777778,
              "#fb9f3a"
             ],
             [
              0.8888888888888888,
              "#fdca26"
             ],
             [
              1,
              "#f0f921"
             ]
            ],
            "type": "heatmap"
           }
          ],
          "heatmapgl": [
           {
            "colorbar": {
             "outlinewidth": 0,
             "ticks": ""
            },
            "colorscale": [
             [
              0,
              "#0d0887"
             ],
             [
              0.1111111111111111,
              "#46039f"
             ],
             [
              0.2222222222222222,
              "#7201a8"
             ],
             [
              0.3333333333333333,
              "#9c179e"
             ],
             [
              0.4444444444444444,
              "#bd3786"
             ],
             [
              0.5555555555555556,
              "#d8576b"
             ],
             [
              0.6666666666666666,
              "#ed7953"
             ],
             [
              0.7777777777777778,
              "#fb9f3a"
             ],
             [
              0.8888888888888888,
              "#fdca26"
             ],
             [
              1,
              "#f0f921"
             ]
            ],
            "type": "heatmapgl"
           }
          ],
          "histogram": [
           {
            "marker": {
             "pattern": {
              "fillmode": "overlay",
              "size": 10,
              "solidity": 0.2
             }
            },
            "type": "histogram"
           }
          ],
          "histogram2d": [
           {
            "colorbar": {
             "outlinewidth": 0,
             "ticks": ""
            },
            "colorscale": [
             [
              0,
              "#0d0887"
             ],
             [
              0.1111111111111111,
              "#46039f"
             ],
             [
              0.2222222222222222,
              "#7201a8"
             ],
             [
              0.3333333333333333,
              "#9c179e"
             ],
             [
              0.4444444444444444,
              "#bd3786"
             ],
             [
              0.5555555555555556,
              "#d8576b"
             ],
             [
              0.6666666666666666,
              "#ed7953"
             ],
             [
              0.7777777777777778,
              "#fb9f3a"
             ],
             [
              0.8888888888888888,
              "#fdca26"
             ],
             [
              1,
              "#f0f921"
             ]
            ],
            "type": "histogram2d"
           }
          ],
          "histogram2dcontour": [
           {
            "colorbar": {
             "outlinewidth": 0,
             "ticks": ""
            },
            "colorscale": [
             [
              0,
              "#0d0887"
             ],
             [
              0.1111111111111111,
              "#46039f"
             ],
             [
              0.2222222222222222,
              "#7201a8"
             ],
             [
              0.3333333333333333,
              "#9c179e"
             ],
             [
              0.4444444444444444,
              "#bd3786"
             ],
             [
              0.5555555555555556,
              "#d8576b"
             ],
             [
              0.6666666666666666,
              "#ed7953"
             ],
             [
              0.7777777777777778,
              "#fb9f3a"
             ],
             [
              0.8888888888888888,
              "#fdca26"
             ],
             [
              1,
              "#f0f921"
             ]
            ],
            "type": "histogram2dcontour"
           }
          ],
          "mesh3d": [
           {
            "colorbar": {
             "outlinewidth": 0,
             "ticks": ""
            },
            "type": "mesh3d"
           }
          ],
          "parcoords": [
           {
            "line": {
             "colorbar": {
              "outlinewidth": 0,
              "ticks": ""
             }
            },
            "type": "parcoords"
           }
          ],
          "pie": [
           {
            "automargin": true,
            "type": "pie"
           }
          ],
          "scatter": [
           {
            "fillpattern": {
             "fillmode": "overlay",
             "size": 10,
             "solidity": 0.2
            },
            "type": "scatter"
           }
          ],
          "scatter3d": [
           {
            "line": {
             "colorbar": {
              "outlinewidth": 0,
              "ticks": ""
             }
            },
            "marker": {
             "colorbar": {
              "outlinewidth": 0,
              "ticks": ""
             }
            },
            "type": "scatter3d"
           }
          ],
          "scattercarpet": [
           {
            "marker": {
             "colorbar": {
              "outlinewidth": 0,
              "ticks": ""
             }
            },
            "type": "scattercarpet"
           }
          ],
          "scattergeo": [
           {
            "marker": {
             "colorbar": {
              "outlinewidth": 0,
              "ticks": ""
             }
            },
            "type": "scattergeo"
           }
          ],
          "scattergl": [
           {
            "marker": {
             "colorbar": {
              "outlinewidth": 0,
              "ticks": ""
             }
            },
            "type": "scattergl"
           }
          ],
          "scattermapbox": [
           {
            "marker": {
             "colorbar": {
              "outlinewidth": 0,
              "ticks": ""
             }
            },
            "type": "scattermapbox"
           }
          ],
          "scatterpolar": [
           {
            "marker": {
             "colorbar": {
              "outlinewidth": 0,
              "ticks": ""
             }
            },
            "type": "scatterpolar"
           }
          ],
          "scatterpolargl": [
           {
            "marker": {
             "colorbar": {
              "outlinewidth": 0,
              "ticks": ""
             }
            },
            "type": "scatterpolargl"
           }
          ],
          "scatterternary": [
           {
            "marker": {
             "colorbar": {
              "outlinewidth": 0,
              "ticks": ""
             }
            },
            "type": "scatterternary"
           }
          ],
          "surface": [
           {
            "colorbar": {
             "outlinewidth": 0,
             "ticks": ""
            },
            "colorscale": [
             [
              0,
              "#0d0887"
             ],
             [
              0.1111111111111111,
              "#46039f"
             ],
             [
              0.2222222222222222,
              "#7201a8"
             ],
             [
              0.3333333333333333,
              "#9c179e"
             ],
             [
              0.4444444444444444,
              "#bd3786"
             ],
             [
              0.5555555555555556,
              "#d8576b"
             ],
             [
              0.6666666666666666,
              "#ed7953"
             ],
             [
              0.7777777777777778,
              "#fb9f3a"
             ],
             [
              0.8888888888888888,
              "#fdca26"
             ],
             [
              1,
              "#f0f921"
             ]
            ],
            "type": "surface"
           }
          ],
          "table": [
           {
            "cells": {
             "fill": {
              "color": "#EBF0F8"
             },
             "line": {
              "color": "white"
             }
            },
            "header": {
             "fill": {
              "color": "#C8D4E3"
             },
             "line": {
              "color": "white"
             }
            },
            "type": "table"
           }
          ]
         },
         "layout": {
          "annotationdefaults": {
           "arrowcolor": "#2a3f5f",
           "arrowhead": 0,
           "arrowwidth": 1
          },
          "autotypenumbers": "strict",
          "coloraxis": {
           "colorbar": {
            "outlinewidth": 0,
            "ticks": ""
           }
          },
          "colorscale": {
           "diverging": [
            [
             0,
             "#8e0152"
            ],
            [
             0.1,
             "#c51b7d"
            ],
            [
             0.2,
             "#de77ae"
            ],
            [
             0.3,
             "#f1b6da"
            ],
            [
             0.4,
             "#fde0ef"
            ],
            [
             0.5,
             "#f7f7f7"
            ],
            [
             0.6,
             "#e6f5d0"
            ],
            [
             0.7,
             "#b8e186"
            ],
            [
             0.8,
             "#7fbc41"
            ],
            [
             0.9,
             "#4d9221"
            ],
            [
             1,
             "#276419"
            ]
           ],
           "sequential": [
            [
             0,
             "#0d0887"
            ],
            [
             0.1111111111111111,
             "#46039f"
            ],
            [
             0.2222222222222222,
             "#7201a8"
            ],
            [
             0.3333333333333333,
             "#9c179e"
            ],
            [
             0.4444444444444444,
             "#bd3786"
            ],
            [
             0.5555555555555556,
             "#d8576b"
            ],
            [
             0.6666666666666666,
             "#ed7953"
            ],
            [
             0.7777777777777778,
             "#fb9f3a"
            ],
            [
             0.8888888888888888,
             "#fdca26"
            ],
            [
             1,
             "#f0f921"
            ]
           ],
           "sequentialminus": [
            [
             0,
             "#0d0887"
            ],
            [
             0.1111111111111111,
             "#46039f"
            ],
            [
             0.2222222222222222,
             "#7201a8"
            ],
            [
             0.3333333333333333,
             "#9c179e"
            ],
            [
             0.4444444444444444,
             "#bd3786"
            ],
            [
             0.5555555555555556,
             "#d8576b"
            ],
            [
             0.6666666666666666,
             "#ed7953"
            ],
            [
             0.7777777777777778,
             "#fb9f3a"
            ],
            [
             0.8888888888888888,
             "#fdca26"
            ],
            [
             1,
             "#f0f921"
            ]
           ]
          },
          "colorway": [
           "#636efa",
           "#EF553B",
           "#00cc96",
           "#ab63fa",
           "#FFA15A",
           "#19d3f3",
           "#FF6692",
           "#B6E880",
           "#FF97FF",
           "#FECB52"
          ],
          "font": {
           "color": "#2a3f5f"
          },
          "geo": {
           "bgcolor": "white",
           "lakecolor": "white",
           "landcolor": "#E5ECF6",
           "showlakes": true,
           "showland": true,
           "subunitcolor": "white"
          },
          "hoverlabel": {
           "align": "left"
          },
          "hovermode": "closest",
          "mapbox": {
           "style": "light"
          },
          "paper_bgcolor": "white",
          "plot_bgcolor": "#E5ECF6",
          "polar": {
           "angularaxis": {
            "gridcolor": "white",
            "linecolor": "white",
            "ticks": ""
           },
           "bgcolor": "#E5ECF6",
           "radialaxis": {
            "gridcolor": "white",
            "linecolor": "white",
            "ticks": ""
           }
          },
          "scene": {
           "xaxis": {
            "backgroundcolor": "#E5ECF6",
            "gridcolor": "white",
            "gridwidth": 2,
            "linecolor": "white",
            "showbackground": true,
            "ticks": "",
            "zerolinecolor": "white"
           },
           "yaxis": {
            "backgroundcolor": "#E5ECF6",
            "gridcolor": "white",
            "gridwidth": 2,
            "linecolor": "white",
            "showbackground": true,
            "ticks": "",
            "zerolinecolor": "white"
           },
           "zaxis": {
            "backgroundcolor": "#E5ECF6",
            "gridcolor": "white",
            "gridwidth": 2,
            "linecolor": "white",
            "showbackground": true,
            "ticks": "",
            "zerolinecolor": "white"
           }
          },
          "shapedefaults": {
           "line": {
            "color": "#2a3f5f"
           }
          },
          "ternary": {
           "aaxis": {
            "gridcolor": "white",
            "linecolor": "white",
            "ticks": ""
           },
           "baxis": {
            "gridcolor": "white",
            "linecolor": "white",
            "ticks": ""
           },
           "bgcolor": "#E5ECF6",
           "caxis": {
            "gridcolor": "white",
            "linecolor": "white",
            "ticks": ""
           }
          },
          "title": {
           "x": 0.05
          },
          "xaxis": {
           "automargin": true,
           "gridcolor": "white",
           "linecolor": "white",
           "ticks": "",
           "title": {
            "standoff": 15
           },
           "zerolinecolor": "white",
           "zerolinewidth": 2
          },
          "yaxis": {
           "automargin": true,
           "gridcolor": "white",
           "linecolor": "white",
           "ticks": "",
           "title": {
            "standoff": 15
           },
           "zerolinecolor": "white",
           "zerolinewidth": 2
          }
         }
        },
        "xaxis": {
         "title": {
          "text": "<i>x</i>"
         }
        },
        "yaxis": {
         "scaleanchor": "x",
         "scaleratio": 1,
         "title": {
          "text": "<i>y</i>"
         }
        }
       }
      }
     },
     "metadata": {},
     "output_type": "display_data"
    }
   ],
   "source": [
    "from stonesoup.plotter import Plotterly\n",
    "plotter = Plotterly()\n",
    "plotter.plot_ground_truths(truth_path, [0, 2])\n",
    "plotter.fig"
   ]
  },
  {
   "cell_type": "code",
   "execution_count": 5,
   "metadata": {},
   "outputs": [
    {
     "name": "stdout",
     "output_type": "stream",
     "text": [
      "[[1. 1. 0. 0.]\n",
      " [0. 1. 0. 0.]\n",
      " [0. 0. 1. 1.]\n",
      " [0. 0. 0. 1.]]\n",
      "[[0.01666667 0.025      0.         0.        ]\n",
      " [0.025      0.05       0.         0.        ]\n",
      " [0.         0.         0.01666667 0.025     ]\n",
      " [0.         0.         0.025      0.05      ]]\n"
     ]
    }
   ],
   "source": [
    "print(transition_model.matrix(time_interval=timedelta(seconds=1)))\n",
    "print(transition_model.covar(time_interval=timedelta(seconds=1)))"
   ]
  },
  {
   "attachments": {},
   "cell_type": "markdown",
   "metadata": {},
   "source": [
    "### Simulating some measurements\n",
    "We use a linear sensor model that can measure position (but not velocity) of a target such that:\n",
    "\n",
    "$$\n",
    "\\mathbf{z}_k = H_k \\mathbf{x}_k + \\mathbf{v}_k \\\\\n",
    "\\mathbf{v}_k \\sim \\mathcal{N}(0, R)\n",
    "$$\n",
    "\n",
    "where the matrices\n",
    "\n",
    "$$\n",
    "H_k = \\begin{bmatrix}\n",
    "1 & 0 & 0 & 0 \\\\\n",
    "0 & 0 & 1 & 0\n",
    "\\end{bmatrix} \\\\\n",
    "\n",
    "R = \\begin{bmatrix}\n",
    "1 & 0 \\\\\n",
    "0 & 1\n",
    "\\end{bmatrix} \\omega\n",
    "$$\n",
    "\n",
    "We set $\\omega = 5$ initially"
   ]
  },
  {
   "cell_type": "code",
   "execution_count": 6,
   "metadata": {},
   "outputs": [],
   "source": [
    "# We need the Detection type and a LinearGaussian measurement model\n",
    "from stonesoup.types.detection import Detection\n",
    "from stonesoup.models.measurement.linear import LinearGaussian"
   ]
  },
  {
   "attachments": {},
   "cell_type": "markdown",
   "metadata": {},
   "source": [
    "Let us set the linear Gaussian measurement by indicating the number of dimensions in the state vector and the dimensions that are measured (so $H_k$), and the noise covariance matrix, $R_k$."
   ]
  },
  {
   "cell_type": "code",
   "execution_count": 7,
   "metadata": {},
   "outputs": [
    {
     "name": "stdout",
     "output_type": "stream",
     "text": [
      "H_k =\n",
      "[[1. 0. 0. 0.]\n",
      " [0. 0. 1. 0.]]\n",
      "R   =\n",
      "[[5 0]\n",
      " [0 5]]\n"
     ]
    }
   ],
   "source": [
    "w = 5\n",
    "R = np.array([[1, 0],  # Covariance matrix for Gaussian PDF\n",
    "              [0, 1]]) * w\n",
    "\n",
    "measurement_model = LinearGaussian(\n",
    "    ndim_state=4,  # Number of state dimensions (position and velocity in 2D)\n",
    "    mapping=(0, 2),  # Mapping measurement vector index to state index\n",
    "    noise_covar=R\n",
    "    )\n",
    "\n",
    "print(f\"H_k =\\n{measurement_model.matrix()}\")\n",
    "print(f\"R   =\\n{R}\")"
   ]
  },
  {
   "attachments": {},
   "cell_type": "markdown",
   "metadata": {},
   "source": [
    "Now generate the measurements and results"
   ]
  },
  {
   "cell_type": "code",
   "execution_count": 8,
   "metadata": {},
   "outputs": [
    {
     "data": {
      "application/vnd.plotly.v1+json": {
       "config": {
        "plotlyServerURL": "https://plot.ly"
       },
       "data": [
        {
         "legendgroup": "Ground Truth",
         "legendrank": 100,
         "line": {
          "dash": "dash"
         },
         "mode": "lines",
         "name": "Ground Truth",
         "showlegend": true,
         "text": [
          "GroundTruthState<br>[[0]\n [1]\n [0]\n [1]]<br>2023-05-13 19:18:22.642571",
          "GroundTruthState<br>[[1.17722347]\n [1.17454005]\n [1.00067575]\n [0.98556448]]<br>2023-05-13 19:18:23.642571",
          "GroundTruthState<br>[[2.27546287]\n [1.00520515]\n [2.03072755]\n [1.03937242]]<br>2023-05-13 19:18:24.642571",
          "GroundTruthState<br>[[3.15603997]\n [0.84910364]\n [3.2076891 ]\n [1.238314  ]]<br>2023-05-13 19:18:25.642571",
          "GroundTruthState<br>[[4.11148457]\n [1.04478491]\n [4.68154658]\n [1.59084802]]<br>2023-05-13 19:18:26.642571",
          "GroundTruthState<br>[[5.0689187 ]\n [0.98798667]\n [6.42409632]\n [1.77577014]]<br>2023-05-13 19:18:27.642571",
          "GroundTruthState<br>[[6.13410397]\n [1.16811616]\n [8.29155731]\n [1.82192523]]<br>2023-05-13 19:18:28.642571",
          "GroundTruthState<br>[[ 7.33666159]\n [ 1.28324857]\n [10.21013307]\n [ 2.01430647]]<br>2023-05-13 19:18:29.642571",
          "GroundTruthState<br>[[ 8.70873977]\n [ 1.18677769]\n [12.63917113]\n [ 2.47937534]]<br>2023-05-13 19:18:30.642571",
          "GroundTruthState<br>[[ 9.66166897]\n [ 0.89282915]\n [15.07724044]\n [ 2.43028493]]<br>2023-05-13 19:18:31.642571",
          "GroundTruthState<br>[[10.28942728]\n [ 0.69092971]\n [17.46388039]\n [ 2.28585283]]<br>2023-05-13 19:18:32.642571",
          "GroundTruthState<br>[[10.90851618]\n [ 0.63559754]\n [19.92298759]\n [ 2.27795093]]<br>2023-05-13 19:18:33.642571",
          "GroundTruthState<br>[[11.43649485]\n [ 0.70608914]\n [22.43523846]\n [ 2.6968977 ]]<br>2023-05-13 19:18:34.642571",
          "GroundTruthState<br>[[12.08375738]\n [ 0.66391157]\n [25.22625371]\n [ 2.76051945]]<br>2023-05-13 19:18:35.642571",
          "GroundTruthState<br>[[12.85725554]\n [ 0.88012337]\n [28.31708702]\n [ 3.36182071]]<br>2023-05-13 19:18:36.642571",
          "GroundTruthState<br>[[13.66400938]\n [ 0.90965246]\n [31.65360028]\n [ 3.31134733]]<br>2023-05-13 19:18:37.642571",
          "GroundTruthState<br>[[14.660942  ]\n [ 1.13570134]\n [34.95982666]\n [ 3.21269825]]<br>2023-05-13 19:18:38.642571",
          "GroundTruthState<br>[[15.76369159]\n [ 1.16458455]\n [38.32678424]\n [ 3.36652349]]<br>2023-05-13 19:18:39.642571",
          "GroundTruthState<br>[[16.99429758]\n [ 1.13128308]\n [41.65059656]\n [ 3.38707982]]<br>2023-05-13 19:18:40.642571",
          "GroundTruthState<br>[[18.30211424]\n [ 1.43090003]\n [44.94718307]\n [ 3.18966342]]<br>2023-05-13 19:18:41.642571",
          "GroundTruthState<br>[[19.71972436]\n [ 1.53880955]\n [48.06695869]\n [ 3.14773137]]<br>2023-05-13 19:18:42.642571"
         ],
         "type": "scatter",
         "x": [
          0,
          1.177223465328352,
          2.275462874700381,
          3.1560399703547968,
          4.111484568780832,
          5.068918699968233,
          6.134103970132443,
          7.336661592351442,
          8.708739774094603,
          9.661668970928952,
          10.289427281808946,
          10.90851617793013,
          11.43649485409589,
          12.083757383111484,
          12.857255540294034,
          13.664009379110706,
          14.66094199646186,
          15.763691585187017,
          16.994297584708757,
          18.302114239501268,
          19.71972436026734
         ],
         "y": [
          0,
          1.0006757513847795,
          2.0307275520116606,
          3.2076890985336823,
          4.681546580969336,
          6.424096316700446,
          8.291557310607626,
          10.210133065599429,
          12.639171131337447,
          15.077240437037124,
          17.463880393414996,
          19.922987588268054,
          22.43523846129129,
          25.226253707256983,
          28.317087024384634,
          31.653600280950233,
          34.95982666405545,
          38.32678424492485,
          41.65059655664205,
          44.94718306572588,
          48.066958689446075
         ]
        },
        {
         "legendgroup": "Measurements<br>(Detections)",
         "legendrank": 200,
         "marker": {
          "color": "#636EFA"
         },
         "mode": "markers",
         "name": "Measurements<br>(Detections)",
         "showlegend": true,
         "text": [
          "Detection<br>[[12.37776725]\n [18.69665359]]<br>2023-05-13 19:18:34.642571",
          "Detection<br>[[ 6.74269277]\n [13.28218791]]<br>2023-05-13 19:18:29.642571",
          "Detection<br>[[-4.94702639]\n [ 0.75235921]]<br>2023-05-13 19:18:22.642571",
          "Detection<br>[[ 6.44454291]\n [11.9278038 ]]<br>2023-05-13 19:18:30.642571",
          "Detection<br>[[9.65261892]\n [7.93091189]]<br>2023-05-13 19:18:28.642571",
          "Detection<br>[[12.76092353]\n [29.5048618 ]]<br>2023-05-13 19:18:35.642571",
          "Detection<br>[[0.43331033]\n [3.4843533 ]]<br>2023-05-13 19:18:23.642571",
          "Detection<br>[[3.24954482]\n [4.86484198]]<br>2023-05-13 19:18:26.642571",
          "Detection<br>[[17.73421886]\n [40.74056178]]<br>2023-05-13 19:18:40.642571",
          "Detection<br>[[10.99975089]\n [35.38740607]]<br>2023-05-13 19:18:37.642571",
          "Detection<br>[[10.347355  ]\n [18.39026726]]<br>2023-05-13 19:18:32.642571",
          "Detection<br>[[14.30482609]\n [33.61534578]]<br>2023-05-13 19:18:38.642571",
          "Detection<br>[[13.0241746]\n [35.7308439]]<br>2023-05-13 19:18:39.642571",
          "Detection<br>[[19.55745386]\n [43.76709946]]<br>2023-05-13 19:18:42.642571",
          "Detection<br>[[ 1.03160677]\n [-5.36465746]]<br>2023-05-13 19:18:24.642571",
          "Detection<br>[[4.4296592 ]\n [4.08231481]]<br>2023-05-13 19:18:27.642571",
          "Detection<br>[[15.38646046]\n [42.24745638]]<br>2023-05-13 19:18:41.642571",
          "Detection<br>[[0.38724495]\n [1.83877647]]<br>2023-05-13 19:18:25.642571",
          "Detection<br>[[11.76624166]\n [26.2545183 ]]<br>2023-05-13 19:18:36.642571",
          "Detection<br>[[6.88610663]\n [9.83618951]]<br>2023-05-13 19:18:31.642571",
          "Detection<br>[[ 9.94273147]\n [19.43402688]]<br>2023-05-13 19:18:33.642571"
         ],
         "type": "scatter",
         "x": [
          12.37776724729311,
          6.742692771043784,
          -4.947026392776351,
          6.444542906447699,
          9.65261892498846,
          12.760923526252308,
          0.4333103287927663,
          3.249544818273506,
          17.73421886031416,
          10.99975089333293,
          10.34735500492006,
          14.304826090161862,
          13.0241745978485,
          19.557453856720336,
          1.0316067719768662,
          4.429659201473883,
          15.386460456597847,
          0.38724495482978805,
          11.766241658361892,
          6.886106629622459,
          9.942731465275097
         ],
         "y": [
          18.696653585066976,
          13.282187905773013,
          0.7523592067096598,
          11.92780380263929,
          7.930911894822592,
          29.50486179528591,
          3.4843533044159924,
          4.864841977711805,
          40.74056178416422,
          35.38740606785313,
          18.390267259414063,
          33.61534578225087,
          35.73084389951919,
          43.76709946432637,
          -5.36465746159668,
          4.082314812698975,
          42.24745637622229,
          1.838776473593905,
          26.254518300598164,
          9.836189511039954,
          19.434026883029095
         ]
        }
       ],
       "layout": {
        "colorway": [
         "#636EFA",
         "#EF553B",
         "#00CC96",
         "#AB63FA",
         "#FFA15A",
         "#19D3F3",
         "#FF6692",
         "#B6E880",
         "#FF97FF",
         "#FECB52"
        ],
        "template": {
         "data": {
          "bar": [
           {
            "error_x": {
             "color": "#2a3f5f"
            },
            "error_y": {
             "color": "#2a3f5f"
            },
            "marker": {
             "line": {
              "color": "#E5ECF6",
              "width": 0.5
             },
             "pattern": {
              "fillmode": "overlay",
              "size": 10,
              "solidity": 0.2
             }
            },
            "type": "bar"
           }
          ],
          "barpolar": [
           {
            "marker": {
             "line": {
              "color": "#E5ECF6",
              "width": 0.5
             },
             "pattern": {
              "fillmode": "overlay",
              "size": 10,
              "solidity": 0.2
             }
            },
            "type": "barpolar"
           }
          ],
          "carpet": [
           {
            "aaxis": {
             "endlinecolor": "#2a3f5f",
             "gridcolor": "white",
             "linecolor": "white",
             "minorgridcolor": "white",
             "startlinecolor": "#2a3f5f"
            },
            "baxis": {
             "endlinecolor": "#2a3f5f",
             "gridcolor": "white",
             "linecolor": "white",
             "minorgridcolor": "white",
             "startlinecolor": "#2a3f5f"
            },
            "type": "carpet"
           }
          ],
          "choropleth": [
           {
            "colorbar": {
             "outlinewidth": 0,
             "ticks": ""
            },
            "type": "choropleth"
           }
          ],
          "contour": [
           {
            "colorbar": {
             "outlinewidth": 0,
             "ticks": ""
            },
            "colorscale": [
             [
              0,
              "#0d0887"
             ],
             [
              0.1111111111111111,
              "#46039f"
             ],
             [
              0.2222222222222222,
              "#7201a8"
             ],
             [
              0.3333333333333333,
              "#9c179e"
             ],
             [
              0.4444444444444444,
              "#bd3786"
             ],
             [
              0.5555555555555556,
              "#d8576b"
             ],
             [
              0.6666666666666666,
              "#ed7953"
             ],
             [
              0.7777777777777778,
              "#fb9f3a"
             ],
             [
              0.8888888888888888,
              "#fdca26"
             ],
             [
              1,
              "#f0f921"
             ]
            ],
            "type": "contour"
           }
          ],
          "contourcarpet": [
           {
            "colorbar": {
             "outlinewidth": 0,
             "ticks": ""
            },
            "type": "contourcarpet"
           }
          ],
          "heatmap": [
           {
            "colorbar": {
             "outlinewidth": 0,
             "ticks": ""
            },
            "colorscale": [
             [
              0,
              "#0d0887"
             ],
             [
              0.1111111111111111,
              "#46039f"
             ],
             [
              0.2222222222222222,
              "#7201a8"
             ],
             [
              0.3333333333333333,
              "#9c179e"
             ],
             [
              0.4444444444444444,
              "#bd3786"
             ],
             [
              0.5555555555555556,
              "#d8576b"
             ],
             [
              0.6666666666666666,
              "#ed7953"
             ],
             [
              0.7777777777777778,
              "#fb9f3a"
             ],
             [
              0.8888888888888888,
              "#fdca26"
             ],
             [
              1,
              "#f0f921"
             ]
            ],
            "type": "heatmap"
           }
          ],
          "heatmapgl": [
           {
            "colorbar": {
             "outlinewidth": 0,
             "ticks": ""
            },
            "colorscale": [
             [
              0,
              "#0d0887"
             ],
             [
              0.1111111111111111,
              "#46039f"
             ],
             [
              0.2222222222222222,
              "#7201a8"
             ],
             [
              0.3333333333333333,
              "#9c179e"
             ],
             [
              0.4444444444444444,
              "#bd3786"
             ],
             [
              0.5555555555555556,
              "#d8576b"
             ],
             [
              0.6666666666666666,
              "#ed7953"
             ],
             [
              0.7777777777777778,
              "#fb9f3a"
             ],
             [
              0.8888888888888888,
              "#fdca26"
             ],
             [
              1,
              "#f0f921"
             ]
            ],
            "type": "heatmapgl"
           }
          ],
          "histogram": [
           {
            "marker": {
             "pattern": {
              "fillmode": "overlay",
              "size": 10,
              "solidity": 0.2
             }
            },
            "type": "histogram"
           }
          ],
          "histogram2d": [
           {
            "colorbar": {
             "outlinewidth": 0,
             "ticks": ""
            },
            "colorscale": [
             [
              0,
              "#0d0887"
             ],
             [
              0.1111111111111111,
              "#46039f"
             ],
             [
              0.2222222222222222,
              "#7201a8"
             ],
             [
              0.3333333333333333,
              "#9c179e"
             ],
             [
              0.4444444444444444,
              "#bd3786"
             ],
             [
              0.5555555555555556,
              "#d8576b"
             ],
             [
              0.6666666666666666,
              "#ed7953"
             ],
             [
              0.7777777777777778,
              "#fb9f3a"
             ],
             [
              0.8888888888888888,
              "#fdca26"
             ],
             [
              1,
              "#f0f921"
             ]
            ],
            "type": "histogram2d"
           }
          ],
          "histogram2dcontour": [
           {
            "colorbar": {
             "outlinewidth": 0,
             "ticks": ""
            },
            "colorscale": [
             [
              0,
              "#0d0887"
             ],
             [
              0.1111111111111111,
              "#46039f"
             ],
             [
              0.2222222222222222,
              "#7201a8"
             ],
             [
              0.3333333333333333,
              "#9c179e"
             ],
             [
              0.4444444444444444,
              "#bd3786"
             ],
             [
              0.5555555555555556,
              "#d8576b"
             ],
             [
              0.6666666666666666,
              "#ed7953"
             ],
             [
              0.7777777777777778,
              "#fb9f3a"
             ],
             [
              0.8888888888888888,
              "#fdca26"
             ],
             [
              1,
              "#f0f921"
             ]
            ],
            "type": "histogram2dcontour"
           }
          ],
          "mesh3d": [
           {
            "colorbar": {
             "outlinewidth": 0,
             "ticks": ""
            },
            "type": "mesh3d"
           }
          ],
          "parcoords": [
           {
            "line": {
             "colorbar": {
              "outlinewidth": 0,
              "ticks": ""
             }
            },
            "type": "parcoords"
           }
          ],
          "pie": [
           {
            "automargin": true,
            "type": "pie"
           }
          ],
          "scatter": [
           {
            "fillpattern": {
             "fillmode": "overlay",
             "size": 10,
             "solidity": 0.2
            },
            "type": "scatter"
           }
          ],
          "scatter3d": [
           {
            "line": {
             "colorbar": {
              "outlinewidth": 0,
              "ticks": ""
             }
            },
            "marker": {
             "colorbar": {
              "outlinewidth": 0,
              "ticks": ""
             }
            },
            "type": "scatter3d"
           }
          ],
          "scattercarpet": [
           {
            "marker": {
             "colorbar": {
              "outlinewidth": 0,
              "ticks": ""
             }
            },
            "type": "scattercarpet"
           }
          ],
          "scattergeo": [
           {
            "marker": {
             "colorbar": {
              "outlinewidth": 0,
              "ticks": ""
             }
            },
            "type": "scattergeo"
           }
          ],
          "scattergl": [
           {
            "marker": {
             "colorbar": {
              "outlinewidth": 0,
              "ticks": ""
             }
            },
            "type": "scattergl"
           }
          ],
          "scattermapbox": [
           {
            "marker": {
             "colorbar": {
              "outlinewidth": 0,
              "ticks": ""
             }
            },
            "type": "scattermapbox"
           }
          ],
          "scatterpolar": [
           {
            "marker": {
             "colorbar": {
              "outlinewidth": 0,
              "ticks": ""
             }
            },
            "type": "scatterpolar"
           }
          ],
          "scatterpolargl": [
           {
            "marker": {
             "colorbar": {
              "outlinewidth": 0,
              "ticks": ""
             }
            },
            "type": "scatterpolargl"
           }
          ],
          "scatterternary": [
           {
            "marker": {
             "colorbar": {
              "outlinewidth": 0,
              "ticks": ""
             }
            },
            "type": "scatterternary"
           }
          ],
          "surface": [
           {
            "colorbar": {
             "outlinewidth": 0,
             "ticks": ""
            },
            "colorscale": [
             [
              0,
              "#0d0887"
             ],
             [
              0.1111111111111111,
              "#46039f"
             ],
             [
              0.2222222222222222,
              "#7201a8"
             ],
             [
              0.3333333333333333,
              "#9c179e"
             ],
             [
              0.4444444444444444,
              "#bd3786"
             ],
             [
              0.5555555555555556,
              "#d8576b"
             ],
             [
              0.6666666666666666,
              "#ed7953"
             ],
             [
              0.7777777777777778,
              "#fb9f3a"
             ],
             [
              0.8888888888888888,
              "#fdca26"
             ],
             [
              1,
              "#f0f921"
             ]
            ],
            "type": "surface"
           }
          ],
          "table": [
           {
            "cells": {
             "fill": {
              "color": "#EBF0F8"
             },
             "line": {
              "color": "white"
             }
            },
            "header": {
             "fill": {
              "color": "#C8D4E3"
             },
             "line": {
              "color": "white"
             }
            },
            "type": "table"
           }
          ]
         },
         "layout": {
          "annotationdefaults": {
           "arrowcolor": "#2a3f5f",
           "arrowhead": 0,
           "arrowwidth": 1
          },
          "autotypenumbers": "strict",
          "coloraxis": {
           "colorbar": {
            "outlinewidth": 0,
            "ticks": ""
           }
          },
          "colorscale": {
           "diverging": [
            [
             0,
             "#8e0152"
            ],
            [
             0.1,
             "#c51b7d"
            ],
            [
             0.2,
             "#de77ae"
            ],
            [
             0.3,
             "#f1b6da"
            ],
            [
             0.4,
             "#fde0ef"
            ],
            [
             0.5,
             "#f7f7f7"
            ],
            [
             0.6,
             "#e6f5d0"
            ],
            [
             0.7,
             "#b8e186"
            ],
            [
             0.8,
             "#7fbc41"
            ],
            [
             0.9,
             "#4d9221"
            ],
            [
             1,
             "#276419"
            ]
           ],
           "sequential": [
            [
             0,
             "#0d0887"
            ],
            [
             0.1111111111111111,
             "#46039f"
            ],
            [
             0.2222222222222222,
             "#7201a8"
            ],
            [
             0.3333333333333333,
             "#9c179e"
            ],
            [
             0.4444444444444444,
             "#bd3786"
            ],
            [
             0.5555555555555556,
             "#d8576b"
            ],
            [
             0.6666666666666666,
             "#ed7953"
            ],
            [
             0.7777777777777778,
             "#fb9f3a"
            ],
            [
             0.8888888888888888,
             "#fdca26"
            ],
            [
             1,
             "#f0f921"
            ]
           ],
           "sequentialminus": [
            [
             0,
             "#0d0887"
            ],
            [
             0.1111111111111111,
             "#46039f"
            ],
            [
             0.2222222222222222,
             "#7201a8"
            ],
            [
             0.3333333333333333,
             "#9c179e"
            ],
            [
             0.4444444444444444,
             "#bd3786"
            ],
            [
             0.5555555555555556,
             "#d8576b"
            ],
            [
             0.6666666666666666,
             "#ed7953"
            ],
            [
             0.7777777777777778,
             "#fb9f3a"
            ],
            [
             0.8888888888888888,
             "#fdca26"
            ],
            [
             1,
             "#f0f921"
            ]
           ]
          },
          "colorway": [
           "#636efa",
           "#EF553B",
           "#00cc96",
           "#ab63fa",
           "#FFA15A",
           "#19d3f3",
           "#FF6692",
           "#B6E880",
           "#FF97FF",
           "#FECB52"
          ],
          "font": {
           "color": "#2a3f5f"
          },
          "geo": {
           "bgcolor": "white",
           "lakecolor": "white",
           "landcolor": "#E5ECF6",
           "showlakes": true,
           "showland": true,
           "subunitcolor": "white"
          },
          "hoverlabel": {
           "align": "left"
          },
          "hovermode": "closest",
          "mapbox": {
           "style": "light"
          },
          "paper_bgcolor": "white",
          "plot_bgcolor": "#E5ECF6",
          "polar": {
           "angularaxis": {
            "gridcolor": "white",
            "linecolor": "white",
            "ticks": ""
           },
           "bgcolor": "#E5ECF6",
           "radialaxis": {
            "gridcolor": "white",
            "linecolor": "white",
            "ticks": ""
           }
          },
          "scene": {
           "xaxis": {
            "backgroundcolor": "#E5ECF6",
            "gridcolor": "white",
            "gridwidth": 2,
            "linecolor": "white",
            "showbackground": true,
            "ticks": "",
            "zerolinecolor": "white"
           },
           "yaxis": {
            "backgroundcolor": "#E5ECF6",
            "gridcolor": "white",
            "gridwidth": 2,
            "linecolor": "white",
            "showbackground": true,
            "ticks": "",
            "zerolinecolor": "white"
           },
           "zaxis": {
            "backgroundcolor": "#E5ECF6",
            "gridcolor": "white",
            "gridwidth": 2,
            "linecolor": "white",
            "showbackground": true,
            "ticks": "",
            "zerolinecolor": "white"
           }
          },
          "shapedefaults": {
           "line": {
            "color": "#2a3f5f"
           }
          },
          "ternary": {
           "aaxis": {
            "gridcolor": "white",
            "linecolor": "white",
            "ticks": ""
           },
           "baxis": {
            "gridcolor": "white",
            "linecolor": "white",
            "ticks": ""
           },
           "bgcolor": "#E5ECF6",
           "caxis": {
            "gridcolor": "white",
            "linecolor": "white",
            "ticks": ""
           }
          },
          "title": {
           "x": 0.05
          },
          "xaxis": {
           "automargin": true,
           "gridcolor": "white",
           "linecolor": "white",
           "ticks": "",
           "title": {
            "standoff": 15
           },
           "zerolinecolor": "white",
           "zerolinewidth": 2
          },
          "yaxis": {
           "automargin": true,
           "gridcolor": "white",
           "linecolor": "white",
           "ticks": "",
           "title": {
            "standoff": 15
           },
           "zerolinecolor": "white",
           "zerolinewidth": 2
          }
         }
        },
        "xaxis": {
         "title": {
          "text": "<i>x</i>"
         }
        },
        "yaxis": {
         "scaleanchor": "x",
         "scaleratio": 1,
         "title": {
          "text": "<i>y</i>"
         }
        }
       }
      }
     },
     "metadata": {},
     "output_type": "display_data"
    }
   ],
   "source": [
    "# Generate the measurements\n",
    "measurements = []\n",
    "for state in truth_path:\n",
    "    measurement = measurement_model.function(state, noise=True)\n",
    "    measurements.append(Detection(measurement,\n",
    "                                  timestamp=state.timestamp,\n",
    "                                  measurement_model=measurement_model))\n",
    "\n",
    "# Plot thie results\n",
    "plotter.plot_measurements(measurements, [0, 2])\n",
    "plotter.fig"
   ]
  },
  {
   "attachments": {},
   "cell_type": "markdown",
   "metadata": {},
   "source": [
    "### Construct a Kalman Filter"
   ]
  },
  {
   "cell_type": "code",
   "execution_count": 9,
   "metadata": {},
   "outputs": [],
   "source": [
    "# Construct a Kalman predictor and updater\n",
    "from stonesoup.predictor.kalman import KalmanPredictor\n",
    "predictor = KalmanPredictor(transition_model)\n",
    "\n",
    "from stonesoup.updater.kalman import KalmanUpdater\n",
    "updater = KalmanUpdater(measurement_model)\n",
    "\n",
    "# Run the Kalman filter\n",
    "from stonesoup.types.state import GaussianState\n",
    "prior = GaussianState([[0], [1], [0], [1]], np.diag([1.5, 0.5, 1.5, 0.5]), timestamp=start_time)\n",
    "\n",
    "from stonesoup.types.hypothesis import SingleHypothesis\n",
    "\n",
    "from stonesoup.types.track import Track\n",
    "track = Track()\n",
    "for measurement in measurements:\n",
    "    prediction = predictor.predict(prior, timestamp=measurement.timestamp)\n",
    "    hypothesis = SingleHypothesis(prediction, measurement)  # Group a prediction and measurement\n",
    "    post = updater.update(hypothesis)\n",
    "    track.append(post)\n",
    "    prior = track[-1]"
   ]
  },
  {
   "cell_type": "code",
   "execution_count": 10,
   "metadata": {},
   "outputs": [
    {
     "data": {
      "application/vnd.plotly.v1+json": {
       "config": {
        "plotlyServerURL": "https://plot.ly"
       },
       "data": [
        {
         "legendgroup": "Ground Truth",
         "legendrank": 100,
         "line": {
          "dash": "dash"
         },
         "mode": "lines",
         "name": "Ground Truth",
         "showlegend": true,
         "text": [
          "GroundTruthState<br>[[0]\n [1]\n [0]\n [1]]<br>2023-05-13 19:18:22.642571",
          "GroundTruthState<br>[[1.17722347]\n [1.17454005]\n [1.00067575]\n [0.98556448]]<br>2023-05-13 19:18:23.642571",
          "GroundTruthState<br>[[2.27546287]\n [1.00520515]\n [2.03072755]\n [1.03937242]]<br>2023-05-13 19:18:24.642571",
          "GroundTruthState<br>[[3.15603997]\n [0.84910364]\n [3.2076891 ]\n [1.238314  ]]<br>2023-05-13 19:18:25.642571",
          "GroundTruthState<br>[[4.11148457]\n [1.04478491]\n [4.68154658]\n [1.59084802]]<br>2023-05-13 19:18:26.642571",
          "GroundTruthState<br>[[5.0689187 ]\n [0.98798667]\n [6.42409632]\n [1.77577014]]<br>2023-05-13 19:18:27.642571",
          "GroundTruthState<br>[[6.13410397]\n [1.16811616]\n [8.29155731]\n [1.82192523]]<br>2023-05-13 19:18:28.642571",
          "GroundTruthState<br>[[ 7.33666159]\n [ 1.28324857]\n [10.21013307]\n [ 2.01430647]]<br>2023-05-13 19:18:29.642571",
          "GroundTruthState<br>[[ 8.70873977]\n [ 1.18677769]\n [12.63917113]\n [ 2.47937534]]<br>2023-05-13 19:18:30.642571",
          "GroundTruthState<br>[[ 9.66166897]\n [ 0.89282915]\n [15.07724044]\n [ 2.43028493]]<br>2023-05-13 19:18:31.642571",
          "GroundTruthState<br>[[10.28942728]\n [ 0.69092971]\n [17.46388039]\n [ 2.28585283]]<br>2023-05-13 19:18:32.642571",
          "GroundTruthState<br>[[10.90851618]\n [ 0.63559754]\n [19.92298759]\n [ 2.27795093]]<br>2023-05-13 19:18:33.642571",
          "GroundTruthState<br>[[11.43649485]\n [ 0.70608914]\n [22.43523846]\n [ 2.6968977 ]]<br>2023-05-13 19:18:34.642571",
          "GroundTruthState<br>[[12.08375738]\n [ 0.66391157]\n [25.22625371]\n [ 2.76051945]]<br>2023-05-13 19:18:35.642571",
          "GroundTruthState<br>[[12.85725554]\n [ 0.88012337]\n [28.31708702]\n [ 3.36182071]]<br>2023-05-13 19:18:36.642571",
          "GroundTruthState<br>[[13.66400938]\n [ 0.90965246]\n [31.65360028]\n [ 3.31134733]]<br>2023-05-13 19:18:37.642571",
          "GroundTruthState<br>[[14.660942  ]\n [ 1.13570134]\n [34.95982666]\n [ 3.21269825]]<br>2023-05-13 19:18:38.642571",
          "GroundTruthState<br>[[15.76369159]\n [ 1.16458455]\n [38.32678424]\n [ 3.36652349]]<br>2023-05-13 19:18:39.642571",
          "GroundTruthState<br>[[16.99429758]\n [ 1.13128308]\n [41.65059656]\n [ 3.38707982]]<br>2023-05-13 19:18:40.642571",
          "GroundTruthState<br>[[18.30211424]\n [ 1.43090003]\n [44.94718307]\n [ 3.18966342]]<br>2023-05-13 19:18:41.642571",
          "GroundTruthState<br>[[19.71972436]\n [ 1.53880955]\n [48.06695869]\n [ 3.14773137]]<br>2023-05-13 19:18:42.642571"
         ],
         "type": "scatter",
         "x": [
          0,
          1.177223465328352,
          2.275462874700381,
          3.1560399703547968,
          4.111484568780832,
          5.068918699968233,
          6.134103970132443,
          7.336661592351442,
          8.708739774094603,
          9.661668970928952,
          10.289427281808946,
          10.90851617793013,
          11.43649485409589,
          12.083757383111484,
          12.857255540294034,
          13.664009379110706,
          14.66094199646186,
          15.763691585187017,
          16.994297584708757,
          18.302114239501268,
          19.71972436026734
         ],
         "y": [
          0,
          1.0006757513847795,
          2.0307275520116606,
          3.2076890985336823,
          4.681546580969336,
          6.424096316700446,
          8.291557310607626,
          10.210133065599429,
          12.639171131337447,
          15.077240437037124,
          17.463880393414996,
          19.922987588268054,
          22.43523846129129,
          25.226253707256983,
          28.317087024384634,
          31.653600280950233,
          34.95982666405545,
          38.32678424492485,
          41.65059655664205,
          44.94718306572588,
          48.066958689446075
         ]
        },
        {
         "legendgroup": "Measurements<br>(Detections)",
         "legendrank": 200,
         "marker": {
          "color": "#636EFA"
         },
         "mode": "markers",
         "name": "Measurements<br>(Detections)",
         "showlegend": true,
         "text": [
          "Detection<br>[[12.37776725]\n [18.69665359]]<br>2023-05-13 19:18:34.642571",
          "Detection<br>[[ 6.74269277]\n [13.28218791]]<br>2023-05-13 19:18:29.642571",
          "Detection<br>[[-4.94702639]\n [ 0.75235921]]<br>2023-05-13 19:18:22.642571",
          "Detection<br>[[ 6.44454291]\n [11.9278038 ]]<br>2023-05-13 19:18:30.642571",
          "Detection<br>[[9.65261892]\n [7.93091189]]<br>2023-05-13 19:18:28.642571",
          "Detection<br>[[12.76092353]\n [29.5048618 ]]<br>2023-05-13 19:18:35.642571",
          "Detection<br>[[0.43331033]\n [3.4843533 ]]<br>2023-05-13 19:18:23.642571",
          "Detection<br>[[3.24954482]\n [4.86484198]]<br>2023-05-13 19:18:26.642571",
          "Detection<br>[[17.73421886]\n [40.74056178]]<br>2023-05-13 19:18:40.642571",
          "Detection<br>[[10.99975089]\n [35.38740607]]<br>2023-05-13 19:18:37.642571",
          "Detection<br>[[10.347355  ]\n [18.39026726]]<br>2023-05-13 19:18:32.642571",
          "Detection<br>[[14.30482609]\n [33.61534578]]<br>2023-05-13 19:18:38.642571",
          "Detection<br>[[13.0241746]\n [35.7308439]]<br>2023-05-13 19:18:39.642571",
          "Detection<br>[[19.55745386]\n [43.76709946]]<br>2023-05-13 19:18:42.642571",
          "Detection<br>[[ 1.03160677]\n [-5.36465746]]<br>2023-05-13 19:18:24.642571",
          "Detection<br>[[4.4296592 ]\n [4.08231481]]<br>2023-05-13 19:18:27.642571",
          "Detection<br>[[15.38646046]\n [42.24745638]]<br>2023-05-13 19:18:41.642571",
          "Detection<br>[[0.38724495]\n [1.83877647]]<br>2023-05-13 19:18:25.642571",
          "Detection<br>[[11.76624166]\n [26.2545183 ]]<br>2023-05-13 19:18:36.642571",
          "Detection<br>[[6.88610663]\n [9.83618951]]<br>2023-05-13 19:18:31.642571",
          "Detection<br>[[ 9.94273147]\n [19.43402688]]<br>2023-05-13 19:18:33.642571"
         ],
         "type": "scatter",
         "x": [
          12.37776724729311,
          6.742692771043784,
          -4.947026392776351,
          6.444542906447699,
          9.65261892498846,
          12.760923526252308,
          0.4333103287927663,
          3.249544818273506,
          17.73421886031416,
          10.99975089333293,
          10.34735500492006,
          14.304826090161862,
          13.0241745978485,
          19.557453856720336,
          1.0316067719768662,
          4.429659201473883,
          15.386460456597847,
          0.38724495482978805,
          11.766241658361892,
          6.886106629622459,
          9.942731465275097
         ],
         "y": [
          18.696653585066976,
          13.282187905773013,
          0.7523592067096598,
          11.92780380263929,
          7.930911894822592,
          29.50486179528591,
          3.4843533044159924,
          4.864841977711805,
          40.74056178416422,
          35.38740606785313,
          18.390267259414063,
          33.61534578225087,
          35.73084389951919,
          43.76709946432637,
          -5.36465746159668,
          4.082314812698975,
          42.24745637622229,
          1.838776473593905,
          26.254518300598164,
          9.836189511039954,
          19.434026883029095
         ]
        },
        {
         "legendgroup": "Tracks",
         "legendrank": 300,
         "marker": {
          "symbol": [
           "square",
           "square",
           "square",
           "square",
           "square",
           "square",
           "square",
           "square",
           "square",
           "square",
           "square",
           "square",
           "square",
           "square",
           "square",
           "square",
           "square",
           "square",
           "square",
           "square",
           "square"
          ]
         },
         "mode": "markers+lines",
         "name": "Tracks",
         "showlegend": true,
         "text": [
          "GaussianStateUpdate<br>[[-1.14162148]\n [ 1.        ]\n [ 0.17362136]\n [ 1.        ]]<br>2023-05-13 19:18:22.642571",
          "GaussianStateUpdate<br>[[0.0023601 ]\n [1.04524977]\n [1.7523036 ]\n [1.18186522]]<br>2023-05-13 19:18:23.642571",
          "GaussianStateUpdate<br>[[1.04218446]\n [1.04328824]\n [0.12067934]\n [0.16466101]]<br>2023-05-13 19:18:24.642571",
          "GaussianStateUpdate<br>[[1.40020139]\n [0.82390392]\n [0.91218514]\n [0.36534053]]<br>2023-05-13 19:18:25.642571",
          "GaussianStateUpdate<br>[[2.65893925]\n [0.94510324]\n [2.79871427]\n [0.78933463]]<br>2023-05-13 19:18:26.642571",
          "GaussianStateUpdate<br>[[3.94979959]\n [1.03146152]\n [3.79504077]\n [0.84103411]]<br>2023-05-13 19:18:27.642571",
          "GaussianStateUpdate<br>[[6.87083311]\n [1.46972497]\n [5.96884193]\n [1.15015336]]<br>2023-05-13 19:18:28.642571",
          "GaussianStateUpdate<br>[[7.71780858]\n [1.33127091]\n [9.52102823]\n [1.68419025]]<br>2023-05-13 19:18:29.642571",
          "GaussianStateUpdate<br>[[ 8.0650501 ]\n [ 1.11653055]\n [11.47822105]\n [ 1.74376639]]<br>2023-05-13 19:18:30.642571",
          "GaussianStateUpdate<br>[[ 8.33345722]\n [ 0.93215564]\n [11.97101508]\n [ 1.47181551]]<br>2023-05-13 19:18:31.642571",
          "GaussianStateUpdate<br>[[ 9.65973092]\n [ 1.01812819]\n [15.24536195]\n [ 1.86501803]]<br>2023-05-13 19:18:32.642571",
          "GaussianStateUpdate<br>[[10.41204405]\n [ 0.9598177 ]\n [17.95058828]\n [ 2.04933024]]<br>2023-05-13 19:18:33.642571",
          "GaussianStateUpdate<br>[[11.73439103]\n [ 1.0397479 ]\n [19.53022061]\n [ 1.94577157]]<br>2023-05-13 19:18:34.642571",
          "GaussianStateUpdate<br>[[12.7693803 ]\n [ 1.03869499]\n [24.36704162]\n [ 2.58545277]]<br>2023-05-13 19:18:35.642571",
          "GaussianStateUpdate<br>[[13.07269394]\n [ 0.87565433]\n [26.70111318]\n [ 2.52971929]]<br>2023-05-13 19:18:36.642571",
          "GaussianStateUpdate<br>[[12.88582749]\n [ 0.63987785]\n [31.44934065]\n [ 3.02201277]]<br>2023-05-13 19:18:37.642571",
          "GaussianStateUpdate<br>[[13.80659331]\n [ 0.70221928]\n [34.16274625]\n [ 2.95351923]]<br>2023-05-13 19:18:38.642571",
          "GaussianStateUpdate<br>[[13.9734112 ]\n [ 0.58340708]\n [36.61664426]\n [ 2.8426471 ]]<br>2023-05-13 19:18:39.642571",
          "GaussianStateUpdate<br>[[15.70282833]\n [ 0.83765981]\n [39.92141402]\n [ 2.94517321]]<br>2023-05-13 19:18:40.642571",
          "GaussianStateUpdate<br>[[16.12425164]\n [ 0.74533413]\n [42.64327815]\n [ 2.89564088]]<br>2023-05-13 19:18:41.642571",
          "GaussianStateUpdate<br>[[17.83900913]\n [ 0.96032951]\n [44.89988348]\n [ 2.75391778]]<br>2023-05-13 19:18:42.642571"
         ],
         "type": "scatter",
         "x": [
          -1.1416214752560812,
          0.0023601008876144303,
          1.0421844616383278,
          1.4002013885351823,
          2.6589392517001302,
          3.949799588329363,
          6.870833113319894,
          7.717808581534504,
          8.065050102134439,
          8.333457220519414,
          9.659730922034536,
          10.412044047155675,
          11.734391032065043,
          12.769380303480027,
          13.072693935230413,
          12.885827487314584,
          13.80659330902269,
          13.973411197598686,
          15.702828333224367,
          16.124251643023424,
          17.83900912585656
         ],
         "y": [
          0.1736213553945369,
          1.7523036020935483,
          0.12067934110294143,
          0.9121851389174698,
          2.798714268264738,
          3.7950407676492026,
          5.968841928391874,
          9.521028228172392,
          11.478221051749115,
          11.971015078640706,
          15.245361954654735,
          17.950588284294078,
          19.5302206132187,
          24.36704161648679,
          26.701113179132744,
          31.44934064500002,
          34.16274624802975,
          36.616644264914505,
          39.921414018232234,
          42.64327814703695,
          44.89988347847665
         ]
        },
        {
         "fill": "toself",
         "fillcolor": "#00CC96",
         "hoverinfo": "skip",
         "legendgroup": "Tracks<br>(Ellipses)",
         "legendrank": 310,
         "mode": "none",
         "name": "Tracks<br>(Ellipses)",
         "opacity": 0.2,
         "showlegend": true,
         "type": "scatter",
         "x": [
          -1.1416214752560812,
          -0.9182884938341533,
          -0.7047162353709087,
          -0.5102388323945902,
          -0.34335588062138056,
          -0.2113609658370179,
          -0.12002289919945275,
          -0.07333359250941762,
          -0.07333359250941762,
          -0.12002289919945253,
          -0.2113609658370177,
          -0.3433558806213802,
          -0.5102388323945901,
          -0.7047162353709087,
          -0.9182884938341529,
          -1.141621475256081,
          -1.3649544566780092,
          -1.5785267151412534,
          -1.773004118117572,
          -1.9398870698907817,
          -2.0718819846751435,
          -2.1632200513127096,
          -2.2099093580027445,
          -2.2099093580027445,
          -2.1632200513127096,
          -2.0718819846751444,
          -1.9398870698907817,
          -1.7730041181175724,
          -1.5785267151412545,
          -1.3649544566780085
         ],
         "y": [
          1.2477936664536862,
          1.224320424231731,
          1.1549265908880775,
          1.0426450099284008,
          0.8923829252274416,
          0.7107075109241117,
          0.5055588543988263,
          0.2859029363542138,
          0.06133977443486034,
          -0.1583161436097524,
          -0.36346480013503746,
          -0.5451402144383674,
          -0.6954022991393269,
          -0.8076838800990038,
          -0.8770777134426571,
          -0.9005509556646123,
          -0.8770777134426571,
          -0.807683880099004,
          -0.695402299139327,
          -0.5451402144383679,
          -0.3634648001350389,
          -0.15831614360975263,
          0.06133977443485937,
          0.28590293635421404,
          0.5055588543988261,
          0.7107075109241117,
          0.8923829252274418,
          1.0426450099284008,
          1.1549265908880773,
          1.224320424231731
         ]
        },
        {
         "fill": "toself",
         "fillcolor": "#00CC96",
         "hoverinfo": "skip",
         "legendgroup": "Tracks<br>(Ellipses)",
         "legendrank": 310,
         "mode": "none",
         "name": "Tracks<br>(Ellipses)",
         "opacity": 0.2,
         "showlegend": false,
         "type": "scatter",
         "x": [
          0.0023601008876144303,
          0.23501339570403168,
          0.457498625142601,
          0.6600921170742775,
          0.8339395637502137,
          0.9714429975380683,
          1.0665928585666313,
          1.1152306413292639,
          1.115230641329264,
          1.0665928585666313,
          0.9714429975380685,
          0.8339395637502138,
          0.6600921170742771,
          0.45749862514260087,
          0.23501339570403215,
          0.0023601008876145673,
          -0.23029319392880304,
          -0.45277842336737173,
          -0.6553719152990481,
          -0.8292193619749848,
          -0.9667227957628388,
          -1.0618726567914019,
          -1.1105104395540353,
          -1.110510439554035,
          -1.061872656791402,
          -0.9667227957628395,
          -0.8292193619749848,
          -0.6553719152990488,
          -0.45277842336737206,
          -0.23029319392880343
         ],
         "y": [
          2.871304144589952,
          2.8468512979562326,
          2.774561464790744,
          2.6575940576879242,
          2.5010611136100582,
          2.3118038733417503,
          2.0980937864397227,
          1.8692710091963682,
          1.6353361949907288,
          1.4065134177473744,
          1.1928033308453467,
          1.0035460905770384,
          0.8470131464991718,
          0.7300457393963524,
          0.657755906230864,
          0.6333030595971445,
          0.657755906230864,
          0.7300457393963522,
          0.8470131464991717,
          1.003546090577038,
          1.1928033308453452,
          1.4065134177473728,
          1.6353361949907288,
          1.8692710091963685,
          2.0980937864397236,
          2.3118038733417503,
          2.5010611136100587,
          2.6575940576879242,
          2.774561464790744,
          2.8468512979562326
         ]
        },
        {
         "fill": "toself",
         "fillcolor": "#00CC96",
         "hoverinfo": "skip",
         "legendgroup": "Tracks<br>(Ellipses)",
         "legendrank": 310,
         "mode": "none",
         "name": "Tracks<br>(Ellipses)",
         "opacity": 0.2,
         "showlegend": false,
         "type": "scatter",
         "x": [
          1.0421844616383278,
          1.312878208427621,
          1.5717413395495106,
          1.8074602940108513,
          2.0097330223966443,
          2.169719235864193,
          2.2804267691859375,
          2.3370171719220343,
          2.3370171719220343,
          2.280426769185938,
          2.1697192358641932,
          2.009733022396645,
          1.8074602940108515,
          1.5717413395495103,
          1.312878208427621,
          1.042184461638328,
          0.771490714849035,
          0.512627583727145,
          0.2769086292658045,
          0.07463590088001126,
          -0.08535031258753789,
          -0.1960578459092821,
          -0.2526482486453785,
          -0.2526482486453785,
          -0.19605784590928232,
          -0.08535031258753745,
          0.07463590088001126,
          0.27690862926580406,
          0.512627583727144,
          0.7714907148490351
         ],
         "y": [
          1.422644351942876,
          1.3941932926953866,
          1.3100835627653633,
          1.1739911609540112,
          0.9918639782642843,
          0.7716618465229088,
          0.5230086555340439,
          0.25677174291429355,
          -0.015413060708410531,
          -0.2816499733281609,
          -0.5303031643170255,
          -0.750505296058401,
          -0.9326324787481282,
          -1.0687248805594805,
          -1.1528346104895038,
          -1.1812856697369931,
          -1.1528346104895038,
          -1.0687248805594805,
          -0.9326324787481284,
          -0.7505052960584017,
          -0.5303031643170253,
          -0.28164997332816116,
          -0.015413060708411724,
          0.2567717429142941,
          0.5230086555340436,
          0.7716618465229088,
          0.9918639782642845,
          1.173991160954011,
          1.3100835627653629,
          1.3941932926953866
         ]
        },
        {
         "fill": "toself",
         "fillcolor": "#00CC96",
         "hoverinfo": "skip",
         "legendgroup": "Tracks<br>(Ellipses)",
         "legendrank": 310,
         "mode": "none",
         "name": "Tracks<br>(Ellipses)",
         "opacity": 0.2,
         "showlegend": false,
         "type": "scatter",
         "x": [
          1.4002013885351823,
          1.6955243550372454,
          1.9779402907863486,
          2.235106264208241,
          2.4557828882451336,
          2.6303255355026858,
          2.7511058547471965,
          2.8128451664594074,
          2.8128451664594074,
          2.751105854747197,
          2.6303255355026858,
          2.455782888245134,
          2.235106264208241,
          1.977940290786349,
          1.6955243550372454,
          1.4002013885351825,
          1.1048784220331194,
          0.8224624862840159,
          0.5652965128621236,
          0.3446198888252312,
          0.170077241567679,
          0.04929692232316785,
          -0.012442389389042852,
          -0.012442389389042852,
          0.049296922323167625,
          0.17007724156767878,
          0.3446198888252312,
          0.565296512862123,
          0.822462486284016,
          1.1048784220331183
         ],
         "y": [
          2.332610153694164,
          2.3015704591435737,
          2.209807959088643,
          2.061333115107101,
          1.8626349903422892,
          1.6223976463058167,
          1.351120607718754,
          1.0606599828990115,
          0.7637102949359282,
          0.4732496701161857,
          0.20197263152912315,
          -0.038264712507349086,
          -0.23696283727216128,
          -0.38543768125370304,
          -0.47720018130863395,
          -0.5082398758592241,
          -0.47720018130863395,
          -0.38543768125370326,
          -0.2369628372721615,
          -0.03826471250734986,
          0.20197263152912215,
          0.47324967011618535,
          0.7637102949359269,
          1.0606599828990122,
          1.3511206077187539,
          1.6223976463058167,
          1.8626349903422894,
          2.061333115107101,
          2.209807959088643,
          2.3015704591435733
         ]
        },
        {
         "fill": "toself",
         "fillcolor": "#00CC96",
         "hoverinfo": "skip",
         "legendgroup": "Tracks<br>(Ellipses)",
         "legendrank": 310,
         "mode": "none",
         "name": "Tracks<br>(Ellipses)",
         "opacity": 0.2,
         "showlegend": false,
         "type": "scatter",
         "x": [
          2.6589392517001302,
          2.9616798100802937,
          3.2511891533488693,
          3.5148143339850595,
          3.7410336665810955,
          3.9199602807817358,
          4.043774224961259,
          4.107064235633798,
          4.107064235633798,
          4.043774224961259,
          3.9199602807817358,
          3.741033666581096,
          3.5148143339850595,
          3.251189153348869,
          2.9616798100802937,
          2.6589392517001302,
          2.3561986933199672,
          2.0666893500513925,
          1.803064169415201,
          1.5768448368191652,
          1.3979182226185245,
          1.2741042784390015,
          1.210814267766462,
          1.210814267766462,
          1.2741042784390013,
          1.3979182226185247,
          1.5768448368191652,
          1.8030641694152005,
          2.0666893500513903,
          2.356198693319966
         ],
         "y": [
          4.254815929452826,
          4.222996614580374,
          4.128929326708961,
          3.9767252577034924,
          3.7730364557356637,
          3.5267650988587818,
          3.248674427109449,
          2.950918337270206,
          2.6465101992592697,
          2.3487541094200273,
          2.0706634376706945,
          1.8243920807938125,
          1.6207032788259832,
          1.4684992098205147,
          1.374431921949101,
          1.3426126070766502,
          1.374431921949101,
          1.4684992098205145,
          1.6207032788259832,
          1.8243920807938117,
          2.0706634376706945,
          2.348754109420027,
          2.646510199259269,
          2.9509183372702066,
          3.2486744271094485,
          3.5267650988587818,
          3.773036455735664,
          3.9767252577034924,
          4.128929326708961,
          4.222996614580374
         ]
        },
        {
         "fill": "toself",
         "fillcolor": "#00CC96",
         "hoverinfo": "skip",
         "legendgroup": "Tracks<br>(Ellipses)",
         "legendrank": 310,
         "mode": "none",
         "name": "Tracks<br>(Ellipses)",
         "opacity": 0.2,
         "showlegend": false,
         "type": "scatter",
         "x": [
          3.949799588329363,
          4.250656661123539,
          4.5383648361642015,
          4.800349885625076,
          5.0251618057009795,
          5.202975236717313,
          5.326018878495155,
          5.388915133459914,
          5.388915133459914,
          5.326018878495155,
          5.202975236717313,
          5.0251618057009795,
          4.800349885625076,
          4.5383648361642015,
          4.250656661123539,
          3.949799588329363,
          3.648942515535187,
          3.3612343404945255,
          3.09924929103365,
          2.8744373709577475,
          2.6966239399414142,
          2.573580298163571,
          2.5106840431988116,
          2.5106840431988116,
          2.573580298163571,
          2.6966239399414134,
          2.8744373709577467,
          3.099249291033649,
          3.3612343404945237,
          3.648942515535188
         ],
         "y": [
          5.242083363526536,
          5.210462010966234,
          5.116979958128298,
          4.965722819298405,
          4.763301257255699,
          4.5185620655878695,
          4.242201521359738,
          3.9462979064790966,
          3.6437836288193086,
          3.347880013938668,
          3.0715194697105366,
          2.8267802780427065,
          2.624358716000001,
          2.4731015771701075,
          2.3796195243321714,
          2.3479981717718696,
          2.3796195243321714,
          2.473101577170107,
          2.624358716000001,
          2.8267802780427065,
          3.071519469710535,
          3.347880013938667,
          3.6437836288193077,
          3.946297906479097,
          4.242201521359737,
          4.5185620655878695,
          4.763301257255698,
          4.965722819298405,
          5.116979958128297,
          5.210462010966234
         ]
        },
        {
         "fill": "toself",
         "fillcolor": "#00CC96",
         "hoverinfo": "skip",
         "legendgroup": "Tracks<br>(Ellipses)",
         "legendrank": 310,
         "mode": "none",
         "name": "Tracks<br>(Ellipses)",
         "opacity": 0.2,
         "showlegend": false,
         "type": "scatter",
         "x": [
          6.870833113319894,
          7.1665145557128005,
          7.449273300236158,
          7.7067514329273035,
          7.927695923870474,
          8.102450438602158,
          8.22337736626338,
          8.285191619843568,
          8.285191619843568,
          8.22337736626338,
          8.102450438602158,
          7.927695923870475,
          7.7067514329273035,
          7.4492733002361575,
          7.1665145557128005,
          6.870833113319894,
          6.575151670926989,
          6.29239292640363,
          6.034914793712485,
          5.813970302769314,
          5.63921578803763,
          5.5182888603764075,
          5.45647460679622,
          5.45647460679622,
          5.5182888603764075,
          5.639215788037631,
          5.813970302769314,
          6.034914793712484,
          6.29239292640363,
          6.575151670926987
         ],
         "y": [
          7.3909911169725175,
          7.359913745087559,
          7.268039859709832,
          7.119384790490156,
          6.920445477279598,
          6.679916522682196,
          6.408310196199834,
          6.117496997611549,
          5.8201868591722,
          5.529373660583913,
          5.257767334101552,
          5.01723837950415,
          4.818299066293591,
          4.669643997073916,
          4.577770111696188,
          4.54669273981123,
          4.577770111696188,
          4.6696439970739165,
          4.818299066293591,
          5.01723837950415,
          5.257767334101553,
          5.5293736605839126,
          5.820186859172198,
          6.11749699761155,
          6.408310196199834,
          6.679916522682196,
          6.920445477279598,
          7.119384790490156,
          7.268039859709832,
          7.3599137450875585
         ]
        },
        {
         "fill": "toself",
         "fillcolor": "#00CC96",
         "hoverinfo": "skip",
         "legendgroup": "Tracks<br>(Ellipses)",
         "legendrank": 310,
         "mode": "none",
         "name": "Tracks<br>(Ellipses)",
         "opacity": 0.2,
         "showlegend": false,
         "type": "scatter",
         "x": [
          7.717808581534504,
          8.008044074628536,
          8.285594883969944,
          8.538330707353962,
          8.755205776537673,
          8.926741610315705,
          9.045441269631706,
          9.106117009789402,
          9.106117009789402,
          9.045441269631706,
          8.926741610315705,
          8.755205776537673,
          8.538330707353962,
          8.285594883969944,
          8.008044074628536,
          7.717808581534504,
          7.4275730884404725,
          7.150022279099064,
          6.897286455715046,
          6.680411386531334,
          6.508875552753302,
          6.390175893437303,
          6.329500153279605,
          6.329500153279605,
          6.390175893437303,
          6.508875552753302,
          6.680411386531334,
          6.8972864557150455,
          7.150022279099064,
          7.4275730884404725
         ],
         "y": [
          10.916983847370505,
          10.8864788678219,
          10.796297143161492,
          10.650380047496869,
          10.455104858096481,
          10.219006037771448,
          9.952402237897811,
          9.666945323837016,
          9.375111132507769,
          9.089654218446974,
          8.823050418573336,
          8.586951598248305,
          8.391676408847918,
          8.245759313183292,
          8.155577588522885,
          8.12507260897428,
          8.155577588522885,
          8.245759313183292,
          8.391676408847916,
          8.586951598248303,
          8.823050418573336,
          9.089654218446972,
          9.375111132507767,
          9.666945323837018,
          9.952402237897811,
          10.219006037771448,
          10.45510485809648,
          10.650380047496867,
          10.796297143161492,
          10.8864788678219
         ]
        },
        {
         "fill": "toself",
         "fillcolor": "#00CC96",
         "hoverinfo": "skip",
         "legendgroup": "Tracks<br>(Ellipses)",
         "legendrank": 310,
         "mode": "none",
         "name": "Tracks<br>(Ellipses)",
         "opacity": 0.2,
         "showlegend": false,
         "type": "scatter",
         "x": [
          8.065050102134439,
          8.35081094353362,
          8.624082664931004,
          8.87292198079832,
          9.086453418968649,
          9.255344630956422,
          9.37221426036783,
          9.431954543594886,
          9.431954543594886,
          9.37221426036783,
          9.255344630956424,
          9.086453418968649,
          8.872921980798319,
          8.624082664931004,
          8.35081094353362,
          8.065050102134439,
          7.779289260735258,
          7.506017539337875,
          7.257178223470559,
          7.043646785300231,
          6.874755573312455,
          6.75788594390105,
          6.698145660673992,
          6.698145660673992,
          6.757885943901049,
          6.874755573312455,
          7.043646785300231,
          7.257178223470558,
          7.506017539337872,
          7.779289260735258
         ],
         "y": [
          12.852654785009737,
          12.8226201103056,
          12.73382874560012,
          12.590161299599162,
          12.397896729085865,
          12.165437918379427,
          11.90294443296885,
          11.621888497750072,
          11.334553605748157,
          11.05349767052938,
          10.791004185118803,
          10.558545374412365,
          10.366280803899068,
          10.22261335789811,
          10.13382199319263,
          10.103787318488493,
          10.13382199319263,
          10.22261335789811,
          10.366280803899066,
          10.558545374412365,
          10.791004185118805,
          11.053497670529378,
          11.334553605748157,
          11.621888497750072,
          11.90294443296885,
          12.165437918379427,
          12.397896729085865,
          12.590161299599162,
          12.733828745600118,
          12.8226201103056
         ]
        },
        {
         "fill": "toself",
         "fillcolor": "#00CC96",
         "hoverinfo": "skip",
         "legendgroup": "Tracks<br>(Ellipses)",
         "legendrank": 310,
         "mode": "none",
         "name": "Tracks<br>(Ellipses)",
         "opacity": 0.2,
         "showlegend": false,
         "type": "scatter",
         "x": [
          8.333457220519414,
          8.616047521532314,
          8.886287270372238,
          9.132365693260695,
          9.343527982302174,
          9.510545332196482,
          9.626118283315074,
          9.68519574311352,
          9.68519574311352,
          9.626118283315076,
          9.510545332196482,
          9.343527982302176,
          9.132365693260695,
          8.886287270372238,
          8.616047521532314,
          8.333457220519414,
          8.050866919506513,
          7.780627170666589,
          7.534548747778133,
          7.3233864587366515,
          7.156369108842344,
          7.040796157723752,
          6.981718697925308,
          6.981718697925308,
          7.040796157723752,
          7.156369108842344,
          7.3233864587366515,
          7.534548747778132,
          7.780627170666589,
          8.050866919506513
         ],
         "y": [
          13.330199354914035,
          13.300497917432576,
          13.21269170032945,
          13.070618256633043,
          12.880486877576905,
          12.65060721677737,
          12.391026118496379,
          12.113088522337115,
          11.828941634944297,
          11.551004038785035,
          11.291422940504042,
          11.061543279704509,
          10.871411900648368,
          10.729338456951961,
          10.641532239848836,
          10.611830802367377,
          10.641532239848836,
          10.729338456951961,
          10.871411900648368,
          11.061543279704507,
          11.291422940504042,
          11.551004038785033,
          11.828941634944297,
          12.113088522337115,
          12.391026118496377,
          12.65060721677737,
          12.880486877576903,
          13.070618256633043,
          13.21269170032945,
          13.300497917432576
         ]
        },
        {
         "fill": "toself",
         "fillcolor": "#00CC96",
         "hoverinfo": "skip",
         "legendgroup": "Tracks<br>(Ellipses)",
         "legendrank": 310,
         "mode": "none",
         "name": "Tracks<br>(Ellipses)",
         "opacity": 0.2,
         "showlegend": false,
         "type": "scatter",
         "x": [
          9.659730922034536,
          9.940348716041663,
          10.208702165897108,
          10.453062938139464,
          10.66275129444866,
          10.828602847457613,
          10.943369088455787,
          11.002034182002035,
          11.002034182002035,
          10.943369088455787,
          10.828602847457613,
          10.66275129444866,
          10.453062938139464,
          10.208702165897108,
          9.940348716041663,
          9.659730922034536,
          9.379113128027406,
          9.110759678171963,
          8.866398905929607,
          8.656710549620414,
          8.490858996611458,
          8.376092755613284,
          8.317427662067036,
          8.317427662067036,
          8.376092755613284,
          8.490858996611458,
          8.656710549620412,
          8.866398905929607,
          9.110759678171963,
          9.379113128027408
         ],
         "y": [
          16.595058996237157,
          16.565564877596096,
          16.478371556186012,
          16.337289798552504,
          16.148485554489536,
          15.920210475445945,
          15.662441277761292,
          15.386443712288244,
          15.104280197021225,
          14.828282631548177,
          14.570513433863525,
          14.342238354819933,
          14.153434110756967,
          14.012352353123458,
          13.925159031713374,
          13.895664913072315,
          13.925159031713374,
          14.012352353123458,
          14.153434110756967,
          14.342238354819932,
          14.570513433863525,
          14.828282631548177,
          15.104280197021225,
          15.386443712288244,
          15.662441277761292,
          15.920210475445945,
          16.148485554489536,
          16.337289798552504,
          16.478371556186012,
          16.565564877596096
         ]
        },
        {
         "fill": "toself",
         "fillcolor": "#00CC96",
         "hoverinfo": "skip",
         "legendgroup": "Tracks<br>(Ellipses)",
         "legendrank": 310,
         "mode": "none",
         "name": "Tracks<br>(Ellipses)",
         "opacity": 0.2,
         "showlegend": false,
         "type": "scatter",
         "x": [
          10.412044047155675,
          10.691602307636662,
          10.958942530665261,
          11.202380665654408,
          11.411277297959295,
          11.576502642350949,
          11.690835558440282,
          11.749279149163995,
          11.749279149163995,
          11.690835558440282,
          11.576502642350949,
          11.411277297959296,
          11.202380665654406,
          10.958942530665261,
          10.69160230763666,
          10.412044047155675,
          10.132485786674689,
          9.865145563646088,
          9.621707428656944,
          9.412810796352055,
          9.2475854519604,
          9.133252535871067,
          9.074808945147355,
          9.074808945147355,
          9.133252535871067,
          9.2475854519604,
          9.412810796352055,
          9.621707428656942,
          9.865145563646088,
          10.132485786674687
         ],
         "y": [
          19.295189251086406,
          19.26580649390635,
          19.17894238984906,
          19.038393317082058,
          18.850301944514538,
          18.62288876769024,
          18.36609283368589,
          18.09113735706108,
          17.810039211527076,
          17.535083734902265,
          17.278287800897914,
          17.05087462407362,
          16.862783251506098,
          16.722234178739097,
          16.635370074681806,
          16.60598731750175,
          16.635370074681806,
          16.722234178739097,
          16.862783251506098,
          17.050874624073618,
          17.278287800897914,
          17.535083734902262,
          17.810039211527073,
          18.091137357061083,
          18.36609283368589,
          18.62288876769024,
          18.850301944514538,
          19.038393317082058,
          19.17894238984906,
          19.26580649390635
         ]
        },
        {
         "fill": "toself",
         "fillcolor": "#00CC96",
         "hoverinfo": "skip",
         "legendgroup": "Tracks<br>(Ellipses)",
         "legendrank": 310,
         "mode": "none",
         "name": "Tracks<br>(Ellipses)",
         "opacity": 0.2,
         "showlegend": false,
         "type": "scatter",
         "x": [
          11.734391032065043,
          12.013489125746036,
          12.280389293471929,
          12.523426717183998,
          12.731979495243078,
          12.896932870500727,
          13.011077588924072,
          13.069424978590884,
          13.069424978590884,
          13.011077588924072,
          12.896932870500727,
          12.73197949524308,
          12.523426717183998,
          12.280389293471929,
          12.013489125746036,
          11.734391032065043,
          11.45529293838405,
          11.188392770658158,
          10.945355346946087,
          10.736802568887008,
          10.571849193629358,
          10.457704475206013,
          10.3993570855392,
          10.3993570855392,
          10.457704475206013,
          10.571849193629358,
          10.736802568887008,
          10.945355346946087,
          11.188392770658156,
          11.455292938384048
         ],
         "y": [
          20.872608299948787,
          20.84327390824834,
          20.756552786826333,
          20.616235064823016,
          20.428453300009068,
          20.201414456583745,
          19.94504122145797,
          19.670538335222016,
          19.38990289121538,
          19.115400004979428,
          18.859026769853653,
          18.63198792642833,
          18.44420616161438,
          18.303888439611065,
          18.21716731818906,
          18.18783292648861,
          18.21716731818906,
          18.303888439611065,
          18.44420616161438,
          18.631987926428327,
          18.859026769853653,
          19.115400004979428,
          19.38990289121538,
          19.670538335222016,
          19.94504122145797,
          20.201414456583745,
          20.428453300009068,
          20.616235064823016,
          20.756552786826333,
          20.84327390824834
         ]
        },
        {
         "fill": "toself",
         "fillcolor": "#00CC96",
         "hoverinfo": "skip",
         "legendgroup": "Tracks<br>(Ellipses)",
         "legendrank": 310,
         "mode": "none",
         "name": "Tracks<br>(Ellipses)",
         "opacity": 0.2,
         "showlegend": false,
         "type": "scatter",
         "x": [
          12.769380303480027,
          13.04835477818179,
          13.315136729671035,
          13.558066506505845,
          13.766526911732138,
          13.931407225337516,
          14.045501386433902,
          14.103822932696854,
          14.103822932696854,
          14.045501386433902,
          13.931407225337518,
          13.766526911732138,
          13.558066506505845,
          13.315136729671035,
          13.04835477818179,
          12.769380303480027,
          12.490405828778263,
          12.223623877289018,
          11.980694100454208,
          11.772233695227916,
          11.607353381622538,
          11.493259220526152,
          11.4349376742632,
          11.4349376742632,
          11.493259220526152,
          11.607353381622538,
          11.772233695227916,
          11.980694100454208,
          12.223623877289016,
          12.490405828778263
         ],
         "y": [
          25.70883472876682,
          25.679513329944648,
          25.59283061930634,
          25.452575047256587,
          25.264876455314866,
          25.037938172626806,
          24.781678491116573,
          24.507297188536544,
          24.226786044437038,
          23.95240474185701,
          23.696145060346776,
          23.469206777658716,
          23.281508185716998,
          23.14125261366724,
          23.054569903028934,
          23.02524850420676,
          23.054569903028934,
          23.14125261366724,
          23.281508185716994,
          23.469206777658716,
          23.696145060346776,
          23.95240474185701,
          24.226786044437038,
          24.507297188536544,
          24.781678491116573,
          25.037938172626806,
          25.264876455314866,
          25.452575047256584,
          25.592830619306337,
          25.679513329944648
         ]
        },
        {
         "fill": "toself",
         "fillcolor": "#00CC96",
         "hoverinfo": "skip",
         "legendgroup": "Tracks<br>(Ellipses)",
         "legendrank": 310,
         "mode": "none",
         "name": "Tracks<br>(Ellipses)",
         "opacity": 0.2,
         "showlegend": false,
         "type": "scatter",
         "x": [
          13.072693935230413,
          13.351697687435278,
          13.61850763686025,
          13.86146290841927,
          14.069945190916473,
          14.234842808197746,
          14.348948943121338,
          14.407276610049106,
          14.407276610049106,
          14.348948943121338,
          14.234842808197746,
          14.069945190916474,
          13.86146290841927,
          13.61850763686025,
          13.351697687435278,
          13.072693935230413,
          12.793690183025548,
          12.52688023360058,
          12.283924962041556,
          12.075442679544354,
          11.91054506226308,
          11.796438927339489,
          11.73811126041172,
          11.73811126041172,
          11.796438927339489,
          11.91054506226308,
          12.075442679544352,
          12.283924962041556,
          12.526880233600577,
          12.793690183025548
         ],
         "y": [
          28.04304710842496,
          28.013722632413216,
          27.92703082469414,
          27.786760533258498,
          27.59904224293357,
          27.372080143778852,
          27.11579356861239,
          26.841383470568385,
          26.560842887697103,
          26.286432789653098,
          26.030146214486635,
          25.803184115331916,
          25.61546582500699,
          25.475195533571352,
          25.38850372585227,
          25.359179249840526,
          25.38850372585227,
          25.47519553357135,
          25.61546582500699,
          25.803184115331916,
          26.030146214486635,
          26.286432789653098,
          26.560842887697103,
          26.841383470568385,
          27.11579356861239,
          27.372080143778852,
          27.59904224293357,
          27.786760533258498,
          27.92703082469414,
          28.013722632413216
         ]
        },
        {
         "fill": "toself",
         "fillcolor": "#00CC96",
         "hoverinfo": "skip",
         "legendgroup": "Tracks<br>(Ellipses)",
         "legendrank": 310,
         "mode": "none",
         "name": "Tracks<br>(Ellipses)",
         "opacity": 0.2,
         "showlegend": false,
         "type": "scatter",
         "x": [
          12.885827487314584,
          13.164905030544132,
          13.431785545971918,
          13.674805074438952,
          13.883342496414144,
          14.048283725883607,
          14.162420039643692,
          14.220763133096284,
          14.220763133096284,
          14.162420039643692,
          14.048283725883607,
          13.883342496414144,
          13.674805074438952,
          13.431785545971918,
          13.164905030544132,
          12.885827487314584,
          12.606749944085037,
          12.33986942865725,
          12.096849900190218,
          11.888312478215024,
          11.723371248745561,
          11.609234934985476,
          11.550891841532884,
          11.550891841532884,
          11.609234934985476,
          11.723371248745561,
          11.888312478215024,
          12.096849900190216,
          12.33986942865725,
          12.606749944085037
         ],
         "y": [
          32.79162948951799,
          32.76229725775703,
          32.675582521753746,
          32.53527513157497,
          32.34750719344106,
          32.120485067259004,
          31.864130709315987,
          31.589648035178797,
          31.309033254821244,
          31.03455058068406,
          30.778196222741038,
          30.55117409655898,
          30.36340615842507,
          30.223098768246295,
          30.136384032243015,
          30.10705180048205,
          30.136384032243015,
          30.223098768246295,
          30.36340615842507,
          30.55117409655898,
          30.778196222741034,
          31.034550580684055,
          31.30903325482124,
          31.5896480351788,
          31.864130709315987,
          32.120485067259004,
          32.34750719344106,
          32.53527513157497,
          32.675582521753746,
          32.76229725775703
         ]
        },
        {
         "fill": "toself",
         "fillcolor": "#00CC96",
         "hoverinfo": "skip",
         "legendgroup": "Tracks<br>(Ellipses)",
         "legendrank": 310,
         "mode": "none",
         "name": "Tracks<br>(Ellipses)",
         "opacity": 0.2,
         "showlegend": false,
         "type": "scatter",
         "x": [
          13.80659330902269,
          14.085737179851392,
          14.352681124043976,
          14.59575841030006,
          14.804345394796027,
          14.969325825397998,
          15.083489265624731,
          15.141846225321348,
          15.141846225321348,
          15.083489265624731,
          14.969325825397998,
          14.804345394796027,
          14.595758410300062,
          14.352681124043976,
          14.085737179851392,
          13.80659330902269,
          13.527449438193987,
          13.260505494001404,
          13.017428207745319,
          12.808841223249352,
          12.64386079264738,
          12.529697352420648,
          12.47134039272403,
          12.47134039272403,
          12.529697352420648,
          12.64386079264738,
          12.808841223249352,
          13.017428207745317,
          13.260505494001404,
          13.527449438193987
         ],
         "y": [
          35.50535411067938,
          35.47601490760683,
          35.38927956234856,
          35.24893882569472,
          35.061126261266665,
          34.83405017935456,
          34.57763489436991,
          34.30308698468358,
          34.022405511375915,
          33.74785760168959,
          33.49144231670493,
          33.26436623479283,
          33.076553670364774,
          32.936212933710934,
          32.849477588452665,
          32.82013838538012,
          32.849477588452665,
          32.936212933710934,
          33.076553670364774,
          33.26436623479283,
          33.49144231670493,
          33.74785760168959,
          34.022405511375915,
          34.30308698468358,
          34.57763489436991,
          34.83405017935456,
          35.061126261266665,
          35.24893882569472,
          35.38927956234856,
          35.47601490760683
         ]
        },
        {
         "fill": "toself",
         "fillcolor": "#00CC96",
         "hoverinfo": "skip",
         "legendgroup": "Tracks<br>(Ellipses)",
         "legendrank": 310,
         "mode": "none",
         "name": "Tracks<br>(Ellipses)",
         "opacity": 0.2,
         "showlegend": false,
         "type": "scatter",
         "x": [
          13.973411197598686,
          14.252597028920693,
          14.519581099731674,
          14.76269492500548,
          14.971313263988078,
          15.136318494204072,
          15.250499095310085,
          15.308864827138468,
          15.308864827138468,
          15.250499095310085,
          15.136318494204072,
          14.971313263988078,
          14.76269492500548,
          14.519581099731674,
          14.252597028920693,
          13.973411197598686,
          13.69422536627668,
          13.427241295465699,
          13.184127470191894,
          12.975509131209295,
          12.8105039009933,
          12.696323299887288,
          12.637957568058905,
          12.637957568058905,
          12.696323299887288,
          12.8105039009933,
          12.975509131209295,
          13.184127470191893,
          13.427241295465699,
          13.69422536627668
         ],
         "y": [
          37.95945394638991,
          37.93011033309179,
          37.84336194990487,
          37.703000117439316,
          37.51515932130469,
          37.288049105652206,
          37.031595276701616,
          36.75700609738006,
          36.476282432448954,
          36.201693253127395,
          35.945239424176805,
          35.718129208524324,
          35.530288412389694,
          35.38992657992414,
          35.30317819673722,
          35.273834583439104,
          35.303178196737214,
          35.38992657992414,
          35.530288412389694,
          35.718129208524324,
          35.945239424176805,
          36.201693253127395,
          36.476282432448954,
          36.75700609738006,
          37.031595276701616,
          37.288049105652206,
          37.51515932130469,
          37.703000117439316,
          37.84336194990487,
          37.93011033309179
         ]
        },
        {
         "fill": "toself",
         "fillcolor": "#00CC96",
         "hoverinfo": "skip",
         "legendgroup": "Tracks<br>(Ellipses)",
         "legendrank": 310,
         "mode": "none",
         "name": "Tracks<br>(Ellipses)",
         "opacity": 0.2,
         "showlegend": false,
         "type": "scatter",
         "x": [
          15.702828333224367,
          15.98203265785318,
          16.24903441372472,
          16.492164342890824,
          16.700796500780097,
          16.865812660964608,
          16.980000825408908,
          17.03837042339117,
          17.03837042339117,
          16.980000825408908,
          16.865812660964608,
          16.700796500780097,
          16.492164342890824,
          16.24903441372472,
          15.98203265785318,
          15.702828333224367,
          15.423624008595555,
          15.156622252724018,
          14.913492323557913,
          14.70486016566864,
          14.539844005484127,
          14.425655841039827,
          14.367286243057562,
          14.367286243057562,
          14.425655841039827,
          14.539844005484127,
          14.70486016566864,
          14.91349232355791,
          15.156622252724016,
          15.423624008595555
         ],
         "y": [
          41.26431264760052,
          41.23496709057754,
          41.14821296116611,
          41.007841831114,
          40.819988592379914,
          40.59286333291638,
          40.33639251642986,
          40.061785148284336,
          39.78104288818013,
          39.50643552003461,
          39.24996470354809,
          39.02283944408455,
          38.83498620535047,
          38.69461507529836,
          38.60786094588693,
          38.57851538886395,
          38.60786094588693,
          38.69461507529836,
          38.83498620535047,
          39.02283944408455,
          39.24996470354809,
          39.50643552003461,
          39.781042888180124,
          40.061785148284336,
          40.33639251642986,
          40.59286333291638,
          40.819988592379914,
          41.007841831114,
          41.14821296116611,
          41.23496709057754
         ]
        },
        {
         "fill": "toself",
         "fillcolor": "#00CC96",
         "hoverinfo": "skip",
         "legendgroup": "Tracks<br>(Ellipses)",
         "legendrank": 310,
         "mode": "none",
         "name": "Tracks<br>(Ellipses)",
         "opacity": 0.2,
         "showlegend": false,
         "type": "scatter",
         "x": [
          16.124251643023424,
          16.40345837079243,
          16.670462424775398,
          16.91359444658568,
          17.122228400193283,
          17.28724598068877,
          17.401435127962287,
          17.459805228337654,
          17.459805228337654,
          17.401435127962287,
          17.287245980688773,
          17.122228400193283,
          16.91359444658568,
          16.670462424775398,
          16.40345837079243,
          16.124251643023424,
          15.845044915254421,
          15.57804086127145,
          15.334908839461168,
          15.126274885853565,
          14.961257305358076,
          14.84706815808456,
          14.788698057709194,
          14.788698057709194,
          14.84706815808456,
          14.961257305358076,
          15.126274885853565,
          15.334908839461168,
          15.578040861271448,
          15.845044915254421
         ],
         "y": [
          43.98618833487115,
          43.95684252526796,
          43.870087649154854,
          43.729715310914074,
          43.54186045530794,
          43.31473324095405,
          43.05826021699697,
          42.78365048527774,
          42.502905808796164,
          42.228296077076934,
          41.971823053119856,
          41.74469583876597,
          41.55684098315983,
          41.41646864491905,
          41.329713768805945,
          41.30036795920275,
          41.329713768805945,
          41.41646864491905,
          41.55684098315983,
          41.74469583876596,
          41.971823053119856,
          42.228296077076934,
          42.502905808796164,
          42.78365048527774,
          43.05826021699697,
          43.31473324095405,
          43.54186045530794,
          43.729715310914074,
          43.870087649154854,
          43.95684252526796
         ]
        },
        {
         "fill": "toself",
         "fillcolor": "#00CC96",
         "hoverinfo": "skip",
         "legendgroup": "Tracks<br>(Ellipses)",
         "legendrank": 310,
         "mode": "none",
         "name": "Tracks<br>(Ellipses)",
         "opacity": 0.2,
         "showlegend": false,
         "type": "scatter",
         "x": [
          17.83900912585656,
          18.118209936804835,
          18.385208332560538,
          18.62833520202869,
          18.83696473436138,
          19.001978817880097,
          19.116165545309656,
          19.174534408732665,
          19.174534408732665,
          19.116165545309656,
          19.001978817880097,
          18.83696473436138,
          18.62833520202869,
          18.385208332560538,
          18.118209936804835,
          17.83900912585656,
          17.559808314908285,
          17.292809919152585,
          17.04968304968443,
          16.84105351735174,
          16.676039433833022,
          16.561852706403464,
          16.503483842980454,
          16.503483842980454,
          16.561852706403464,
          16.676039433833022,
          16.84105351735174,
          17.04968304968443,
          17.29280991915258,
          17.559808314908285
         ],
         "y": [
          46.24276520797498,
          46.21342002025471,
          46.1266669826111,
          45.986297619076424,
          45.7984467444041,
          45.57132434322582,
          45.31485675432726,
          45.04025284201132,
          44.759514114941986,
          44.48491020262605,
          44.22844261372749,
          44.0013202125492,
          43.81346933787688,
          43.67309997434221,
          43.5863469366986,
          43.55700174897832,
          43.5863469366986,
          43.67309997434221,
          43.81346933787688,
          44.0013202125492,
          44.22844261372749,
          44.48491020262605,
          44.759514114941986,
          45.04025284201132,
          45.31485675432726,
          45.57132434322582,
          45.7984467444041,
          45.986297619076424,
          46.1266669826111,
          46.21342002025471
         ]
        }
       ],
       "layout": {
        "colorway": [
         "#636EFA",
         "#EF553B",
         "#00CC96",
         "#AB63FA",
         "#FFA15A",
         "#19D3F3",
         "#FF6692",
         "#B6E880",
         "#FF97FF",
         "#FECB52"
        ],
        "template": {
         "data": {
          "bar": [
           {
            "error_x": {
             "color": "#2a3f5f"
            },
            "error_y": {
             "color": "#2a3f5f"
            },
            "marker": {
             "line": {
              "color": "#E5ECF6",
              "width": 0.5
             },
             "pattern": {
              "fillmode": "overlay",
              "size": 10,
              "solidity": 0.2
             }
            },
            "type": "bar"
           }
          ],
          "barpolar": [
           {
            "marker": {
             "line": {
              "color": "#E5ECF6",
              "width": 0.5
             },
             "pattern": {
              "fillmode": "overlay",
              "size": 10,
              "solidity": 0.2
             }
            },
            "type": "barpolar"
           }
          ],
          "carpet": [
           {
            "aaxis": {
             "endlinecolor": "#2a3f5f",
             "gridcolor": "white",
             "linecolor": "white",
             "minorgridcolor": "white",
             "startlinecolor": "#2a3f5f"
            },
            "baxis": {
             "endlinecolor": "#2a3f5f",
             "gridcolor": "white",
             "linecolor": "white",
             "minorgridcolor": "white",
             "startlinecolor": "#2a3f5f"
            },
            "type": "carpet"
           }
          ],
          "choropleth": [
           {
            "colorbar": {
             "outlinewidth": 0,
             "ticks": ""
            },
            "type": "choropleth"
           }
          ],
          "contour": [
           {
            "colorbar": {
             "outlinewidth": 0,
             "ticks": ""
            },
            "colorscale": [
             [
              0,
              "#0d0887"
             ],
             [
              0.1111111111111111,
              "#46039f"
             ],
             [
              0.2222222222222222,
              "#7201a8"
             ],
             [
              0.3333333333333333,
              "#9c179e"
             ],
             [
              0.4444444444444444,
              "#bd3786"
             ],
             [
              0.5555555555555556,
              "#d8576b"
             ],
             [
              0.6666666666666666,
              "#ed7953"
             ],
             [
              0.7777777777777778,
              "#fb9f3a"
             ],
             [
              0.8888888888888888,
              "#fdca26"
             ],
             [
              1,
              "#f0f921"
             ]
            ],
            "type": "contour"
           }
          ],
          "contourcarpet": [
           {
            "colorbar": {
             "outlinewidth": 0,
             "ticks": ""
            },
            "type": "contourcarpet"
           }
          ],
          "heatmap": [
           {
            "colorbar": {
             "outlinewidth": 0,
             "ticks": ""
            },
            "colorscale": [
             [
              0,
              "#0d0887"
             ],
             [
              0.1111111111111111,
              "#46039f"
             ],
             [
              0.2222222222222222,
              "#7201a8"
             ],
             [
              0.3333333333333333,
              "#9c179e"
             ],
             [
              0.4444444444444444,
              "#bd3786"
             ],
             [
              0.5555555555555556,
              "#d8576b"
             ],
             [
              0.6666666666666666,
              "#ed7953"
             ],
             [
              0.7777777777777778,
              "#fb9f3a"
             ],
             [
              0.8888888888888888,
              "#fdca26"
             ],
             [
              1,
              "#f0f921"
             ]
            ],
            "type": "heatmap"
           }
          ],
          "heatmapgl": [
           {
            "colorbar": {
             "outlinewidth": 0,
             "ticks": ""
            },
            "colorscale": [
             [
              0,
              "#0d0887"
             ],
             [
              0.1111111111111111,
              "#46039f"
             ],
             [
              0.2222222222222222,
              "#7201a8"
             ],
             [
              0.3333333333333333,
              "#9c179e"
             ],
             [
              0.4444444444444444,
              "#bd3786"
             ],
             [
              0.5555555555555556,
              "#d8576b"
             ],
             [
              0.6666666666666666,
              "#ed7953"
             ],
             [
              0.7777777777777778,
              "#fb9f3a"
             ],
             [
              0.8888888888888888,
              "#fdca26"
             ],
             [
              1,
              "#f0f921"
             ]
            ],
            "type": "heatmapgl"
           }
          ],
          "histogram": [
           {
            "marker": {
             "pattern": {
              "fillmode": "overlay",
              "size": 10,
              "solidity": 0.2
             }
            },
            "type": "histogram"
           }
          ],
          "histogram2d": [
           {
            "colorbar": {
             "outlinewidth": 0,
             "ticks": ""
            },
            "colorscale": [
             [
              0,
              "#0d0887"
             ],
             [
              0.1111111111111111,
              "#46039f"
             ],
             [
              0.2222222222222222,
              "#7201a8"
             ],
             [
              0.3333333333333333,
              "#9c179e"
             ],
             [
              0.4444444444444444,
              "#bd3786"
             ],
             [
              0.5555555555555556,
              "#d8576b"
             ],
             [
              0.6666666666666666,
              "#ed7953"
             ],
             [
              0.7777777777777778,
              "#fb9f3a"
             ],
             [
              0.8888888888888888,
              "#fdca26"
             ],
             [
              1,
              "#f0f921"
             ]
            ],
            "type": "histogram2d"
           }
          ],
          "histogram2dcontour": [
           {
            "colorbar": {
             "outlinewidth": 0,
             "ticks": ""
            },
            "colorscale": [
             [
              0,
              "#0d0887"
             ],
             [
              0.1111111111111111,
              "#46039f"
             ],
             [
              0.2222222222222222,
              "#7201a8"
             ],
             [
              0.3333333333333333,
              "#9c179e"
             ],
             [
              0.4444444444444444,
              "#bd3786"
             ],
             [
              0.5555555555555556,
              "#d8576b"
             ],
             [
              0.6666666666666666,
              "#ed7953"
             ],
             [
              0.7777777777777778,
              "#fb9f3a"
             ],
             [
              0.8888888888888888,
              "#fdca26"
             ],
             [
              1,
              "#f0f921"
             ]
            ],
            "type": "histogram2dcontour"
           }
          ],
          "mesh3d": [
           {
            "colorbar": {
             "outlinewidth": 0,
             "ticks": ""
            },
            "type": "mesh3d"
           }
          ],
          "parcoords": [
           {
            "line": {
             "colorbar": {
              "outlinewidth": 0,
              "ticks": ""
             }
            },
            "type": "parcoords"
           }
          ],
          "pie": [
           {
            "automargin": true,
            "type": "pie"
           }
          ],
          "scatter": [
           {
            "fillpattern": {
             "fillmode": "overlay",
             "size": 10,
             "solidity": 0.2
            },
            "type": "scatter"
           }
          ],
          "scatter3d": [
           {
            "line": {
             "colorbar": {
              "outlinewidth": 0,
              "ticks": ""
             }
            },
            "marker": {
             "colorbar": {
              "outlinewidth": 0,
              "ticks": ""
             }
            },
            "type": "scatter3d"
           }
          ],
          "scattercarpet": [
           {
            "marker": {
             "colorbar": {
              "outlinewidth": 0,
              "ticks": ""
             }
            },
            "type": "scattercarpet"
           }
          ],
          "scattergeo": [
           {
            "marker": {
             "colorbar": {
              "outlinewidth": 0,
              "ticks": ""
             }
            },
            "type": "scattergeo"
           }
          ],
          "scattergl": [
           {
            "marker": {
             "colorbar": {
              "outlinewidth": 0,
              "ticks": ""
             }
            },
            "type": "scattergl"
           }
          ],
          "scattermapbox": [
           {
            "marker": {
             "colorbar": {
              "outlinewidth": 0,
              "ticks": ""
             }
            },
            "type": "scattermapbox"
           }
          ],
          "scatterpolar": [
           {
            "marker": {
             "colorbar": {
              "outlinewidth": 0,
              "ticks": ""
             }
            },
            "type": "scatterpolar"
           }
          ],
          "scatterpolargl": [
           {
            "marker": {
             "colorbar": {
              "outlinewidth": 0,
              "ticks": ""
             }
            },
            "type": "scatterpolargl"
           }
          ],
          "scatterternary": [
           {
            "marker": {
             "colorbar": {
              "outlinewidth": 0,
              "ticks": ""
             }
            },
            "type": "scatterternary"
           }
          ],
          "surface": [
           {
            "colorbar": {
             "outlinewidth": 0,
             "ticks": ""
            },
            "colorscale": [
             [
              0,
              "#0d0887"
             ],
             [
              0.1111111111111111,
              "#46039f"
             ],
             [
              0.2222222222222222,
              "#7201a8"
             ],
             [
              0.3333333333333333,
              "#9c179e"
             ],
             [
              0.4444444444444444,
              "#bd3786"
             ],
             [
              0.5555555555555556,
              "#d8576b"
             ],
             [
              0.6666666666666666,
              "#ed7953"
             ],
             [
              0.7777777777777778,
              "#fb9f3a"
             ],
             [
              0.8888888888888888,
              "#fdca26"
             ],
             [
              1,
              "#f0f921"
             ]
            ],
            "type": "surface"
           }
          ],
          "table": [
           {
            "cells": {
             "fill": {
              "color": "#EBF0F8"
             },
             "line": {
              "color": "white"
             }
            },
            "header": {
             "fill": {
              "color": "#C8D4E3"
             },
             "line": {
              "color": "white"
             }
            },
            "type": "table"
           }
          ]
         },
         "layout": {
          "annotationdefaults": {
           "arrowcolor": "#2a3f5f",
           "arrowhead": 0,
           "arrowwidth": 1
          },
          "autotypenumbers": "strict",
          "coloraxis": {
           "colorbar": {
            "outlinewidth": 0,
            "ticks": ""
           }
          },
          "colorscale": {
           "diverging": [
            [
             0,
             "#8e0152"
            ],
            [
             0.1,
             "#c51b7d"
            ],
            [
             0.2,
             "#de77ae"
            ],
            [
             0.3,
             "#f1b6da"
            ],
            [
             0.4,
             "#fde0ef"
            ],
            [
             0.5,
             "#f7f7f7"
            ],
            [
             0.6,
             "#e6f5d0"
            ],
            [
             0.7,
             "#b8e186"
            ],
            [
             0.8,
             "#7fbc41"
            ],
            [
             0.9,
             "#4d9221"
            ],
            [
             1,
             "#276419"
            ]
           ],
           "sequential": [
            [
             0,
             "#0d0887"
            ],
            [
             0.1111111111111111,
             "#46039f"
            ],
            [
             0.2222222222222222,
             "#7201a8"
            ],
            [
             0.3333333333333333,
             "#9c179e"
            ],
            [
             0.4444444444444444,
             "#bd3786"
            ],
            [
             0.5555555555555556,
             "#d8576b"
            ],
            [
             0.6666666666666666,
             "#ed7953"
            ],
            [
             0.7777777777777778,
             "#fb9f3a"
            ],
            [
             0.8888888888888888,
             "#fdca26"
            ],
            [
             1,
             "#f0f921"
            ]
           ],
           "sequentialminus": [
            [
             0,
             "#0d0887"
            ],
            [
             0.1111111111111111,
             "#46039f"
            ],
            [
             0.2222222222222222,
             "#7201a8"
            ],
            [
             0.3333333333333333,
             "#9c179e"
            ],
            [
             0.4444444444444444,
             "#bd3786"
            ],
            [
             0.5555555555555556,
             "#d8576b"
            ],
            [
             0.6666666666666666,
             "#ed7953"
            ],
            [
             0.7777777777777778,
             "#fb9f3a"
            ],
            [
             0.8888888888888888,
             "#fdca26"
            ],
            [
             1,
             "#f0f921"
            ]
           ]
          },
          "colorway": [
           "#636efa",
           "#EF553B",
           "#00cc96",
           "#ab63fa",
           "#FFA15A",
           "#19d3f3",
           "#FF6692",
           "#B6E880",
           "#FF97FF",
           "#FECB52"
          ],
          "font": {
           "color": "#2a3f5f"
          },
          "geo": {
           "bgcolor": "white",
           "lakecolor": "white",
           "landcolor": "#E5ECF6",
           "showlakes": true,
           "showland": true,
           "subunitcolor": "white"
          },
          "hoverlabel": {
           "align": "left"
          },
          "hovermode": "closest",
          "mapbox": {
           "style": "light"
          },
          "paper_bgcolor": "white",
          "plot_bgcolor": "#E5ECF6",
          "polar": {
           "angularaxis": {
            "gridcolor": "white",
            "linecolor": "white",
            "ticks": ""
           },
           "bgcolor": "#E5ECF6",
           "radialaxis": {
            "gridcolor": "white",
            "linecolor": "white",
            "ticks": ""
           }
          },
          "scene": {
           "xaxis": {
            "backgroundcolor": "#E5ECF6",
            "gridcolor": "white",
            "gridwidth": 2,
            "linecolor": "white",
            "showbackground": true,
            "ticks": "",
            "zerolinecolor": "white"
           },
           "yaxis": {
            "backgroundcolor": "#E5ECF6",
            "gridcolor": "white",
            "gridwidth": 2,
            "linecolor": "white",
            "showbackground": true,
            "ticks": "",
            "zerolinecolor": "white"
           },
           "zaxis": {
            "backgroundcolor": "#E5ECF6",
            "gridcolor": "white",
            "gridwidth": 2,
            "linecolor": "white",
            "showbackground": true,
            "ticks": "",
            "zerolinecolor": "white"
           }
          },
          "shapedefaults": {
           "line": {
            "color": "#2a3f5f"
           }
          },
          "ternary": {
           "aaxis": {
            "gridcolor": "white",
            "linecolor": "white",
            "ticks": ""
           },
           "baxis": {
            "gridcolor": "white",
            "linecolor": "white",
            "ticks": ""
           },
           "bgcolor": "#E5ECF6",
           "caxis": {
            "gridcolor": "white",
            "linecolor": "white",
            "ticks": ""
           }
          },
          "title": {
           "x": 0.05
          },
          "xaxis": {
           "automargin": true,
           "gridcolor": "white",
           "linecolor": "white",
           "ticks": "",
           "title": {
            "standoff": 15
           },
           "zerolinecolor": "white",
           "zerolinewidth": 2
          },
          "yaxis": {
           "automargin": true,
           "gridcolor": "white",
           "linecolor": "white",
           "ticks": "",
           "title": {
            "standoff": 15
           },
           "zerolinecolor": "white",
           "zerolinewidth": 2
          }
         }
        },
        "xaxis": {
         "title": {
          "text": "<i>x</i>"
         }
        },
        "yaxis": {
         "scaleanchor": "x",
         "scaleratio": 1,
         "title": {
          "text": "<i>y</i>"
         }
        }
       }
      }
     },
     "metadata": {},
     "output_type": "display_data"
    }
   ],
   "source": [
    "plotter.plot_tracks(track, [0, 2], uncertainty=True)\n",
    "plotter.fig"
   ]
  },
  {
   "attachments": {},
   "cell_type": "markdown",
   "metadata": {},
   "source": [
    "### Observations\n",
    "- The Kalman filter has 2 steps:\n",
    "    - Prediction step: we try and evaluate the priori estimate and covariance matrices, where $\\mathbf{x}_{k|k-1}$ and $P_{k|k-1}$ are the priori estimate and coveriance respectively\n",
    "\n",
    "    $$\n",
    "    \\mathbf{x}_{k|k-1} = F_k \\mathbf{x}_{k-1} + B_k \\mathbf{u}_k \\\\\n",
    "    P_{k|k-1} = F_k P_{k-1} F_k^T + Q_k\n",
    "    $$\n",
    "\n",
    "    - Update step: We use the priori estimates to calculate the posterior estimates by incorporating the measurement as follows:\n",
    "\n",
    "    $$\n",
    "    \\mathbf{x}_k = \\mathbf{x}_{k|k-1} + K_k (\\mathbf{z}_k - H_k \\mathbf{x}_{k|k-1} ) \\\\\n",
    "    P_k = P_{k|k-1} - K_k H_k P_{k|k-1}\n",
    "    $$\n",
    "\n",
    "    - and the Kalman gain, $K_k$ is \n",
    "\n",
    "    $$\n",
    "    K_k = P_{k|k-1} H_k^T S_k^{-1} \\\\\n",
    "    S_k = H_k P_{k|k-1} H_k^T + R_k\n",
    "    $$\n",
    "\n",
    "- $F_k$ is the *state transition matrix*\n",
    "    - It's important to keep in mind $F$ is _not_ estimated by the Kalman filter, because it _is the time step_."
   ]
  }
 ],
 "metadata": {
  "kernelspec": {
   "display_name": "base",
   "language": "python",
   "name": "python3"
  },
  "language_info": {
   "codemirror_mode": {
    "name": "ipython",
    "version": 3
   },
   "file_extension": ".py",
   "mimetype": "text/x-python",
   "name": "python",
   "nbconvert_exporter": "python",
   "pygments_lexer": "ipython3",
   "version": "3.10.9"
  },
  "orig_nbformat": 4
 },
 "nbformat": 4,
 "nbformat_minor": 2
}
