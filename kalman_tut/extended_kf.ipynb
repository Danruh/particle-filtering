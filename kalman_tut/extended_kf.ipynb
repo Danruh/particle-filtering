{
 "cells": [
  {
   "attachments": {},
   "cell_type": "markdown",
   "metadata": {},
   "source": [
    "# Tutorial 2: Extended Kalman Filter\n",
    "The Kalman filter assumes the predicted state and measurement are linear. But this isn't always the case\n",
    "- Motion of particle is not a straight line\n",
    "- Sensor measurement is not linear\n",
    "\n",
    "The _Extended Kalman Filter_ gets around this by *approximating* $F$ and $H$ about the prior prediction vector, $\\mathbf{x}_{k-1} = \\mathbf{\\mu}_{k-1}$ or the posterior prediction, $\\mathbf{x}_{k|k-1} = \\mathbf{\\mu}_{k|k-1}$ via a (often first-order) Taylor series (approximately equal to the Jacobian)."
   ]
  },
  {
   "cell_type": "code",
   "execution_count": 1,
   "metadata": {},
   "outputs": [],
   "source": [
    "import numpy as np\n",
    "from datetime import datetime, timedelta\n",
    "\n",
    "np.random.seed(1991)"
   ]
  },
  {
   "cell_type": "code",
   "execution_count": 2,
   "metadata": {},
   "outputs": [],
   "source": [
    "from stonesoup.models.transition.linear import CombinedLinearGaussianTransitionModel, ConstantVelocity\n",
    "from stonesoup.types.groundtruth import GroundTruthPath, GroundTruthState\n",
    "\n",
    "start_time = datetime.now()\n",
    "\n",
    "transition_model = CombinedLinearGaussianTransitionModel([ConstantVelocity(0.05),\n",
    "                                                          ConstantVelocity(0.05)])\n",
    "\n",
    "truth = GroundTruthPath([GroundTruthState([0, 1, 0, 1], timestamp=start_time)])\n",
    "\n",
    "for k in range(1, 21):\n",
    "    truth.append(GroundTruthState(\n",
    "        transition_model.function(truth[k-1], noise=True, time_interval=timedelta(seconds=1)),\n",
    "        timestamp=start_time+timedelta(seconds=k)))"
   ]
  },
  {
   "attachments": {},
   "cell_type": "markdown",
   "metadata": {},
   "source": [
    "Plotting this gives"
   ]
  },
  {
   "cell_type": "code",
   "execution_count": 3,
   "metadata": {},
   "outputs": [
    {
     "data": {
      "application/vnd.plotly.v1+json": {
       "config": {
        "plotlyServerURL": "https://plot.ly"
       },
       "data": [
        {
         "legendgroup": "Ground Truth",
         "legendrank": 100,
         "line": {
          "dash": "dash"
         },
         "mode": "lines",
         "name": "Ground Truth",
         "showlegend": true,
         "text": [
          "GroundTruthState<br>[[0]\n [1]\n [0]\n [1]]<br>2023-05-13 22:01:59.395049",
          "GroundTruthState<br>[[1.17722347]\n [1.17454005]\n [1.00067575]\n [0.98556448]]<br>2023-05-13 22:02:00.395049",
          "GroundTruthState<br>[[2.27546287]\n [1.00520515]\n [2.03072755]\n [1.03937242]]<br>2023-05-13 22:02:01.395049",
          "GroundTruthState<br>[[3.15603997]\n [0.84910364]\n [3.2076891 ]\n [1.238314  ]]<br>2023-05-13 22:02:02.395049",
          "GroundTruthState<br>[[4.11148457]\n [1.04478491]\n [4.68154658]\n [1.59084802]]<br>2023-05-13 22:02:03.395049",
          "GroundTruthState<br>[[5.0689187 ]\n [0.98798667]\n [6.42409632]\n [1.77577014]]<br>2023-05-13 22:02:04.395049",
          "GroundTruthState<br>[[6.13410397]\n [1.16811616]\n [8.29155731]\n [1.82192523]]<br>2023-05-13 22:02:05.395049",
          "GroundTruthState<br>[[ 7.33666159]\n [ 1.28324857]\n [10.21013307]\n [ 2.01430647]]<br>2023-05-13 22:02:06.395049",
          "GroundTruthState<br>[[ 8.70873977]\n [ 1.18677769]\n [12.63917113]\n [ 2.47937534]]<br>2023-05-13 22:02:07.395049",
          "GroundTruthState<br>[[ 9.66166897]\n [ 0.89282915]\n [15.07724044]\n [ 2.43028493]]<br>2023-05-13 22:02:08.395049",
          "GroundTruthState<br>[[10.28942728]\n [ 0.69092971]\n [17.46388039]\n [ 2.28585283]]<br>2023-05-13 22:02:09.395049",
          "GroundTruthState<br>[[10.90851618]\n [ 0.63559754]\n [19.92298759]\n [ 2.27795093]]<br>2023-05-13 22:02:10.395049",
          "GroundTruthState<br>[[11.43649485]\n [ 0.70608914]\n [22.43523846]\n [ 2.6968977 ]]<br>2023-05-13 22:02:11.395049",
          "GroundTruthState<br>[[12.08375738]\n [ 0.66391157]\n [25.22625371]\n [ 2.76051945]]<br>2023-05-13 22:02:12.395049",
          "GroundTruthState<br>[[12.85725554]\n [ 0.88012337]\n [28.31708702]\n [ 3.36182071]]<br>2023-05-13 22:02:13.395049",
          "GroundTruthState<br>[[13.66400938]\n [ 0.90965246]\n [31.65360028]\n [ 3.31134733]]<br>2023-05-13 22:02:14.395049",
          "GroundTruthState<br>[[14.660942  ]\n [ 1.13570134]\n [34.95982666]\n [ 3.21269825]]<br>2023-05-13 22:02:15.395049",
          "GroundTruthState<br>[[15.76369159]\n [ 1.16458455]\n [38.32678424]\n [ 3.36652349]]<br>2023-05-13 22:02:16.395049",
          "GroundTruthState<br>[[16.99429758]\n [ 1.13128308]\n [41.65059656]\n [ 3.38707982]]<br>2023-05-13 22:02:17.395049",
          "GroundTruthState<br>[[18.30211424]\n [ 1.43090003]\n [44.94718307]\n [ 3.18966342]]<br>2023-05-13 22:02:18.395049",
          "GroundTruthState<br>[[19.71972436]\n [ 1.53880955]\n [48.06695869]\n [ 3.14773137]]<br>2023-05-13 22:02:19.395049"
         ],
         "type": "scatter",
         "x": [
          0,
          1.177223465328352,
          2.275462874700381,
          3.1560399703547968,
          4.111484568780832,
          5.068918699968233,
          6.134103970132443,
          7.336661592351442,
          8.708739774094603,
          9.661668970928952,
          10.289427281808946,
          10.90851617793013,
          11.43649485409589,
          12.083757383111484,
          12.857255540294034,
          13.664009379110706,
          14.66094199646186,
          15.763691585187017,
          16.994297584708757,
          18.302114239501268,
          19.71972436026734
         ],
         "y": [
          0,
          1.0006757513847795,
          2.0307275520116606,
          3.2076890985336823,
          4.681546580969336,
          6.424096316700446,
          8.291557310607626,
          10.210133065599429,
          12.639171131337447,
          15.077240437037124,
          17.463880393414996,
          19.922987588268054,
          22.43523846129129,
          25.226253707256983,
          28.317087024384634,
          31.653600280950233,
          34.95982666405545,
          38.32678424492485,
          41.65059655664205,
          44.94718306572588,
          48.066958689446075
         ]
        }
       ],
       "layout": {
        "colorway": [
         "#636EFA",
         "#EF553B",
         "#00CC96",
         "#AB63FA",
         "#FFA15A",
         "#19D3F3",
         "#FF6692",
         "#B6E880",
         "#FF97FF",
         "#FECB52"
        ],
        "template": {
         "data": {
          "bar": [
           {
            "error_x": {
             "color": "#2a3f5f"
            },
            "error_y": {
             "color": "#2a3f5f"
            },
            "marker": {
             "line": {
              "color": "#E5ECF6",
              "width": 0.5
             },
             "pattern": {
              "fillmode": "overlay",
              "size": 10,
              "solidity": 0.2
             }
            },
            "type": "bar"
           }
          ],
          "barpolar": [
           {
            "marker": {
             "line": {
              "color": "#E5ECF6",
              "width": 0.5
             },
             "pattern": {
              "fillmode": "overlay",
              "size": 10,
              "solidity": 0.2
             }
            },
            "type": "barpolar"
           }
          ],
          "carpet": [
           {
            "aaxis": {
             "endlinecolor": "#2a3f5f",
             "gridcolor": "white",
             "linecolor": "white",
             "minorgridcolor": "white",
             "startlinecolor": "#2a3f5f"
            },
            "baxis": {
             "endlinecolor": "#2a3f5f",
             "gridcolor": "white",
             "linecolor": "white",
             "minorgridcolor": "white",
             "startlinecolor": "#2a3f5f"
            },
            "type": "carpet"
           }
          ],
          "choropleth": [
           {
            "colorbar": {
             "outlinewidth": 0,
             "ticks": ""
            },
            "type": "choropleth"
           }
          ],
          "contour": [
           {
            "colorbar": {
             "outlinewidth": 0,
             "ticks": ""
            },
            "colorscale": [
             [
              0,
              "#0d0887"
             ],
             [
              0.1111111111111111,
              "#46039f"
             ],
             [
              0.2222222222222222,
              "#7201a8"
             ],
             [
              0.3333333333333333,
              "#9c179e"
             ],
             [
              0.4444444444444444,
              "#bd3786"
             ],
             [
              0.5555555555555556,
              "#d8576b"
             ],
             [
              0.6666666666666666,
              "#ed7953"
             ],
             [
              0.7777777777777778,
              "#fb9f3a"
             ],
             [
              0.8888888888888888,
              "#fdca26"
             ],
             [
              1,
              "#f0f921"
             ]
            ],
            "type": "contour"
           }
          ],
          "contourcarpet": [
           {
            "colorbar": {
             "outlinewidth": 0,
             "ticks": ""
            },
            "type": "contourcarpet"
           }
          ],
          "heatmap": [
           {
            "colorbar": {
             "outlinewidth": 0,
             "ticks": ""
            },
            "colorscale": [
             [
              0,
              "#0d0887"
             ],
             [
              0.1111111111111111,
              "#46039f"
             ],
             [
              0.2222222222222222,
              "#7201a8"
             ],
             [
              0.3333333333333333,
              "#9c179e"
             ],
             [
              0.4444444444444444,
              "#bd3786"
             ],
             [
              0.5555555555555556,
              "#d8576b"
             ],
             [
              0.6666666666666666,
              "#ed7953"
             ],
             [
              0.7777777777777778,
              "#fb9f3a"
             ],
             [
              0.8888888888888888,
              "#fdca26"
             ],
             [
              1,
              "#f0f921"
             ]
            ],
            "type": "heatmap"
           }
          ],
          "heatmapgl": [
           {
            "colorbar": {
             "outlinewidth": 0,
             "ticks": ""
            },
            "colorscale": [
             [
              0,
              "#0d0887"
             ],
             [
              0.1111111111111111,
              "#46039f"
             ],
             [
              0.2222222222222222,
              "#7201a8"
             ],
             [
              0.3333333333333333,
              "#9c179e"
             ],
             [
              0.4444444444444444,
              "#bd3786"
             ],
             [
              0.5555555555555556,
              "#d8576b"
             ],
             [
              0.6666666666666666,
              "#ed7953"
             ],
             [
              0.7777777777777778,
              "#fb9f3a"
             ],
             [
              0.8888888888888888,
              "#fdca26"
             ],
             [
              1,
              "#f0f921"
             ]
            ],
            "type": "heatmapgl"
           }
          ],
          "histogram": [
           {
            "marker": {
             "pattern": {
              "fillmode": "overlay",
              "size": 10,
              "solidity": 0.2
             }
            },
            "type": "histogram"
           }
          ],
          "histogram2d": [
           {
            "colorbar": {
             "outlinewidth": 0,
             "ticks": ""
            },
            "colorscale": [
             [
              0,
              "#0d0887"
             ],
             [
              0.1111111111111111,
              "#46039f"
             ],
             [
              0.2222222222222222,
              "#7201a8"
             ],
             [
              0.3333333333333333,
              "#9c179e"
             ],
             [
              0.4444444444444444,
              "#bd3786"
             ],
             [
              0.5555555555555556,
              "#d8576b"
             ],
             [
              0.6666666666666666,
              "#ed7953"
             ],
             [
              0.7777777777777778,
              "#fb9f3a"
             ],
             [
              0.8888888888888888,
              "#fdca26"
             ],
             [
              1,
              "#f0f921"
             ]
            ],
            "type": "histogram2d"
           }
          ],
          "histogram2dcontour": [
           {
            "colorbar": {
             "outlinewidth": 0,
             "ticks": ""
            },
            "colorscale": [
             [
              0,
              "#0d0887"
             ],
             [
              0.1111111111111111,
              "#46039f"
             ],
             [
              0.2222222222222222,
              "#7201a8"
             ],
             [
              0.3333333333333333,
              "#9c179e"
             ],
             [
              0.4444444444444444,
              "#bd3786"
             ],
             [
              0.5555555555555556,
              "#d8576b"
             ],
             [
              0.6666666666666666,
              "#ed7953"
             ],
             [
              0.7777777777777778,
              "#fb9f3a"
             ],
             [
              0.8888888888888888,
              "#fdca26"
             ],
             [
              1,
              "#f0f921"
             ]
            ],
            "type": "histogram2dcontour"
           }
          ],
          "mesh3d": [
           {
            "colorbar": {
             "outlinewidth": 0,
             "ticks": ""
            },
            "type": "mesh3d"
           }
          ],
          "parcoords": [
           {
            "line": {
             "colorbar": {
              "outlinewidth": 0,
              "ticks": ""
             }
            },
            "type": "parcoords"
           }
          ],
          "pie": [
           {
            "automargin": true,
            "type": "pie"
           }
          ],
          "scatter": [
           {
            "fillpattern": {
             "fillmode": "overlay",
             "size": 10,
             "solidity": 0.2
            },
            "type": "scatter"
           }
          ],
          "scatter3d": [
           {
            "line": {
             "colorbar": {
              "outlinewidth": 0,
              "ticks": ""
             }
            },
            "marker": {
             "colorbar": {
              "outlinewidth": 0,
              "ticks": ""
             }
            },
            "type": "scatter3d"
           }
          ],
          "scattercarpet": [
           {
            "marker": {
             "colorbar": {
              "outlinewidth": 0,
              "ticks": ""
             }
            },
            "type": "scattercarpet"
           }
          ],
          "scattergeo": [
           {
            "marker": {
             "colorbar": {
              "outlinewidth": 0,
              "ticks": ""
             }
            },
            "type": "scattergeo"
           }
          ],
          "scattergl": [
           {
            "marker": {
             "colorbar": {
              "outlinewidth": 0,
              "ticks": ""
             }
            },
            "type": "scattergl"
           }
          ],
          "scattermapbox": [
           {
            "marker": {
             "colorbar": {
              "outlinewidth": 0,
              "ticks": ""
             }
            },
            "type": "scattermapbox"
           }
          ],
          "scatterpolar": [
           {
            "marker": {
             "colorbar": {
              "outlinewidth": 0,
              "ticks": ""
             }
            },
            "type": "scatterpolar"
           }
          ],
          "scatterpolargl": [
           {
            "marker": {
             "colorbar": {
              "outlinewidth": 0,
              "ticks": ""
             }
            },
            "type": "scatterpolargl"
           }
          ],
          "scatterternary": [
           {
            "marker": {
             "colorbar": {
              "outlinewidth": 0,
              "ticks": ""
             }
            },
            "type": "scatterternary"
           }
          ],
          "surface": [
           {
            "colorbar": {
             "outlinewidth": 0,
             "ticks": ""
            },
            "colorscale": [
             [
              0,
              "#0d0887"
             ],
             [
              0.1111111111111111,
              "#46039f"
             ],
             [
              0.2222222222222222,
              "#7201a8"
             ],
             [
              0.3333333333333333,
              "#9c179e"
             ],
             [
              0.4444444444444444,
              "#bd3786"
             ],
             [
              0.5555555555555556,
              "#d8576b"
             ],
             [
              0.6666666666666666,
              "#ed7953"
             ],
             [
              0.7777777777777778,
              "#fb9f3a"
             ],
             [
              0.8888888888888888,
              "#fdca26"
             ],
             [
              1,
              "#f0f921"
             ]
            ],
            "type": "surface"
           }
          ],
          "table": [
           {
            "cells": {
             "fill": {
              "color": "#EBF0F8"
             },
             "line": {
              "color": "white"
             }
            },
            "header": {
             "fill": {
              "color": "#C8D4E3"
             },
             "line": {
              "color": "white"
             }
            },
            "type": "table"
           }
          ]
         },
         "layout": {
          "annotationdefaults": {
           "arrowcolor": "#2a3f5f",
           "arrowhead": 0,
           "arrowwidth": 1
          },
          "autotypenumbers": "strict",
          "coloraxis": {
           "colorbar": {
            "outlinewidth": 0,
            "ticks": ""
           }
          },
          "colorscale": {
           "diverging": [
            [
             0,
             "#8e0152"
            ],
            [
             0.1,
             "#c51b7d"
            ],
            [
             0.2,
             "#de77ae"
            ],
            [
             0.3,
             "#f1b6da"
            ],
            [
             0.4,
             "#fde0ef"
            ],
            [
             0.5,
             "#f7f7f7"
            ],
            [
             0.6,
             "#e6f5d0"
            ],
            [
             0.7,
             "#b8e186"
            ],
            [
             0.8,
             "#7fbc41"
            ],
            [
             0.9,
             "#4d9221"
            ],
            [
             1,
             "#276419"
            ]
           ],
           "sequential": [
            [
             0,
             "#0d0887"
            ],
            [
             0.1111111111111111,
             "#46039f"
            ],
            [
             0.2222222222222222,
             "#7201a8"
            ],
            [
             0.3333333333333333,
             "#9c179e"
            ],
            [
             0.4444444444444444,
             "#bd3786"
            ],
            [
             0.5555555555555556,
             "#d8576b"
            ],
            [
             0.6666666666666666,
             "#ed7953"
            ],
            [
             0.7777777777777778,
             "#fb9f3a"
            ],
            [
             0.8888888888888888,
             "#fdca26"
            ],
            [
             1,
             "#f0f921"
            ]
           ],
           "sequentialminus": [
            [
             0,
             "#0d0887"
            ],
            [
             0.1111111111111111,
             "#46039f"
            ],
            [
             0.2222222222222222,
             "#7201a8"
            ],
            [
             0.3333333333333333,
             "#9c179e"
            ],
            [
             0.4444444444444444,
             "#bd3786"
            ],
            [
             0.5555555555555556,
             "#d8576b"
            ],
            [
             0.6666666666666666,
             "#ed7953"
            ],
            [
             0.7777777777777778,
             "#fb9f3a"
            ],
            [
             0.8888888888888888,
             "#fdca26"
            ],
            [
             1,
             "#f0f921"
            ]
           ]
          },
          "colorway": [
           "#636efa",
           "#EF553B",
           "#00cc96",
           "#ab63fa",
           "#FFA15A",
           "#19d3f3",
           "#FF6692",
           "#B6E880",
           "#FF97FF",
           "#FECB52"
          ],
          "font": {
           "color": "#2a3f5f"
          },
          "geo": {
           "bgcolor": "white",
           "lakecolor": "white",
           "landcolor": "#E5ECF6",
           "showlakes": true,
           "showland": true,
           "subunitcolor": "white"
          },
          "hoverlabel": {
           "align": "left"
          },
          "hovermode": "closest",
          "mapbox": {
           "style": "light"
          },
          "paper_bgcolor": "white",
          "plot_bgcolor": "#E5ECF6",
          "polar": {
           "angularaxis": {
            "gridcolor": "white",
            "linecolor": "white",
            "ticks": ""
           },
           "bgcolor": "#E5ECF6",
           "radialaxis": {
            "gridcolor": "white",
            "linecolor": "white",
            "ticks": ""
           }
          },
          "scene": {
           "xaxis": {
            "backgroundcolor": "#E5ECF6",
            "gridcolor": "white",
            "gridwidth": 2,
            "linecolor": "white",
            "showbackground": true,
            "ticks": "",
            "zerolinecolor": "white"
           },
           "yaxis": {
            "backgroundcolor": "#E5ECF6",
            "gridcolor": "white",
            "gridwidth": 2,
            "linecolor": "white",
            "showbackground": true,
            "ticks": "",
            "zerolinecolor": "white"
           },
           "zaxis": {
            "backgroundcolor": "#E5ECF6",
            "gridcolor": "white",
            "gridwidth": 2,
            "linecolor": "white",
            "showbackground": true,
            "ticks": "",
            "zerolinecolor": "white"
           }
          },
          "shapedefaults": {
           "line": {
            "color": "#2a3f5f"
           }
          },
          "ternary": {
           "aaxis": {
            "gridcolor": "white",
            "linecolor": "white",
            "ticks": ""
           },
           "baxis": {
            "gridcolor": "white",
            "linecolor": "white",
            "ticks": ""
           },
           "bgcolor": "#E5ECF6",
           "caxis": {
            "gridcolor": "white",
            "linecolor": "white",
            "ticks": ""
           }
          },
          "title": {
           "x": 0.05
          },
          "xaxis": {
           "automargin": true,
           "gridcolor": "white",
           "linecolor": "white",
           "ticks": "",
           "title": {
            "standoff": 15
           },
           "zerolinecolor": "white",
           "zerolinewidth": 2
          },
          "yaxis": {
           "automargin": true,
           "gridcolor": "white",
           "linecolor": "white",
           "ticks": "",
           "title": {
            "standoff": 15
           },
           "zerolinecolor": "white",
           "zerolinewidth": 2
          }
         }
        },
        "xaxis": {
         "title": {
          "text": "<i>x</i>"
         }
        },
        "yaxis": {
         "scaleanchor": "x",
         "scaleratio": 1,
         "title": {
          "text": "<i>y</i>"
         }
        }
       }
      }
     },
     "metadata": {},
     "output_type": "display_data"
    }
   ],
   "source": [
    "from stonesoup.plotter import Plotterly\n",
    "plotter = Plotterly()\n",
    "plotter.plot_ground_truths(truth, [0, 2])\n",
    "plotter.fig"
   ]
  },
  {
   "attachments": {},
   "cell_type": "markdown",
   "metadata": {},
   "source": [
    "### Using a bearing-range sensor"
   ]
  },
  {
   "cell_type": "code",
   "execution_count": 4,
   "metadata": {},
   "outputs": [],
   "source": [
    "from stonesoup.models.measurement.nonlinear import CartesianToBearingRange\n",
    "sensor_x = 50  # Placing the sensor off-centre\n",
    "sensor_y = 0\n",
    "\n",
    "measurement_model = CartesianToBearingRange(\n",
    "    ndim_state=4,\n",
    "    mapping=(0, 2),\n",
    "    noise_covar=np.diag([np.radians(0.2), 1]),  # Covariance matrix. 0.2 degree variance in\n",
    "    # bearing and 1 metre in range\n",
    "    translation_offset=np.array([[sensor_x], [sensor_y]])  # Offset measurements to location of\n",
    "    # sensor in cartesian.\n",
    ")"
   ]
  },
  {
   "cell_type": "code",
   "execution_count": 5,
   "metadata": {},
   "outputs": [],
   "source": [
    "from stonesoup.types.detection import Detection\n",
    "\n",
    "measurements = []\n",
    "for state in truth:\n",
    "    measurement = measurement_model.function(state, noise=True)\n",
    "    measurements.append(Detection(measurement, timestamp=state.timestamp,\n",
    "                                  measurement_model=measurement_model))"
   ]
  },
  {
   "cell_type": "code",
   "execution_count": 6,
   "metadata": {},
   "outputs": [
    {
     "data": {
      "application/vnd.plotly.v1+json": {
       "config": {
        "plotlyServerURL": "https://plot.ly"
       },
       "data": [
        {
         "legendgroup": "Ground Truth",
         "legendrank": 100,
         "line": {
          "dash": "dash"
         },
         "mode": "lines",
         "name": "Ground Truth",
         "showlegend": true,
         "text": [
          "GroundTruthState<br>[[0]\n [1]\n [0]\n [1]]<br>2023-05-13 22:01:59.395049",
          "GroundTruthState<br>[[1.17722347]\n [1.17454005]\n [1.00067575]\n [0.98556448]]<br>2023-05-13 22:02:00.395049",
          "GroundTruthState<br>[[2.27546287]\n [1.00520515]\n [2.03072755]\n [1.03937242]]<br>2023-05-13 22:02:01.395049",
          "GroundTruthState<br>[[3.15603997]\n [0.84910364]\n [3.2076891 ]\n [1.238314  ]]<br>2023-05-13 22:02:02.395049",
          "GroundTruthState<br>[[4.11148457]\n [1.04478491]\n [4.68154658]\n [1.59084802]]<br>2023-05-13 22:02:03.395049",
          "GroundTruthState<br>[[5.0689187 ]\n [0.98798667]\n [6.42409632]\n [1.77577014]]<br>2023-05-13 22:02:04.395049",
          "GroundTruthState<br>[[6.13410397]\n [1.16811616]\n [8.29155731]\n [1.82192523]]<br>2023-05-13 22:02:05.395049",
          "GroundTruthState<br>[[ 7.33666159]\n [ 1.28324857]\n [10.21013307]\n [ 2.01430647]]<br>2023-05-13 22:02:06.395049",
          "GroundTruthState<br>[[ 8.70873977]\n [ 1.18677769]\n [12.63917113]\n [ 2.47937534]]<br>2023-05-13 22:02:07.395049",
          "GroundTruthState<br>[[ 9.66166897]\n [ 0.89282915]\n [15.07724044]\n [ 2.43028493]]<br>2023-05-13 22:02:08.395049",
          "GroundTruthState<br>[[10.28942728]\n [ 0.69092971]\n [17.46388039]\n [ 2.28585283]]<br>2023-05-13 22:02:09.395049",
          "GroundTruthState<br>[[10.90851618]\n [ 0.63559754]\n [19.92298759]\n [ 2.27795093]]<br>2023-05-13 22:02:10.395049",
          "GroundTruthState<br>[[11.43649485]\n [ 0.70608914]\n [22.43523846]\n [ 2.6968977 ]]<br>2023-05-13 22:02:11.395049",
          "GroundTruthState<br>[[12.08375738]\n [ 0.66391157]\n [25.22625371]\n [ 2.76051945]]<br>2023-05-13 22:02:12.395049",
          "GroundTruthState<br>[[12.85725554]\n [ 0.88012337]\n [28.31708702]\n [ 3.36182071]]<br>2023-05-13 22:02:13.395049",
          "GroundTruthState<br>[[13.66400938]\n [ 0.90965246]\n [31.65360028]\n [ 3.31134733]]<br>2023-05-13 22:02:14.395049",
          "GroundTruthState<br>[[14.660942  ]\n [ 1.13570134]\n [34.95982666]\n [ 3.21269825]]<br>2023-05-13 22:02:15.395049",
          "GroundTruthState<br>[[15.76369159]\n [ 1.16458455]\n [38.32678424]\n [ 3.36652349]]<br>2023-05-13 22:02:16.395049",
          "GroundTruthState<br>[[16.99429758]\n [ 1.13128308]\n [41.65059656]\n [ 3.38707982]]<br>2023-05-13 22:02:17.395049",
          "GroundTruthState<br>[[18.30211424]\n [ 1.43090003]\n [44.94718307]\n [ 3.18966342]]<br>2023-05-13 22:02:18.395049",
          "GroundTruthState<br>[[19.71972436]\n [ 1.53880955]\n [48.06695869]\n [ 3.14773137]]<br>2023-05-13 22:02:19.395049"
         ],
         "type": "scatter",
         "x": [
          0,
          1.177223465328352,
          2.275462874700381,
          3.1560399703547968,
          4.111484568780832,
          5.068918699968233,
          6.134103970132443,
          7.336661592351442,
          8.708739774094603,
          9.661668970928952,
          10.289427281808946,
          10.90851617793013,
          11.43649485409589,
          12.083757383111484,
          12.857255540294034,
          13.664009379110706,
          14.66094199646186,
          15.763691585187017,
          16.994297584708757,
          18.302114239501268,
          19.71972436026734
         ],
         "y": [
          0,
          1.0006757513847795,
          2.0307275520116606,
          3.2076890985336823,
          4.681546580969336,
          6.424096316700446,
          8.291557310607626,
          10.210133065599429,
          12.639171131337447,
          15.077240437037124,
          17.463880393414996,
          19.922987588268054,
          22.43523846129129,
          25.226253707256983,
          28.317087024384634,
          31.653600280950233,
          34.95982666405545,
          38.32678424492485,
          41.65059655664205,
          44.94718306572588,
          48.066958689446075
         ]
        },
        {
         "legendgroup": "Measurements<br>(Detections)",
         "legendrank": 200,
         "marker": {
          "color": "#636EFA"
         },
         "mode": "markers",
         "name": "Measurements<br>(Detections)",
         "showlegend": true,
         "text": [
          "Detection<br>[[Bearing(2.435714315241148)]\n [46.21798149747487]]<br>2023-05-13 22:02:13.395049",
          "Detection<br>[[Bearing(2.937703488743674)]\n [45.10212036890871]]<br>2023-05-13 22:02:04.395049",
          "Detection<br>[[Bearing(2.32606487631801)]\n [49.55028147242189]]<br>2023-05-13 22:02:15.395049",
          "Detection<br>[[Bearing(3.044767462908764)]\n [45.74123179494575]]<br>2023-05-13 22:02:03.395049",
          "Detection<br>[[Bearing(2.5236104370654777)]\n [46.9982845683127]]<br>2023-05-13 22:02:14.395049",
          "Detection<br>[[Bearing(2.9452471282335875)]\n [46.2161839747064]]<br>2023-05-13 22:02:05.395049",
          "Detection<br>[[Bearing(2.6675764047046098)]\n [45.84408657411932]]<br>2023-05-13 22:02:12.395049",
          "Detection<br>[[Bearing(-3.1217136817127424)]\n [47.7876225398533]]<br>2023-05-13 22:01:59.395049",
          "Detection<br>[[Bearing(-3.096461688413128)]\n [48.50034235672541]]<br>2023-05-13 22:02:00.395049",
          "Detection<br>[[Bearing(2.515900984981293)]\n [45.03578875479237]]<br>2023-05-13 22:02:11.395049",
          "Detection<br>[[Bearing(2.903665081663336)]\n [47.21145298695907]]<br>2023-05-13 22:02:01.395049",
          "Detection<br>[[Bearing(2.2312923796610526)]\n [50.16616524252715]]<br>2023-05-13 22:02:16.395049",
          "Detection<br>[[Bearing(2.6573352109597863)]\n [43.4437023789485]]<br>2023-05-13 22:02:10.395049",
          "Detection<br>[[Bearing(2.2168669078367147)]\n [53.473621879810885]]<br>2023-05-13 22:02:17.395049",
          "Detection<br>[[Bearing(2.751748017042739)]\n [43.40696995272662]]<br>2023-05-13 22:02:09.395049",
          "Detection<br>[[Bearing(2.113687859118837)]\n [53.696127508762395]]<br>2023-05-13 22:02:18.395049",
          "Detection<br>[[Bearing(2.645421155733226)]\n [41.82268473115909]]<br>2023-05-13 22:02:08.395049",
          "Detection<br>[[Bearing(2.0193429860239256)]\n [56.73700365375307]]<br>2023-05-13 22:02:19.395049",
          "Detection<br>[[Bearing(2.825754941593946)]\n [42.16978735715047]]<br>2023-05-13 22:02:07.395049",
          "Detection<br>[[Bearing(2.9878623947562133)]\n [43.60243560034166]]<br>2023-05-13 22:02:06.395049",
          "Detection<br>[[Bearing(3.037053677683474)]\n [45.71541374605071]]<br>2023-05-13 22:02:02.395049"
         ],
         "type": "scatter",
         "x": [
          14.826171916953918,
          5.832101951594851,
          16.034063908529554,
          4.473015456288891,
          11.694085658745927,
          4.671810836553469,
          9.210581625879023,
          2.221819350783221,
          1.549042106302693,
          13.495870684052178,
          4.1185639808006655,
          19.22262346395934,
          11.551415784923044,
          17.806013715912904,
          9.849936778112081,
          22.259832475318472,
          13.220645587904379,
          25.395634186662065,
          9.91607756750875,
          6.911778516695591,
          4.534156951991264
         ],
         "y": [
          29.98172162643846,
          9.132252939840118,
          36.07693971814102,
          4.421986485240061,
          27.230418264224387,
          9.016148199021414,
          20.926146862627856,
          -0.9499062386905731,
          -2.188124288687379,
          26.37557225257571,
          11.127224359918513,
          39.61561849446898,
          20.2252725135359,
          42.696316985016416,
          16.496589458288486,
          45.97561544057756,
          19.91019957588045,
          51.12448304412903,
          13.098478086148486,
          6.676642845595845,
          4.770342745174409
         ]
        }
       ],
       "layout": {
        "colorway": [
         "#636EFA",
         "#EF553B",
         "#00CC96",
         "#AB63FA",
         "#FFA15A",
         "#19D3F3",
         "#FF6692",
         "#B6E880",
         "#FF97FF",
         "#FECB52"
        ],
        "template": {
         "data": {
          "bar": [
           {
            "error_x": {
             "color": "#2a3f5f"
            },
            "error_y": {
             "color": "#2a3f5f"
            },
            "marker": {
             "line": {
              "color": "#E5ECF6",
              "width": 0.5
             },
             "pattern": {
              "fillmode": "overlay",
              "size": 10,
              "solidity": 0.2
             }
            },
            "type": "bar"
           }
          ],
          "barpolar": [
           {
            "marker": {
             "line": {
              "color": "#E5ECF6",
              "width": 0.5
             },
             "pattern": {
              "fillmode": "overlay",
              "size": 10,
              "solidity": 0.2
             }
            },
            "type": "barpolar"
           }
          ],
          "carpet": [
           {
            "aaxis": {
             "endlinecolor": "#2a3f5f",
             "gridcolor": "white",
             "linecolor": "white",
             "minorgridcolor": "white",
             "startlinecolor": "#2a3f5f"
            },
            "baxis": {
             "endlinecolor": "#2a3f5f",
             "gridcolor": "white",
             "linecolor": "white",
             "minorgridcolor": "white",
             "startlinecolor": "#2a3f5f"
            },
            "type": "carpet"
           }
          ],
          "choropleth": [
           {
            "colorbar": {
             "outlinewidth": 0,
             "ticks": ""
            },
            "type": "choropleth"
           }
          ],
          "contour": [
           {
            "colorbar": {
             "outlinewidth": 0,
             "ticks": ""
            },
            "colorscale": [
             [
              0,
              "#0d0887"
             ],
             [
              0.1111111111111111,
              "#46039f"
             ],
             [
              0.2222222222222222,
              "#7201a8"
             ],
             [
              0.3333333333333333,
              "#9c179e"
             ],
             [
              0.4444444444444444,
              "#bd3786"
             ],
             [
              0.5555555555555556,
              "#d8576b"
             ],
             [
              0.6666666666666666,
              "#ed7953"
             ],
             [
              0.7777777777777778,
              "#fb9f3a"
             ],
             [
              0.8888888888888888,
              "#fdca26"
             ],
             [
              1,
              "#f0f921"
             ]
            ],
            "type": "contour"
           }
          ],
          "contourcarpet": [
           {
            "colorbar": {
             "outlinewidth": 0,
             "ticks": ""
            },
            "type": "contourcarpet"
           }
          ],
          "heatmap": [
           {
            "colorbar": {
             "outlinewidth": 0,
             "ticks": ""
            },
            "colorscale": [
             [
              0,
              "#0d0887"
             ],
             [
              0.1111111111111111,
              "#46039f"
             ],
             [
              0.2222222222222222,
              "#7201a8"
             ],
             [
              0.3333333333333333,
              "#9c179e"
             ],
             [
              0.4444444444444444,
              "#bd3786"
             ],
             [
              0.5555555555555556,
              "#d8576b"
             ],
             [
              0.6666666666666666,
              "#ed7953"
             ],
             [
              0.7777777777777778,
              "#fb9f3a"
             ],
             [
              0.8888888888888888,
              "#fdca26"
             ],
             [
              1,
              "#f0f921"
             ]
            ],
            "type": "heatmap"
           }
          ],
          "heatmapgl": [
           {
            "colorbar": {
             "outlinewidth": 0,
             "ticks": ""
            },
            "colorscale": [
             [
              0,
              "#0d0887"
             ],
             [
              0.1111111111111111,
              "#46039f"
             ],
             [
              0.2222222222222222,
              "#7201a8"
             ],
             [
              0.3333333333333333,
              "#9c179e"
             ],
             [
              0.4444444444444444,
              "#bd3786"
             ],
             [
              0.5555555555555556,
              "#d8576b"
             ],
             [
              0.6666666666666666,
              "#ed7953"
             ],
             [
              0.7777777777777778,
              "#fb9f3a"
             ],
             [
              0.8888888888888888,
              "#fdca26"
             ],
             [
              1,
              "#f0f921"
             ]
            ],
            "type": "heatmapgl"
           }
          ],
          "histogram": [
           {
            "marker": {
             "pattern": {
              "fillmode": "overlay",
              "size": 10,
              "solidity": 0.2
             }
            },
            "type": "histogram"
           }
          ],
          "histogram2d": [
           {
            "colorbar": {
             "outlinewidth": 0,
             "ticks": ""
            },
            "colorscale": [
             [
              0,
              "#0d0887"
             ],
             [
              0.1111111111111111,
              "#46039f"
             ],
             [
              0.2222222222222222,
              "#7201a8"
             ],
             [
              0.3333333333333333,
              "#9c179e"
             ],
             [
              0.4444444444444444,
              "#bd3786"
             ],
             [
              0.5555555555555556,
              "#d8576b"
             ],
             [
              0.6666666666666666,
              "#ed7953"
             ],
             [
              0.7777777777777778,
              "#fb9f3a"
             ],
             [
              0.8888888888888888,
              "#fdca26"
             ],
             [
              1,
              "#f0f921"
             ]
            ],
            "type": "histogram2d"
           }
          ],
          "histogram2dcontour": [
           {
            "colorbar": {
             "outlinewidth": 0,
             "ticks": ""
            },
            "colorscale": [
             [
              0,
              "#0d0887"
             ],
             [
              0.1111111111111111,
              "#46039f"
             ],
             [
              0.2222222222222222,
              "#7201a8"
             ],
             [
              0.3333333333333333,
              "#9c179e"
             ],
             [
              0.4444444444444444,
              "#bd3786"
             ],
             [
              0.5555555555555556,
              "#d8576b"
             ],
             [
              0.6666666666666666,
              "#ed7953"
             ],
             [
              0.7777777777777778,
              "#fb9f3a"
             ],
             [
              0.8888888888888888,
              "#fdca26"
             ],
             [
              1,
              "#f0f921"
             ]
            ],
            "type": "histogram2dcontour"
           }
          ],
          "mesh3d": [
           {
            "colorbar": {
             "outlinewidth": 0,
             "ticks": ""
            },
            "type": "mesh3d"
           }
          ],
          "parcoords": [
           {
            "line": {
             "colorbar": {
              "outlinewidth": 0,
              "ticks": ""
             }
            },
            "type": "parcoords"
           }
          ],
          "pie": [
           {
            "automargin": true,
            "type": "pie"
           }
          ],
          "scatter": [
           {
            "fillpattern": {
             "fillmode": "overlay",
             "size": 10,
             "solidity": 0.2
            },
            "type": "scatter"
           }
          ],
          "scatter3d": [
           {
            "line": {
             "colorbar": {
              "outlinewidth": 0,
              "ticks": ""
             }
            },
            "marker": {
             "colorbar": {
              "outlinewidth": 0,
              "ticks": ""
             }
            },
            "type": "scatter3d"
           }
          ],
          "scattercarpet": [
           {
            "marker": {
             "colorbar": {
              "outlinewidth": 0,
              "ticks": ""
             }
            },
            "type": "scattercarpet"
           }
          ],
          "scattergeo": [
           {
            "marker": {
             "colorbar": {
              "outlinewidth": 0,
              "ticks": ""
             }
            },
            "type": "scattergeo"
           }
          ],
          "scattergl": [
           {
            "marker": {
             "colorbar": {
              "outlinewidth": 0,
              "ticks": ""
             }
            },
            "type": "scattergl"
           }
          ],
          "scattermapbox": [
           {
            "marker": {
             "colorbar": {
              "outlinewidth": 0,
              "ticks": ""
             }
            },
            "type": "scattermapbox"
           }
          ],
          "scatterpolar": [
           {
            "marker": {
             "colorbar": {
              "outlinewidth": 0,
              "ticks": ""
             }
            },
            "type": "scatterpolar"
           }
          ],
          "scatterpolargl": [
           {
            "marker": {
             "colorbar": {
              "outlinewidth": 0,
              "ticks": ""
             }
            },
            "type": "scatterpolargl"
           }
          ],
          "scatterternary": [
           {
            "marker": {
             "colorbar": {
              "outlinewidth": 0,
              "ticks": ""
             }
            },
            "type": "scatterternary"
           }
          ],
          "surface": [
           {
            "colorbar": {
             "outlinewidth": 0,
             "ticks": ""
            },
            "colorscale": [
             [
              0,
              "#0d0887"
             ],
             [
              0.1111111111111111,
              "#46039f"
             ],
             [
              0.2222222222222222,
              "#7201a8"
             ],
             [
              0.3333333333333333,
              "#9c179e"
             ],
             [
              0.4444444444444444,
              "#bd3786"
             ],
             [
              0.5555555555555556,
              "#d8576b"
             ],
             [
              0.6666666666666666,
              "#ed7953"
             ],
             [
              0.7777777777777778,
              "#fb9f3a"
             ],
             [
              0.8888888888888888,
              "#fdca26"
             ],
             [
              1,
              "#f0f921"
             ]
            ],
            "type": "surface"
           }
          ],
          "table": [
           {
            "cells": {
             "fill": {
              "color": "#EBF0F8"
             },
             "line": {
              "color": "white"
             }
            },
            "header": {
             "fill": {
              "color": "#C8D4E3"
             },
             "line": {
              "color": "white"
             }
            },
            "type": "table"
           }
          ]
         },
         "layout": {
          "annotationdefaults": {
           "arrowcolor": "#2a3f5f",
           "arrowhead": 0,
           "arrowwidth": 1
          },
          "autotypenumbers": "strict",
          "coloraxis": {
           "colorbar": {
            "outlinewidth": 0,
            "ticks": ""
           }
          },
          "colorscale": {
           "diverging": [
            [
             0,
             "#8e0152"
            ],
            [
             0.1,
             "#c51b7d"
            ],
            [
             0.2,
             "#de77ae"
            ],
            [
             0.3,
             "#f1b6da"
            ],
            [
             0.4,
             "#fde0ef"
            ],
            [
             0.5,
             "#f7f7f7"
            ],
            [
             0.6,
             "#e6f5d0"
            ],
            [
             0.7,
             "#b8e186"
            ],
            [
             0.8,
             "#7fbc41"
            ],
            [
             0.9,
             "#4d9221"
            ],
            [
             1,
             "#276419"
            ]
           ],
           "sequential": [
            [
             0,
             "#0d0887"
            ],
            [
             0.1111111111111111,
             "#46039f"
            ],
            [
             0.2222222222222222,
             "#7201a8"
            ],
            [
             0.3333333333333333,
             "#9c179e"
            ],
            [
             0.4444444444444444,
             "#bd3786"
            ],
            [
             0.5555555555555556,
             "#d8576b"
            ],
            [
             0.6666666666666666,
             "#ed7953"
            ],
            [
             0.7777777777777778,
             "#fb9f3a"
            ],
            [
             0.8888888888888888,
             "#fdca26"
            ],
            [
             1,
             "#f0f921"
            ]
           ],
           "sequentialminus": [
            [
             0,
             "#0d0887"
            ],
            [
             0.1111111111111111,
             "#46039f"
            ],
            [
             0.2222222222222222,
             "#7201a8"
            ],
            [
             0.3333333333333333,
             "#9c179e"
            ],
            [
             0.4444444444444444,
             "#bd3786"
            ],
            [
             0.5555555555555556,
             "#d8576b"
            ],
            [
             0.6666666666666666,
             "#ed7953"
            ],
            [
             0.7777777777777778,
             "#fb9f3a"
            ],
            [
             0.8888888888888888,
             "#fdca26"
            ],
            [
             1,
             "#f0f921"
            ]
           ]
          },
          "colorway": [
           "#636efa",
           "#EF553B",
           "#00cc96",
           "#ab63fa",
           "#FFA15A",
           "#19d3f3",
           "#FF6692",
           "#B6E880",
           "#FF97FF",
           "#FECB52"
          ],
          "font": {
           "color": "#2a3f5f"
          },
          "geo": {
           "bgcolor": "white",
           "lakecolor": "white",
           "landcolor": "#E5ECF6",
           "showlakes": true,
           "showland": true,
           "subunitcolor": "white"
          },
          "hoverlabel": {
           "align": "left"
          },
          "hovermode": "closest",
          "mapbox": {
           "style": "light"
          },
          "paper_bgcolor": "white",
          "plot_bgcolor": "#E5ECF6",
          "polar": {
           "angularaxis": {
            "gridcolor": "white",
            "linecolor": "white",
            "ticks": ""
           },
           "bgcolor": "#E5ECF6",
           "radialaxis": {
            "gridcolor": "white",
            "linecolor": "white",
            "ticks": ""
           }
          },
          "scene": {
           "xaxis": {
            "backgroundcolor": "#E5ECF6",
            "gridcolor": "white",
            "gridwidth": 2,
            "linecolor": "white",
            "showbackground": true,
            "ticks": "",
            "zerolinecolor": "white"
           },
           "yaxis": {
            "backgroundcolor": "#E5ECF6",
            "gridcolor": "white",
            "gridwidth": 2,
            "linecolor": "white",
            "showbackground": true,
            "ticks": "",
            "zerolinecolor": "white"
           },
           "zaxis": {
            "backgroundcolor": "#E5ECF6",
            "gridcolor": "white",
            "gridwidth": 2,
            "linecolor": "white",
            "showbackground": true,
            "ticks": "",
            "zerolinecolor": "white"
           }
          },
          "shapedefaults": {
           "line": {
            "color": "#2a3f5f"
           }
          },
          "ternary": {
           "aaxis": {
            "gridcolor": "white",
            "linecolor": "white",
            "ticks": ""
           },
           "baxis": {
            "gridcolor": "white",
            "linecolor": "white",
            "ticks": ""
           },
           "bgcolor": "#E5ECF6",
           "caxis": {
            "gridcolor": "white",
            "linecolor": "white",
            "ticks": ""
           }
          },
          "title": {
           "x": 0.05
          },
          "xaxis": {
           "automargin": true,
           "gridcolor": "white",
           "linecolor": "white",
           "ticks": "",
           "title": {
            "standoff": 15
           },
           "zerolinecolor": "white",
           "zerolinewidth": 2
          },
          "yaxis": {
           "automargin": true,
           "gridcolor": "white",
           "linecolor": "white",
           "ticks": "",
           "title": {
            "standoff": 15
           },
           "zerolinecolor": "white",
           "zerolinewidth": 2
          }
         }
        },
        "xaxis": {
         "title": {
          "text": "<i>x</i>"
         }
        },
        "yaxis": {
         "scaleanchor": "x",
         "scaleratio": 1,
         "title": {
          "text": "<i>y</i>"
         }
        }
       }
      }
     },
     "metadata": {},
     "output_type": "display_data"
    }
   ],
   "source": [
    "plotter.plot_measurements(measurements, [0, 2])\n",
    "plotter.fig"
   ]
  },
  {
   "attachments": {},
   "cell_type": "markdown",
   "metadata": {},
   "source": [
    "### Set up the filter"
   ]
  },
  {
   "cell_type": "code",
   "execution_count": 7,
   "metadata": {},
   "outputs": [],
   "source": [
    "from stonesoup.predictor.kalman import ExtendedKalmanPredictor\n",
    "predictor = ExtendedKalmanPredictor(transition_model)\n",
    "\n",
    "from stonesoup.updater.kalman import ExtendedKalmanUpdater\n",
    "updater = ExtendedKalmanUpdater(measurement_model)\n",
    "\n",
    "from stonesoup.types.state import GaussianState\n",
    "prior = GaussianState([[0], [1], [0], [1]], np.diag([1.5, 0.5, 1.5, 0.5]), timestamp=start_time)\n",
    "\n",
    "\n",
    "from stonesoup.types.hypothesis import SingleHypothesis\n",
    "from stonesoup.types.track import Track\n",
    "\n",
    "track = Track()\n",
    "for measurement in measurements:\n",
    "    prediction = predictor.predict(prior, timestamp=measurement.timestamp)\n",
    "    hypothesis = SingleHypothesis(prediction, measurement)  # Group a prediction and measurement\n",
    "    post = updater.update(hypothesis)\n",
    "    track.append(post)\n",
    "    prior = track[-1]"
   ]
  },
  {
   "cell_type": "code",
   "execution_count": 8,
   "metadata": {},
   "outputs": [
    {
     "data": {
      "application/vnd.plotly.v1+json": {
       "config": {
        "plotlyServerURL": "https://plot.ly"
       },
       "data": [
        {
         "legendgroup": "Ground Truth",
         "legendrank": 100,
         "line": {
          "dash": "dash"
         },
         "mode": "lines",
         "name": "Ground Truth",
         "showlegend": true,
         "text": [
          "GroundTruthState<br>[[0]\n [1]\n [0]\n [1]]<br>2023-05-13 22:01:59.395049",
          "GroundTruthState<br>[[1.17722347]\n [1.17454005]\n [1.00067575]\n [0.98556448]]<br>2023-05-13 22:02:00.395049",
          "GroundTruthState<br>[[2.27546287]\n [1.00520515]\n [2.03072755]\n [1.03937242]]<br>2023-05-13 22:02:01.395049",
          "GroundTruthState<br>[[3.15603997]\n [0.84910364]\n [3.2076891 ]\n [1.238314  ]]<br>2023-05-13 22:02:02.395049",
          "GroundTruthState<br>[[4.11148457]\n [1.04478491]\n [4.68154658]\n [1.59084802]]<br>2023-05-13 22:02:03.395049",
          "GroundTruthState<br>[[5.0689187 ]\n [0.98798667]\n [6.42409632]\n [1.77577014]]<br>2023-05-13 22:02:04.395049",
          "GroundTruthState<br>[[6.13410397]\n [1.16811616]\n [8.29155731]\n [1.82192523]]<br>2023-05-13 22:02:05.395049",
          "GroundTruthState<br>[[ 7.33666159]\n [ 1.28324857]\n [10.21013307]\n [ 2.01430647]]<br>2023-05-13 22:02:06.395049",
          "GroundTruthState<br>[[ 8.70873977]\n [ 1.18677769]\n [12.63917113]\n [ 2.47937534]]<br>2023-05-13 22:02:07.395049",
          "GroundTruthState<br>[[ 9.66166897]\n [ 0.89282915]\n [15.07724044]\n [ 2.43028493]]<br>2023-05-13 22:02:08.395049",
          "GroundTruthState<br>[[10.28942728]\n [ 0.69092971]\n [17.46388039]\n [ 2.28585283]]<br>2023-05-13 22:02:09.395049",
          "GroundTruthState<br>[[10.90851618]\n [ 0.63559754]\n [19.92298759]\n [ 2.27795093]]<br>2023-05-13 22:02:10.395049",
          "GroundTruthState<br>[[11.43649485]\n [ 0.70608914]\n [22.43523846]\n [ 2.6968977 ]]<br>2023-05-13 22:02:11.395049",
          "GroundTruthState<br>[[12.08375738]\n [ 0.66391157]\n [25.22625371]\n [ 2.76051945]]<br>2023-05-13 22:02:12.395049",
          "GroundTruthState<br>[[12.85725554]\n [ 0.88012337]\n [28.31708702]\n [ 3.36182071]]<br>2023-05-13 22:02:13.395049",
          "GroundTruthState<br>[[13.66400938]\n [ 0.90965246]\n [31.65360028]\n [ 3.31134733]]<br>2023-05-13 22:02:14.395049",
          "GroundTruthState<br>[[14.660942  ]\n [ 1.13570134]\n [34.95982666]\n [ 3.21269825]]<br>2023-05-13 22:02:15.395049",
          "GroundTruthState<br>[[15.76369159]\n [ 1.16458455]\n [38.32678424]\n [ 3.36652349]]<br>2023-05-13 22:02:16.395049",
          "GroundTruthState<br>[[16.99429758]\n [ 1.13128308]\n [41.65059656]\n [ 3.38707982]]<br>2023-05-13 22:02:17.395049",
          "GroundTruthState<br>[[18.30211424]\n [ 1.43090003]\n [44.94718307]\n [ 3.18966342]]<br>2023-05-13 22:02:18.395049",
          "GroundTruthState<br>[[19.71972436]\n [ 1.53880955]\n [48.06695869]\n [ 3.14773137]]<br>2023-05-13 22:02:19.395049"
         ],
         "type": "scatter",
         "x": [
          0,
          1.177223465328352,
          2.275462874700381,
          3.1560399703547968,
          4.111484568780832,
          5.068918699968233,
          6.134103970132443,
          7.336661592351442,
          8.708739774094603,
          9.661668970928952,
          10.289427281808946,
          10.90851617793013,
          11.43649485409589,
          12.083757383111484,
          12.857255540294034,
          13.664009379110706,
          14.66094199646186,
          15.763691585187017,
          16.994297584708757,
          18.302114239501268,
          19.71972436026734
         ],
         "y": [
          0,
          1.0006757513847795,
          2.0307275520116606,
          3.2076890985336823,
          4.681546580969336,
          6.424096316700446,
          8.291557310607626,
          10.210133065599429,
          12.639171131337447,
          15.077240437037124,
          17.463880393414996,
          19.922987588268054,
          22.43523846129129,
          25.226253707256983,
          28.317087024384634,
          31.653600280950233,
          34.95982666405545,
          38.32678424492485,
          41.65059655664205,
          44.94718306572588,
          48.066958689446075
         ]
        },
        {
         "legendgroup": "Measurements<br>(Detections)",
         "legendrank": 200,
         "marker": {
          "color": "#636EFA"
         },
         "mode": "markers",
         "name": "Measurements<br>(Detections)",
         "showlegend": true,
         "text": [
          "Detection<br>[[Bearing(2.435714315241148)]\n [46.21798149747487]]<br>2023-05-13 22:02:13.395049",
          "Detection<br>[[Bearing(2.937703488743674)]\n [45.10212036890871]]<br>2023-05-13 22:02:04.395049",
          "Detection<br>[[Bearing(2.32606487631801)]\n [49.55028147242189]]<br>2023-05-13 22:02:15.395049",
          "Detection<br>[[Bearing(3.044767462908764)]\n [45.74123179494575]]<br>2023-05-13 22:02:03.395049",
          "Detection<br>[[Bearing(2.5236104370654777)]\n [46.9982845683127]]<br>2023-05-13 22:02:14.395049",
          "Detection<br>[[Bearing(2.9452471282335875)]\n [46.2161839747064]]<br>2023-05-13 22:02:05.395049",
          "Detection<br>[[Bearing(2.6675764047046098)]\n [45.84408657411932]]<br>2023-05-13 22:02:12.395049",
          "Detection<br>[[Bearing(-3.1217136817127424)]\n [47.7876225398533]]<br>2023-05-13 22:01:59.395049",
          "Detection<br>[[Bearing(-3.096461688413128)]\n [48.50034235672541]]<br>2023-05-13 22:02:00.395049",
          "Detection<br>[[Bearing(2.515900984981293)]\n [45.03578875479237]]<br>2023-05-13 22:02:11.395049",
          "Detection<br>[[Bearing(2.903665081663336)]\n [47.21145298695907]]<br>2023-05-13 22:02:01.395049",
          "Detection<br>[[Bearing(2.2312923796610526)]\n [50.16616524252715]]<br>2023-05-13 22:02:16.395049",
          "Detection<br>[[Bearing(2.6573352109597863)]\n [43.4437023789485]]<br>2023-05-13 22:02:10.395049",
          "Detection<br>[[Bearing(2.2168669078367147)]\n [53.473621879810885]]<br>2023-05-13 22:02:17.395049",
          "Detection<br>[[Bearing(2.751748017042739)]\n [43.40696995272662]]<br>2023-05-13 22:02:09.395049",
          "Detection<br>[[Bearing(2.113687859118837)]\n [53.696127508762395]]<br>2023-05-13 22:02:18.395049",
          "Detection<br>[[Bearing(2.645421155733226)]\n [41.82268473115909]]<br>2023-05-13 22:02:08.395049",
          "Detection<br>[[Bearing(2.0193429860239256)]\n [56.73700365375307]]<br>2023-05-13 22:02:19.395049",
          "Detection<br>[[Bearing(2.825754941593946)]\n [42.16978735715047]]<br>2023-05-13 22:02:07.395049",
          "Detection<br>[[Bearing(2.9878623947562133)]\n [43.60243560034166]]<br>2023-05-13 22:02:06.395049",
          "Detection<br>[[Bearing(3.037053677683474)]\n [45.71541374605071]]<br>2023-05-13 22:02:02.395049"
         ],
         "type": "scatter",
         "x": [
          14.826171916953918,
          5.832101951594851,
          16.034063908529554,
          4.473015456288891,
          11.694085658745927,
          4.671810836553469,
          9.210581625879023,
          2.221819350783221,
          1.549042106302693,
          13.495870684052178,
          4.1185639808006655,
          19.22262346395934,
          11.551415784923044,
          17.806013715912904,
          9.849936778112081,
          22.259832475318472,
          13.220645587904379,
          25.395634186662065,
          9.91607756750875,
          6.911778516695591,
          4.534156951991264
         ],
         "y": [
          29.98172162643846,
          9.132252939840118,
          36.07693971814102,
          4.421986485240061,
          27.230418264224387,
          9.016148199021414,
          20.926146862627856,
          -0.9499062386905731,
          -2.188124288687379,
          26.37557225257571,
          11.127224359918513,
          39.61561849446898,
          20.2252725135359,
          42.696316985016416,
          16.496589458288486,
          45.97561544057756,
          19.91019957588045,
          51.12448304412903,
          13.098478086148486,
          6.676642845595845,
          4.770342745174409
         ]
        },
        {
         "legendgroup": "Tracks",
         "legendrank": 300,
         "marker": {
          "symbol": [
           "square",
           "square",
           "square",
           "square",
           "square",
           "square",
           "square",
           "square",
           "square",
           "square",
           "square",
           "square",
           "square",
           "square",
           "square",
           "square",
           "square",
           "square",
           "square",
           "square",
           "square"
          ]
         },
         "mode": "markers+lines",
         "name": "Tracks",
         "showlegend": true,
         "text": [
          "GaussianStateUpdate<br>[[ 1.32742645]\n [ 1.        ]\n [-0.14578807]\n [ 1.        ]]<br>2023-05-13 22:01:59.395049",
          "GaussianStateUpdate<br>[[1.88670436]\n [0.79279483]\n [0.31099362]\n [0.84126618]]<br>2023-05-13 22:02:00.395049",
          "GaussianStateUpdate<br>[[2.81413851]\n [0.85331719]\n [3.8558697 ]\n [1.76274476]]<br>2023-05-13 22:02:01.395049",
          "GaussianStateUpdate<br>[[4.19990505]\n [1.06770258]\n [5.23023903]\n [1.64330222]]<br>2023-05-13 22:02:02.395049",
          "GaussianStateUpdate<br>[[4.87129209]\n [0.93266934]\n [5.96319472]\n [1.40539902]]<br>2023-05-13 22:02:03.395049",
          "GaussianStateUpdate<br>[[5.75670126]\n [0.91003727]\n [8.08303548]\n [1.57598526]]<br>2023-05-13 22:02:04.395049",
          "GaussianStateUpdate<br>[[5.71088894]\n [0.60375198]\n [9.58803244]\n [1.57931697]]<br>2023-05-13 22:02:05.395049",
          "GaussianStateUpdate<br>[[6.65170657]\n [0.74622349]\n [9.36065803]\n [1.18841696]]<br>2023-05-13 22:02:06.395049",
          "GaussianStateUpdate<br>[[ 8.48802605]\n [ 1.07281734]\n [11.46938821]\n [ 1.34682722]]<br>2023-05-13 22:02:07.395049",
          "GaussianStateUpdate<br>[[10.65241911]\n [ 1.34884637]\n [15.53842313]\n [ 1.87686414]]<br>2023-05-13 22:02:08.395049",
          "GaussianStateUpdate<br>[[11.1350941 ]\n [ 1.07380889]\n [17.37179312]\n [ 1.89897157]]<br>2023-05-13 22:02:09.395049",
          "GaussianStateUpdate<br>[[11.87186344]\n [ 0.95165216]\n [19.73480655]\n [ 2.01552482]]<br>2023-05-13 22:02:10.395049",
          "GaussianStateUpdate<br>[[12.71321923]\n [ 0.84575806]\n [23.56504004]\n [ 2.43583474]]<br>2023-05-13 22:02:11.395049",
          "GaussianStateUpdate<br>[[12.06470364]\n [ 0.45167256]\n [24.67426847]\n [ 2.20520755]]<br>2023-05-13 22:02:12.395049",
          "GaussianStateUpdate<br>[[13.1659366 ]\n [ 0.59427927]\n [27.8967935 ]\n [ 2.41395182]]<br>2023-05-13 22:02:13.395049",
          "GaussianStateUpdate<br>[[13.13563979]\n [ 0.4652974 ]\n [29.31723357]\n [ 2.20740888]]<br>2023-05-13 22:02:14.395049",
          "GaussianStateUpdate<br>[[14.09563352]\n [ 0.51389268]\n [33.18543977]\n [ 2.59336655]]<br>2023-05-13 22:02:15.395049",
          "GaussianStateUpdate<br>[[15.87368571]\n [ 0.7921151 ]\n [37.00700117]\n [ 2.82031456]]<br>2023-05-13 22:02:16.395049",
          "GaussianStateUpdate<br>[[16.88095635]\n [ 0.77750499]\n [41.04870379]\n [ 3.12228134]]<br>2023-05-13 22:02:17.395049",
          "GaussianStateUpdate<br>[[18.91528454]\n [ 1.08193398]\n [44.51442521]\n [ 3.12331702]]<br>2023-05-13 22:02:18.395049",
          "GaussianStateUpdate<br>[[21.37034252]\n [ 1.35031396]\n [48.8458359 ]\n [ 3.3550478 ]]<br>2023-05-13 22:02:19.395049"
         ],
         "type": "scatter",
         "x": [
          1.3274264541216636,
          1.8867043623537465,
          2.814138509402241,
          4.199905052014181,
          4.871292085079629,
          5.7567012581331145,
          5.710888943759886,
          6.6517065694433155,
          8.48802604761913,
          10.652419105638167,
          11.135094100964928,
          11.871863440881597,
          12.713219234352714,
          12.06470364353779,
          13.165936602121011,
          13.135639788507834,
          14.095633520402735,
          15.873685707938735,
          16.880956346015683,
          18.91528454161374,
          21.37034252025322
         ],
         "y": [
          -0.14578806580866033,
          0.3109936224786445,
          3.855869702836201,
          5.230239029551541,
          5.963194718871466,
          8.083035480074878,
          9.58803244079455,
          9.360658031207704,
          11.469388210610044,
          15.538423129773882,
          17.371793121039314,
          19.73480654793384,
          23.565040038495432,
          24.674268472524943,
          27.896793504219584,
          29.317233570348538,
          33.18543976652418,
          37.00700117244399,
          41.048703789121106,
          44.51442520937347,
          48.84583589545102
         ]
        },
        {
         "fill": "toself",
         "fillcolor": "#00CC96",
         "hoverinfo": "skip",
         "legendgroup": "Tracks<br>(Ellipses)",
         "legendrank": 310,
         "mode": "none",
         "name": "Tracks<br>(Ellipses)",
         "opacity": 0.2,
         "showlegend": true,
         "type": "scatter",
         "x": [
          0.5528298233344284,
          0.567377430550072,
          0.6110749292209626,
          0.6839842927555221,
          0.7858240772101459,
          0.9152514806025713,
          1.0687001542989323,
          1.2391137804829462,
          1.4157393587014724,
          1.5861542229619325,
          1.7396023039061719,
          1.8690274204539596,
          1.970866615589058,
          2.0437771588972313,
          2.087475403327018,
          2.1020230849088986,
          2.0874754033270175,
          2.0437771588972313,
          1.9708666155890577,
          1.869027420453959,
          1.7396023039061714,
          1.586154222961932,
          1.415739358701472,
          1.2391137804829457,
          1.068700154298932,
          0.9152514806025699,
          0.7858240772101465,
          0.6839842927555222,
          0.6110749292209623,
          0.5673774305500718
         ],
         "y": [
          -0.14578806580866027,
          0.07244820400400728,
          0.2846276102139258,
          0.4840990033345326,
          0.6630479372534512,
          0.812106553694229,
          0.9206003009383812,
          0.9781997124180124,
          0.9781996737085259,
          0.9205995405985774,
          0.8121057493269795,
          0.6630499522329981,
          0.48410336153127576,
          0.28463052207527845,
          0.07244875651903188,
          -0.14578806580866677,
          -0.36402488813635336,
          -0.5762066536925994,
          -0.775679493148597,
          -0.9546260838503197,
          -1.1036818809443005,
          -1.2121756722158985,
          -1.2697758053258466,
          -1.269775844035333,
          -1.2121764325557018,
          -1.1036826853115485,
          -0.9546240688707724,
          -0.7756751349518534,
          -0.5762037418312453,
          -0.36402433562132686
         ]
        },
        {
         "fill": "toself",
         "fillcolor": "#00CC96",
         "hoverinfo": "skip",
         "legendgroup": "Tracks<br>(Ellipses)",
         "legendrank": 310,
         "mode": "none",
         "name": "Tracks<br>(Ellipses)",
         "opacity": 0.2,
         "showlegend": false,
         "type": "scatter",
         "x": [
          2.61299144889657,
          2.597510095957524,
          2.556649317119865,
          2.4897181500755154,
          2.3957681892350773,
          2.2742356660133716,
          2.126512400783505,
          1.9587185264735212,
          1.7836677629989166,
          1.6176200621135162,
          1.4731043016865764,
          1.3558331253553255,
          1.266836925820784,
          1.2053022289883233,
          1.1701068336601528,
          1.1604172758109228,
          1.1758990019434852,
          1.2167635257946752,
          1.2837015290523355,
          1.3776504712416562,
          1.499170646350443,
          1.646888278547579,
          1.8146887434399686,
          1.9897395144932832,
          2.1557807456611555,
          2.3003020783394925,
          2.4175851062256744,
          2.5065820419471434,
          2.568110187746136,
          2.6033021878298737
         ],
         "y": [
          0.3016167997397729,
          0.07746441483646774,
          -0.14158386618014168,
          -0.3500016478003206,
          -0.5406403432334054,
          -0.703672241133459,
          -0.8257894550209359,
          -0.8915104253683264,
          -0.8892501164417626,
          -0.8192143599394885,
          -0.693326510885141,
          -0.5272307409368263,
          -0.3342410366304649,
          -0.12415363374784988,
          0.09589012831679933,
          0.3203704452175159,
          0.5445257850225633,
          0.763587565729024,
          0.9720163053118952,
          1.1626440728625709,
          1.3256568963899493,
          1.4477718286848131,
          1.5134973955524387,
          1.5112376736389916,
          1.441206682273632,
          1.315316406959409,
          1.1492012502055051,
          0.9562005953607444,
          0.7461243232785169,
          0.5260941530892439
         ]
        },
        {
         "fill": "toself",
         "fillcolor": "#00CC96",
         "hoverinfo": "skip",
         "legendgroup": "Tracks<br>(Ellipses)",
         "legendrank": 310,
         "mode": "none",
         "name": "Tracks<br>(Ellipses)",
         "opacity": 0.2,
         "showlegend": false,
         "type": "scatter",
         "x": [
          3.584348409677193,
          3.5662226950850857,
          3.522972352831523,
          3.4534403984545716,
          3.355665390508376,
          3.2273541376826063,
          3.067447163741784,
          2.8807225199837863,
          2.683984390958404,
          2.5012426015815925,
          2.348293659306835,
          2.2288961177656654,
          2.1412710842309544,
          2.0825839369348276,
          2.050601640143948,
          2.0439286091272892,
          2.0620554847424355,
          2.1053022956606657,
          2.1748431403692097,
          2.2725963436359953,
          2.4009228315346913,
          2.5608458172377535,
          2.7475488579712257,
          2.9442870471169584,
          3.1270498629368193,
          3.2799833126972686,
          3.399366922433501,
          3.4870116282544235,
          3.545691180374482,
          3.5776761069296525
         ],
         "y": [
          3.8388085810957593,
          3.580555943054027,
          3.3271053928931837,
          3.0835641591111114,
          2.856955841964174,
          2.658183773516841,
          2.5042417553694305,
          2.418907377768406,
          2.42326673343033,
          2.516772237977773,
          2.6776561359293236,
          2.8819446988229847,
          3.112611704809935,
          3.359022402275169,
          3.6141190900774807,
          3.872930824576643,
          4.131193209832119,
          4.384623477916126,
          4.628193763460736,
          4.8547544074482225,
          5.053555570319115,
          5.207508960041038,
          5.29283079514897,
          5.288474153569231,
          5.194955162232165,
          5.034083333714631,
          4.829824511327701,
          4.599108913414143,
          4.352727632886252,
          4.097610526540407
         ]
        },
        {
         "fill": "toself",
         "fillcolor": "#00CC96",
         "hoverinfo": "skip",
         "legendgroup": "Tracks<br>(Ellipses)",
         "legendrank": 310,
         "mode": "none",
         "name": "Tracks<br>(Ellipses)",
         "opacity": 0.2,
         "showlegend": false,
         "type": "scatter",
         "x": [
          4.966655153099546,
          4.930533970535321,
          4.871130300193862,
          4.78727686235488,
          4.67682686113349,
          4.536662109504368,
          4.364161201415213,
          4.1630926732379745,
          3.955201089750184,
          3.773449877408452,
          3.6335244933194186,
          3.5336107575513678,
          3.467760259740296,
          3.4310353427430016,
          3.4201397085516545,
          3.4331549509288157,
          3.4692799145031046,
          3.5286816402594927,
          3.6125235305588794,
          3.7229831414196766,
          3.863147666595424,
          4.035648985523081,
          4.2367023936114805,
          4.444594720683893,
          4.626360297626231,
          4.76628536079845,
          4.8661992798403535,
          4.932044761980925,
          4.9687753632234815,
          4.979670293987383
         ],
         "y": [
          5.1625679258236,
          4.88521703912345,
          4.613504122395639,
          4.351861742036335,
          4.106944773406705,
          3.8895072708085623,
          3.7187432227134565,
          3.626280703617521,
          3.644632847382723,
          3.770877594933717,
          3.9692159800180575,
          4.207841855691466,
          4.46834481547219,
          4.740595610111516,
          5.018497817674194,
          5.297910133279482,
          5.57528285301378,
          5.846980822807085,
          6.108590746436192,
          6.353533095745096,
          6.570970371800258,
          6.741734897034699,
          6.834194437201967,
          6.815850718651533,
          6.689600389940094,
          6.49126254657766,
          6.252636408199951,
          5.992160119885244,
          5.719875347689183,
          5.441958083651086
         ]
        },
        {
         "fill": "toself",
         "fillcolor": "#00CC96",
         "hoverinfo": "skip",
         "legendgroup": "Tracks<br>(Ellipses)",
         "legendrank": 310,
         "mode": "none",
         "name": "Tracks<br>(Ellipses)",
         "opacity": 0.2,
         "showlegend": false,
         "type": "scatter",
         "x": [
          5.613419829280388,
          5.565935605125437,
          5.496779226988237,
          5.404860131759639,
          5.288037595163038,
          5.143034765152756,
          4.966577733285521,
          4.761718022092281,
          4.553199329504637,
          4.3793243889633136,
          4.25373356273199,
          4.17034510708541,
          4.120988269503825,
          4.099842553483596,
          4.103259365729947,
          4.12916434087887,
          4.176655058204412,
          4.245807752837885,
          4.337720111667767,
          4.4545464001433945,
          4.599548630349796,
          4.77600655109657,
          4.9808425436418196,
          5.18936310829135,
          5.3632598699694585,
          5.488850109835639,
          5.572238975590459,
          5.62159459750171,
          5.64274191081081,
          5.639323142953851
         ],
         "y": [
          5.866559399022731,
          5.586168286246754,
          5.311771532868406,
          5.0473808363114525,
          4.799138234131273,
          4.577420539779633,
          4.401765723099732,
          4.307532716974721,
          4.33469205158265,
          4.478234149799847,
          4.69322096596619,
          4.94467763097458,
          5.214568995043965,
          5.493662229421643,
          5.77659716515166,
          6.059830038720201,
          6.34025214943058,
          6.6146273620271385,
          6.878998867821027,
          7.127250885207182,
          7.34896791691075,
          7.524623799147952,
          7.6188524840949725,
          7.591707526311843,
          7.448155177005399,
          7.233169618493669,
          6.981712159332637,
          6.711830857313022,
          6.432717347010632,
          6.149760645503183
         ]
        },
        {
         "fill": "toself",
         "fillcolor": "#00CC96",
         "hoverinfo": "skip",
         "legendgroup": "Tracks<br>(Ellipses)",
         "legendrank": 310,
         "mode": "none",
         "name": "Tracks<br>(Ellipses)",
         "opacity": 0.2,
         "showlegend": false,
         "type": "scatter",
         "x": [
          6.4754266972208265,
          6.422592935517613,
          6.349114577599825,
          6.2539713843932425,
          6.135099474804399,
          5.989289872922923,
          5.813183656140897,
          5.609650861562357,
          5.4046276354040135,
          5.238053393450698,
          5.121963847235228,
          5.048260675019352,
          5.00797350810294,
          4.995039001429243,
          5.005738900209895,
          5.0379758190454025,
          5.090817584872672,
          5.164291242413899,
          5.2594302894048,
          5.378302832332391,
          5.5241115801053615,
          5.700218971561329,
          5.903761349551216,
          6.108783642646471,
          6.275349204650408,
          6.391438051847465,
          6.465141752745145,
          6.505428803992803,
          6.518363540376946,
          6.507660860950147
         ],
         "y": [
          7.97312058282402,
          7.696569276398602,
          7.4261426183326,
          7.165629283266714,
          6.920869089070334,
          6.701906611810654,
          6.5280247657491,
          6.435461383011287,
          6.4668125245989465,
          6.615979510505076,
          6.83454853386486,
          7.087080076737919,
          7.356182248390445,
          7.633210834211267,
          7.9132131899205485,
          8.192950377325737,
          8.469536459292321,
          8.739938805221826,
          9.000439670023537,
          9.245201499449982,
          9.464163018474261,
          9.638046276401921,
          9.730611216464878,
          9.699253973646186,
          9.550091338086451,
          9.331524013137113,
          9.078991300558096,
          8.809890878681589,
          8.532849153384893,
          8.252822191954161
         ]
        },
        {
         "fill": "toself",
         "fillcolor": "#00CC96",
         "hoverinfo": "skip",
         "legendgroup": "Tracks<br>(Ellipses)",
         "legendrank": 310,
         "mode": "none",
         "name": "Tracks<br>(Ellipses)",
         "opacity": 0.2,
         "showlegend": false,
         "type": "scatter",
         "x": [
          6.410619046951112,
          6.348730990229077,
          6.2668443330138235,
          6.164101213268987,
          6.038699666990378,
          5.887875519525292,
          5.7090694141773115,
          5.506453391099771,
          5.306953556000397,
          5.149352661864594,
          5.043672921548748,
          4.980729607445705,
          4.951119797086945,
          4.9485944268590725,
          4.969331801281951,
          5.01115884056866,
          5.073055973183148,
          5.154937160275276,
          5.257675655655122,
          5.383078003242412,
          5.53390128940297,
          5.712708585783689,
          5.91533421516211,
          6.114832893847545,
          6.272425301927595,
          6.378104425293241,
          6.441048209037382,
          6.470657953692984,
          6.473183085264649,
          6.452442101223033
         ],
         "y": [
          9.453942172319758,
          9.185264218401688,
          8.923349400734969,
          8.671949427006869,
          8.436864315545286,
          8.228051343520349,
          8.064508362409736,
          7.981547471788673,
          8.01977477901568,
          8.171767576764188,
          8.389828535379296,
          8.639605008696703,
          8.904397155286361,
          9.175956724074707,
          9.449565104591537,
          9.72212270926934,
          9.990834253601358,
          10.252725558893044,
          10.504113264364861,
          10.73920021207705,
          10.948012289708819,
          11.111556595468393,
          11.194518675473766,
          11.156285333672747,
          11.004297192372425,
          10.786237904872607,
          10.536460282111024,
          10.271670137918688,
          10.000097460434485,
          9.72646521101153
         ]
        },
        {
         "fill": "toself",
         "fillcolor": "#00CC96",
         "hoverinfo": "skip",
         "legendgroup": "Tracks<br>(Ellipses)",
         "legendrank": 310,
         "mode": "none",
         "name": "Tracks<br>(Ellipses)",
         "opacity": 0.2,
         "showlegend": false,
         "type": "scatter",
         "x": [
          7.338355476547321,
          7.268268239897433,
          7.1786172998179705,
          7.068690491220101,
          6.936922949792431,
          6.780958754060384,
          6.598999546911873,
          6.396473371246337,
          6.2011605497434354,
          6.050678574724729,
          5.953416550800644,
          5.899364208770485,
          5.878760992494205,
          5.885182035419701,
          5.914698480637081,
          5.96505766233931,
          6.035154793840409,
          6.124799672081675,
          6.234721005314661,
          6.366489967969055,
          6.522453328661275,
          6.704413706720512,
          6.906950130825285,
          7.102261513447841,
          7.252734636585925,
          7.349996126829913,
          7.404048874625412,
          7.424652061030437,
          7.41823039281193,
          7.388709674610805
         ],
         "y": [
          9.204486902654047,
          8.941954151755834,
          8.686806818734217,
          8.442798515170239,
          8.215743897377116,
          8.015586257917215,
          7.861140883004044,
          7.786851174194254,
          7.831269710459089,
          7.98585066839798,
          8.203803471914263,
          8.451726188780642,
          8.713439162344745,
          8.980974666832632,
          9.249775067987287,
          9.516829159761361,
          9.779394060824528,
          10.034518877344368,
          10.27851432085535,
          10.505571832366588,
          10.705728669219464,
          10.860175251165957,
          10.934465858066728,
          10.890040995372496,
          10.735465279693027,
          10.517514070901466,
          10.269590269219858,
          10.00788051941097,
          9.740331051771848,
          9.47150772725914
         ]
        },
        {
         "fill": "toself",
         "fillcolor": "#00CC96",
         "hoverinfo": "skip",
         "legendgroup": "Tracks<br>(Ellipses)",
         "legendrank": 310,
         "mode": "none",
         "name": "Tracks<br>(Ellipses)",
         "opacity": 0.2,
         "showlegend": false,
         "type": "scatter",
         "x": [
          9.168832415530552,
          9.096547402517768,
          9.004733630654425,
          8.892768083480277,
          8.759252894106485,
          8.602137627622398,
          8.420244847509723,
          8.219849119207403,
          8.028144199051026,
          7.880652231125981,
          7.785493168318845,
          7.733314112496417,
          7.714624387558671,
          7.723060295037204,
          7.754686223711925,
          7.807219679707707,
          7.879514013972941,
          7.971322086056925,
          8.08327989260951,
          8.216799001562094,
          8.37391360963105,
          8.555807363114646,
          8.756179981443346,
          8.947888181783819,
          9.095399935872898,
          9.190558563399936,
          9.242737935764756,
          9.261427562962819,
          9.252991069205029,
          9.221361058135763
         ],
         "y": [
          11.30547959180345,
          11.04864653234765,
          10.799524986103702,
          10.561938320557086,
          10.341792315381198,
          10.149057413372624,
          10.002280084186799,
          9.934331877183846,
          9.980493306931256,
          10.132190466024316,
          10.34567103412062,
          10.588794172082938,
          10.845592910444687,
          11.10808672331726,
          11.37167739633086,
          11.633296829416636,
          11.890158700857555,
          12.139260126314184,
          12.376830359894278,
          12.596983818615554,
          12.789718127991204,
          12.936496405105704,
          13.004442873030142,
          12.958295067765897,
          12.80658584206655,
          12.593106561040939,
          12.349982595718238,
          12.093192278097776,
          11.830680310803633,
          11.567069127606661
         ]
        },
        {
         "fill": "toself",
         "fillcolor": "#00CC96",
         "hoverinfo": "skip",
         "legendgroup": "Tracks<br>(Ellipses)",
         "legendrank": 310,
         "mode": "none",
         "name": "Tracks<br>(Ellipses)",
         "opacity": 0.2,
         "showlegend": false,
         "type": "scatter",
         "x": [
          11.325458568498243,
          11.244898146705516,
          11.144863162610195,
          11.024953672049536,
          10.884160502539228,
          10.721118987778443,
          10.535978966085109,
          10.336843501355704,
          10.150551412276213,
          10.00929348400922,
          9.92030287310969,
          9.87468748979989,
          9.863100892903965,
          9.87911393132004,
          9.918675183436402,
          9.97937964277809,
          10.059948854299815,
          10.159978450694949,
          10.279876032942887,
          10.420677540602503,
          10.58371861897832,
          10.768859351936188,
          10.96797623147819,
          11.154271237286043,
          11.295544789864513,
          11.384535111068143,
          11.43015069123719,
          11.441737518133062,
          11.425723403213302,
          11.386158119101845
         ],
         "y": [
          15.348898678149332,
          15.100873744950889,
          14.861513402198085,
          14.634795567489453,
          14.426831418743276,
          14.247708240407304,
          14.115581621232154,
          14.060770689226462,
          14.113235173113525,
          14.263893459891403,
          14.473214663376584,
          14.711094092160964,
          14.961984019496013,
          15.217933676762634,
          15.474305059567978,
          15.727947581398432,
          15.975996291169812,
          16.215340099185738,
          16.442036403137333,
          16.65001462388795,
          16.82913746608106,
          16.961264692861082,
          17.016075184143162,
          16.963621058145403,
          16.812952697424954,
          16.603632383409956,
          16.36575244016439,
          16.114878868046954,
          15.858904629841572,
          15.60251633053977
         ]
        },
        {
         "fill": "toself",
         "fillcolor": "#00CC96",
         "hoverinfo": "skip",
         "legendgroup": "Tracks<br>(Ellipses)",
         "legendrank": 310,
         "mode": "none",
         "name": "Tracks<br>(Ellipses)",
         "opacity": 0.2,
         "showlegend": false,
         "type": "scatter",
         "x": [
          11.790755551968264,
          11.691465255268202,
          11.57316101476972,
          11.43588934926693,
          11.279371041350984,
          11.103461124957578,
          10.910484536999913,
          10.711419672099582,
          10.533396361193972,
          10.404808586946201,
          10.33062535859709,
          10.301377991331789,
          10.307305932685775,
          10.34159455270058,
          10.39986608817305,
          10.479432649961591,
          10.578731712021563,
          10.697030519603468,
          10.834284444963115,
          10.990817022165972,
          11.166726673504108,
          11.359703754122242,
          11.558754352823632,
          11.736780430881726,
          11.865379659929319,
          11.939562734706975,
          11.968810202044011,
          11.962884330904693,
          11.92859242706724,
          11.87031653690972
         ],
         "y": [
          17.12592273084517,
          16.891150987314003,
          16.66696346595798,
          16.45751806791726,
          16.269159268391835,
          16.112073819784975,
          16.00377265526697,
          15.971253814455283,
          16.038016043868836,
          16.193399022411587,
          16.40188455235933,
          16.635902901005043,
          16.880757328304735,
          17.128788977349213,
          17.37547363466271,
          17.617663511233456,
          17.852453780073997,
          18.07662845331988,
          18.286048529634474,
          18.474426828095805,
          18.63151212518282,
          18.739813620657213,
          18.77233353553149,
          18.705578685270876,
          18.550187135520293,
          18.341702178863297,
          18.10768354177658,
          17.862853188015517,
          17.614790796183236,
          17.36809288642714
         ]
        },
        {
         "fill": "toself",
         "fillcolor": "#00CC96",
         "hoverinfo": "skip",
         "legendgroup": "Tracks<br>(Ellipses)",
         "legendrank": 310,
         "mode": "none",
         "name": "Tracks<br>(Ellipses)",
         "opacity": 0.2,
         "showlegend": false,
         "type": "scatter",
         "x": [
          12.50930415521375,
          12.395132910815365,
          12.262641419199932,
          12.112181926319781,
          11.943950876848366,
          11.758566846725886,
          11.55964673453279,
          11.35996152768077,
          11.187612174403506,
          11.069603020053258,
          11.008786693920294,
          10.994317563854649,
          11.015680580196822,
          11.065630151088197,
          11.139510076813618,
          11.234422726549445,
          11.34860348220977,
          11.481089009050741,
          11.631528241049388,
          11.799775867365282,
          11.985159657211215,
          12.184080233057733,
          12.383752120035107,
          12.55610450174848,
          12.674123898996479,
          12.734940118161516,
          12.749409321731804,
          12.728050141402704,
          12.67809516353131,
          12.604210273036502
         ],
         "y": [
          19.445836069546388,
          19.21960064865437,
          19.005261596476924,
          18.806995015566585,
          18.63117688238779,
          18.487965808365566,
          18.39451697313836,
          18.376455948770168,
          18.454590966978728,
          18.616668025431075,
          18.8278634423551,
          19.061673564509302,
          19.30409840444882,
          19.547894937805204,
          19.78878979118066,
          20.02377702632129,
          20.250029466740727,
          20.46435669082961,
          20.662598328192907,
          20.838436087863588,
          20.98164704906761,
          21.075096148361887,
          21.093159119820672,
          21.01503078204704,
          20.852944988992927,
          20.641750094815286,
          20.407939717596708,
          20.16554027993977,
          19.921712069329317,
          19.68080493453381
         ]
        },
        {
         "fill": "toself",
         "fillcolor": "#00CC96",
         "hoverinfo": "skip",
         "legendgroup": "Tracks<br>(Ellipses)",
         "legendrank": 310,
         "mode": "none",
         "name": "Tracks<br>(Ellipses)",
         "opacity": 0.2,
         "showlegend": false,
         "type": "scatter",
         "x": [
          13.331371815391632,
          13.203203807182872,
          13.057515729722605,
          12.89490612887253,
          12.715945607320828,
          12.521849159185878,
          12.317243048752342,
          12.11646443315561,
          11.949060930463896,
          11.84144053834972,
          11.794168985184788,
          11.794606882695373,
          11.831317806656406,
          11.896600766906689,
          11.985541661562218,
          12.095066653313795,
          12.22324540387159,
          12.368926664381542,
          12.5315148563224,
          12.710492712256805,
          12.904588900540423,
          13.109195509292753,
          13.309960641415042,
          13.47736767540503,
          13.584997963126007,
          13.632269440313069,
          13.631831602089026,
          13.595125982905664,
          13.529835722612676,
          13.440888998542848
         ],
         "y": [
          23.23720583139072,
          23.018066125089444,
          22.811902835334983,
          22.622849297038265,
          22.45724517195251,
          22.325194638134104,
          22.243653354615542,
          22.237616338047083,
          22.326402235051923,
          22.49599282755561,
          22.711116711920965,
          22.945872871467685,
          23.186945724079045,
          23.427581292513253,
          23.663824897718612,
          23.892874245600144,
          24.11203066345866,
          24.318182292311757,
          24.50721250560079,
          24.672834784565232,
          24.804885213921313,
          24.886426743327707,
          24.892466576808896,
          24.803687338295138,
          24.63408716372244,
          24.418963829820356,
          24.184207396558094,
          23.943159077667794,
          23.70249270165734,
          23.466236911815706
         ]
        },
        {
         "fill": "toself",
         "fillcolor": "#00CC96",
         "hoverinfo": "skip",
         "legendgroup": "Tracks<br>(Ellipses)",
         "legendrank": 310,
         "mode": "none",
         "name": "Tracks<br>(Ellipses)",
         "opacity": 0.2,
         "showlegend": false,
         "type": "scatter",
         "x": [
          12.656393176707574,
          12.510617478144297,
          12.348440216079158,
          12.170724669425523,
          11.97843978083335,
          11.773444886179448,
          11.561484219822539,
          11.358865221213014,
          11.197558166072225,
          11.103731183993842,
          11.074606409511436,
          11.094818412951028,
          11.151624389071028,
          11.23674164080721,
          11.344958393291472,
          11.473014110368005,
          11.618802748807743,
          11.780971678034259,
          11.958665679634727,
          12.150967329459027,
          12.35596189441128,
          12.56792316685687,
          12.770527594705305,
          12.931839160426637,
          13.025676130944357,
          13.054800872926705,
          13.03458890983068,
          12.977789486866607,
          12.89266300912752,
          12.78443894116032
         ],
         "y": [
          24.299781848378714,
          24.089073381054337,
          23.892529865868557,
          23.714184737750582,
          23.56028300880925,
          23.440844935954875,
          23.372697157603827,
          23.380574332877046,
          23.482672281420154,
          23.662413862907712,
          23.883147825947944,
          24.11953664377085,
          24.359210219533715,
          24.596127750527707,
          24.82680613428411,
          25.048755096671172,
          25.259480703759074,
          25.456012178704523,
          25.63433689609003,
          25.788253813018468,
          25.90769177438249,
          25.97583980378424,
          25.967966780362865,
          25.86587595854505,
          25.686122985129117,
          25.465389677309226,
          25.22900051379039,
          24.989348586815073,
          24.752402848230147,
          24.52171178033813
         ]
        },
        {
         "fill": "toself",
         "fillcolor": "#00CC96",
         "hoverinfo": "skip",
         "legendgroup": "Tracks<br>(Ellipses)",
         "legendrank": 310,
         "mode": "none",
         "name": "Tracks<br>(Ellipses)",
         "opacity": 0.2,
         "showlegend": false,
         "type": "scatter",
         "x": [
          13.742848941454529,
          13.586989831096115,
          13.41544442257494,
          13.2291224732322,
          13.029049377410852,
          12.81720005098508,
          12.599589620279133,
          12.393629541829986,
          12.234163703587997,
          12.148588446549438,
          12.131209836513705,
          12.164085279430983,
          12.2334159157576,
          12.330564720133607,
          12.450200002614153,
          12.589024262787493,
          12.74489912257094,
          12.916434263731475,
          13.102737621751634,
          13.302823602250898,
          13.514672426705316,
          13.7322837011685,
          13.938226346529328,
          14.097698150075024,
          14.183284784011391,
          14.200663403183025,
          14.1677879823583,
          14.098463005879976,
          14.001305144451864,
          13.881660740871633
         ],
         "y": [
          27.50076526940273,
          27.291986175245892,
          27.097705481040066,
          26.921830381565282,
          26.770484959294535,
          26.65366349235297,
          26.588475592864103,
          26.600866685851944,
          26.71034027135986,
          26.898070535400226,
          27.124570329154487,
          27.364250001165388,
          27.605364989001227,
          27.842424410551427,
          28.072318642246938,
          28.292821739036437,
          28.50162025194763,
          28.695887217559658,
          28.87174545116791,
          29.023101900981516,
          29.13992319826735,
          29.205111432512524,
          29.19272581683689,
          29.08326092125816,
          28.895516357577463,
          28.669017471515115,
          28.429337270098664,
          28.18823826937463,
          27.95115543704622,
          27.72124668989265
         ]
        },
        {
         "fill": "toself",
         "fillcolor": "#00CC96",
         "hoverinfo": "skip",
         "legendgroup": "Tracks<br>(Ellipses)",
         "legendrank": 310,
         "mode": "none",
         "name": "Tracks<br>(Ellipses)",
         "opacity": 0.2,
         "showlegend": false,
         "type": "scatter",
         "x": [
          13.69029937236328,
          13.521072710561409,
          13.337086414301286,
          13.13938095125097,
          12.929175719014793,
          12.708790095339149,
          12.484893089527136,
          12.276496058077123,
          12.121458425475762,
          12.047659848264214,
          12.045742821831634,
          12.094994957517857,
          12.180532934075147,
          12.293343947260482,
          12.42794851262144,
          12.58098020465239,
          12.750225700121943,
          12.9341995787087,
          13.131888926306784,
          13.3421035859764,
          13.562488514479243,
          13.786386616273703,
          13.994763800850258,
          14.149809084707138,
          14.223619748730485,
          14.225536870775498,
          14.176284706816562,
          14.090751408085968,
          13.977931450449512,
          13.843315697343412
         ],
         "y": [
          28.89016811039115,
          28.687149084830075,
          28.499260437721773,
          28.330289172718352,
          28.186237258947088,
          28.077021518145077,
          28.01980504489577,
          28.04105097118391,
          28.16043159577742,
          28.35645685494183,
          28.587542238049473,
          28.82852309899777,
          29.068578350511157,
          29.30288898936038,
          29.52877515661978,
          29.744299030305925,
          29.9473389307142,
          30.13521272232149,
          30.304170474496633,
          30.448229719505953,
          30.557445247256542,
          30.614662109187144,
          30.59342343745683,
          30.47405275008044,
          30.278010157826994,
          30.046925933645124,
          29.80594434615928,
          29.56590008288917,
          29.33157040983066,
          29.10566844007523
         ]
        },
        {
         "fill": "toself",
         "fillcolor": "#00CC96",
         "hoverinfo": "skip",
         "legendgroup": "Tracks<br>(Ellipses)",
         "legendrank": 310,
         "mode": "none",
         "name": "Tracks<br>(Ellipses)",
         "opacity": 0.2,
         "showlegend": false,
         "type": "scatter",
         "x": [
          14.634826630649659,
          14.456228249099663,
          14.263529649955423,
          14.0578173193993,
          13.840372347109152,
          13.61365065026483,
          13.384620988147086,
          13.173431273416895,
          13.020888132934632,
          12.955787366003499,
          12.965465520589579,
          13.026814697764564,
          13.124130777129377,
          13.248172767236284,
          13.39340041341953,
          13.556440410155812,
          13.735060784689104,
          13.92774475142792,
          14.13344452363971,
          14.350894370235293,
          14.57761510763678,
          14.80664618727183,
          15.01781308169265,
          15.170365791950669,
          15.235479688873488,
          15.22580173707851,
          15.164452461127077,
          15.067139007877973,
          14.94308927667553,
          14.797848335267076
         ],
         "y": [
          32.73943049229746,
          32.53937579539928,
          32.3547314964482,
          32.18917699562697,
          32.04860199621794,
          31.942869765900618,
          31.88930117967437,
          31.91527989190486,
          32.04147013283055,
          32.24402326861189,
          32.47903648802666,
          32.72156033379202,
          32.961511079137296,
          33.19460091313964,
          33.41848376063919,
          33.631449040750915,
          33.83152655790468,
          34.01615452865188,
          34.181698751556034,
          34.32227735487193,
          34.42800930149641,
          34.48157836474271,
          34.45560866373284,
          34.329429991977236,
          34.12685613007868,
          33.8918443924801,
          33.64931955109663,
          33.409374269313794,
          33.17627017266682,
          32.95236989087585
         ]
        },
        {
         "fill": "toself",
         "fillcolor": "#00CC96",
         "hoverinfo": "skip",
         "legendgroup": "Tracks<br>(Ellipses)",
         "legendrank": 310,
         "mode": "none",
         "name": "Tracks<br>(Ellipses)",
         "opacity": 0.2,
         "showlegend": false,
         "type": "scatter",
         "x": [
          16.387063553151275,
          16.194585639185515,
          15.989001398951743,
          15.771514318270889,
          15.543581776036032,
          15.307999790705034,
          15.072402021309518,
          14.858745980970008,
          14.711646675951872,
          14.660271720845916,
          14.687239958583863,
          14.766374238662653,
          14.880983800281708,
          15.021553940499071,
          15.182461162279026,
          15.360307862726195,
          15.5528119861022,
          15.758378610034507,
          15.975857337945358,
          16.203789254317453,
          16.439369907777813,
          16.674969524009413,
          16.88863277753016,
          17.035728606366966,
          17.087099699112372,
          17.060131866732906,
          16.980997341277295,
          16.86638747681394,
          16.725811328270986,
          16.5648879145692
         ],
         "y": [
          36.53114708548892,
          36.33818699257282,
          36.16118081672164,
          36.00367624048107,
          35.87141919848735,
          35.774158573354626,
          35.7292137788342,
          35.76450066598523,
          35.900844718219766,
          36.11122056997183,
          36.34954802754142,
          36.59181971728441,
          36.829115817397195,
          37.05790092687783,
          37.27628468770063,
          37.48285525939907,
          37.67583974694924,
          37.85282834583946,
          38.01032626184813,
          38.142582952575644,
          38.23984323043722,
          38.28478857179536,
          38.249498359165415,
          38.11315055663319,
          37.902781645411714,
          37.66445607079712,
          37.422183026703024,
          37.184886275915616,
          36.956092333118534,
          36.73768967506575
         ]
        },
        {
         "fill": "toself",
         "fillcolor": "#00CC96",
         "hoverinfo": "skip",
         "legendgroup": "Tracks<br>(Ellipses)",
         "legendrank": 310,
         "mode": "none",
         "name": "Tracks<br>(Ellipses)",
         "opacity": 0.2,
         "showlegend": false,
         "type": "scatter",
         "x": [
          16.40273564451318,
          16.611418123301377,
          16.831957241802478,
          17.062981706604553,
          17.302747683858986,
          17.54796426194951,
          17.79002510067633,
          18.00469275701882,
          18.143304402967505,
          18.17711008898814,
          18.129167153695175,
          18.028842163271854,
          17.89377294083395,
          17.733719287840067,
          17.554379154810885,
          17.359177047518187,
          17.150463653320724,
          16.929945512660368,
          16.69893003595592,
          16.459165455280814,
          16.213950641330733,
          15.971887482029295,
          15.757216259404352,
          15.618606596095624,
          15.584802609031994,
          15.63274483686659,
          15.733070308566747,
          15.868140350331823,
          16.02820089780187,
          16.207560549687084
         ],
         "y": [
          41.56040963863877,
          41.741897966604846,
          41.906731576751866,
          42.05151170323873,
          42.17065201436462,
          42.254598990244745,
          42.28625644802856,
          42.23783573053997,
          42.089520445340675,
          41.8720677755491,
          41.63269718916861,
          41.3937155264647,
          41.162549785288,
          40.94184536975095,
          40.7329685990572,
          40.536997939603445,
          40.35548463116347,
          40.19066916377623,
          40.04589533880343,
          39.92675575429249,
          39.84280914130785,
          39.811151131615716,
          39.85957379349536,
          40.00789093159409,
          40.22533991186367,
          40.464708220268776,
          40.70369161855825,
          40.9348587040214,
          41.15557166128995,
          41.36446813588672
         ]
        },
        {
         "fill": "toself",
         "fillcolor": "#00CC96",
         "hoverinfo": "skip",
         "legendgroup": "Tracks<br>(Ellipses)",
         "legendrank": 310,
         "mode": "none",
         "name": "Tracks<br>(Ellipses)",
         "opacity": 0.2,
         "showlegend": false,
         "type": "scatter",
         "x": [
          18.47396872351138,
          18.699230837955277,
          18.935063673572298,
          19.179987117043815,
          19.432047798465828,
          19.687587138492304,
          19.9371928170509,
          20.154197185960978,
          20.28432897439024,
          20.298758311595535,
          20.227918165691097,
          20.10492737120063,
          19.94831880221551,
          19.767986554430976,
          19.569558284754645,
          19.3566003597161,
          19.131369243786395,
          18.895493574277342,
          18.650580668892736,
          18.398521814653208,
          18.142985059750465,
          17.89337622761812,
          17.676373943471038,
          17.546240894124313,
          17.531810777255483,
          17.60264968306311,
          17.725641416643203,
          17.88225116540367,
          18.06259187769448,
          18.260983110834047
         ],
         "y": [
          45.058206251885075,
          45.22847694196542,
          45.381610912258495,
          45.51438769498783,
          45.62141339300829,
          45.69335409629747,
          45.71324901031566,
          45.65286589028783,
          45.49251866204724,
          45.267734860198786,
          45.027563932640504,
          44.792303008309425,
          44.56766608713501,
          44.355320667400385,
          44.15601587756263,
          43.97064416686187,
          43.80039525091258,
          43.64723244213488,
          43.514462092849485,
          43.40743721614442,
          43.3354969288202,
          43.3156014107938,
          43.37598329566451,
          43.53632950058366,
          43.76111559676733,
          44.00128356256723,
          44.236546931075544,
          44.46118547128821,
          44.673539879493795,
          44.87280868745491
         ]
        },
        {
         "fill": "toself",
         "fillcolor": "#00CC96",
         "hoverinfo": "skip",
         "legendgroup": "Tracks<br>(Ellipses)",
         "legendrank": 310,
         "mode": "none",
         "name": "Tracks<br>(Ellipses)",
         "opacity": 0.2,
         "showlegend": false,
         "type": "scatter",
         "x": [
          20.96826616278049,
          21.20933382165909,
          21.459678193211357,
          21.717710049430224,
          21.981259872168945,
          22.246285013022415,
          22.50253809401294,
          22.720876378532317,
          22.84133823350178,
          22.835600205458036,
          22.74184540167446,
          22.596604381869312,
          22.41906368145151,
          22.21914827924442,
          22.002427002687938,
          21.77241887772595,
          21.531380129206738,
          21.28099306183212,
          21.022973288946748,
          20.759425767457753,
          20.49440421590387,
          20.23814703590034,
          20.019809786930168,
          19.8993471452452,
          19.90508481402607,
          19.998837668331255,
          20.144080289148953,
          20.32162259654178,
          20.52154808391466,
          20.73823173163843
         ],
         "y": [
          49.41922869413525,
          49.57653543244089,
          49.716279451508505,
          49.835412471242215,
          49.92873772642674,
          49.98717268110232,
          49.994019719035265,
          49.92099067618511,
          49.74920167311203,
          49.51904659541092,
          49.28045768315525,
          49.051206585243364,
          48.8352296520462,
          48.63324153572353,
          48.44546287709191,
          48.272443096766786,
          48.11515386113837,
          47.97538529227791,
          47.85625862030481,
          47.762934240343895,
          47.70449968772449,
          47.69765206182366,
          47.77068034723127,
          47.94246879864122,
          48.1726251080125,
          48.411210366893314,
          48.640464702316535,
          48.8564435008281,
          49.05844081445713,
          49.24618769736651
         ]
        }
       ],
       "layout": {
        "colorway": [
         "#636EFA",
         "#EF553B",
         "#00CC96",
         "#AB63FA",
         "#FFA15A",
         "#19D3F3",
         "#FF6692",
         "#B6E880",
         "#FF97FF",
         "#FECB52"
        ],
        "template": {
         "data": {
          "bar": [
           {
            "error_x": {
             "color": "#2a3f5f"
            },
            "error_y": {
             "color": "#2a3f5f"
            },
            "marker": {
             "line": {
              "color": "#E5ECF6",
              "width": 0.5
             },
             "pattern": {
              "fillmode": "overlay",
              "size": 10,
              "solidity": 0.2
             }
            },
            "type": "bar"
           }
          ],
          "barpolar": [
           {
            "marker": {
             "line": {
              "color": "#E5ECF6",
              "width": 0.5
             },
             "pattern": {
              "fillmode": "overlay",
              "size": 10,
              "solidity": 0.2
             }
            },
            "type": "barpolar"
           }
          ],
          "carpet": [
           {
            "aaxis": {
             "endlinecolor": "#2a3f5f",
             "gridcolor": "white",
             "linecolor": "white",
             "minorgridcolor": "white",
             "startlinecolor": "#2a3f5f"
            },
            "baxis": {
             "endlinecolor": "#2a3f5f",
             "gridcolor": "white",
             "linecolor": "white",
             "minorgridcolor": "white",
             "startlinecolor": "#2a3f5f"
            },
            "type": "carpet"
           }
          ],
          "choropleth": [
           {
            "colorbar": {
             "outlinewidth": 0,
             "ticks": ""
            },
            "type": "choropleth"
           }
          ],
          "contour": [
           {
            "colorbar": {
             "outlinewidth": 0,
             "ticks": ""
            },
            "colorscale": [
             [
              0,
              "#0d0887"
             ],
             [
              0.1111111111111111,
              "#46039f"
             ],
             [
              0.2222222222222222,
              "#7201a8"
             ],
             [
              0.3333333333333333,
              "#9c179e"
             ],
             [
              0.4444444444444444,
              "#bd3786"
             ],
             [
              0.5555555555555556,
              "#d8576b"
             ],
             [
              0.6666666666666666,
              "#ed7953"
             ],
             [
              0.7777777777777778,
              "#fb9f3a"
             ],
             [
              0.8888888888888888,
              "#fdca26"
             ],
             [
              1,
              "#f0f921"
             ]
            ],
            "type": "contour"
           }
          ],
          "contourcarpet": [
           {
            "colorbar": {
             "outlinewidth": 0,
             "ticks": ""
            },
            "type": "contourcarpet"
           }
          ],
          "heatmap": [
           {
            "colorbar": {
             "outlinewidth": 0,
             "ticks": ""
            },
            "colorscale": [
             [
              0,
              "#0d0887"
             ],
             [
              0.1111111111111111,
              "#46039f"
             ],
             [
              0.2222222222222222,
              "#7201a8"
             ],
             [
              0.3333333333333333,
              "#9c179e"
             ],
             [
              0.4444444444444444,
              "#bd3786"
             ],
             [
              0.5555555555555556,
              "#d8576b"
             ],
             [
              0.6666666666666666,
              "#ed7953"
             ],
             [
              0.7777777777777778,
              "#fb9f3a"
             ],
             [
              0.8888888888888888,
              "#fdca26"
             ],
             [
              1,
              "#f0f921"
             ]
            ],
            "type": "heatmap"
           }
          ],
          "heatmapgl": [
           {
            "colorbar": {
             "outlinewidth": 0,
             "ticks": ""
            },
            "colorscale": [
             [
              0,
              "#0d0887"
             ],
             [
              0.1111111111111111,
              "#46039f"
             ],
             [
              0.2222222222222222,
              "#7201a8"
             ],
             [
              0.3333333333333333,
              "#9c179e"
             ],
             [
              0.4444444444444444,
              "#bd3786"
             ],
             [
              0.5555555555555556,
              "#d8576b"
             ],
             [
              0.6666666666666666,
              "#ed7953"
             ],
             [
              0.7777777777777778,
              "#fb9f3a"
             ],
             [
              0.8888888888888888,
              "#fdca26"
             ],
             [
              1,
              "#f0f921"
             ]
            ],
            "type": "heatmapgl"
           }
          ],
          "histogram": [
           {
            "marker": {
             "pattern": {
              "fillmode": "overlay",
              "size": 10,
              "solidity": 0.2
             }
            },
            "type": "histogram"
           }
          ],
          "histogram2d": [
           {
            "colorbar": {
             "outlinewidth": 0,
             "ticks": ""
            },
            "colorscale": [
             [
              0,
              "#0d0887"
             ],
             [
              0.1111111111111111,
              "#46039f"
             ],
             [
              0.2222222222222222,
              "#7201a8"
             ],
             [
              0.3333333333333333,
              "#9c179e"
             ],
             [
              0.4444444444444444,
              "#bd3786"
             ],
             [
              0.5555555555555556,
              "#d8576b"
             ],
             [
              0.6666666666666666,
              "#ed7953"
             ],
             [
              0.7777777777777778,
              "#fb9f3a"
             ],
             [
              0.8888888888888888,
              "#fdca26"
             ],
             [
              1,
              "#f0f921"
             ]
            ],
            "type": "histogram2d"
           }
          ],
          "histogram2dcontour": [
           {
            "colorbar": {
             "outlinewidth": 0,
             "ticks": ""
            },
            "colorscale": [
             [
              0,
              "#0d0887"
             ],
             [
              0.1111111111111111,
              "#46039f"
             ],
             [
              0.2222222222222222,
              "#7201a8"
             ],
             [
              0.3333333333333333,
              "#9c179e"
             ],
             [
              0.4444444444444444,
              "#bd3786"
             ],
             [
              0.5555555555555556,
              "#d8576b"
             ],
             [
              0.6666666666666666,
              "#ed7953"
             ],
             [
              0.7777777777777778,
              "#fb9f3a"
             ],
             [
              0.8888888888888888,
              "#fdca26"
             ],
             [
              1,
              "#f0f921"
             ]
            ],
            "type": "histogram2dcontour"
           }
          ],
          "mesh3d": [
           {
            "colorbar": {
             "outlinewidth": 0,
             "ticks": ""
            },
            "type": "mesh3d"
           }
          ],
          "parcoords": [
           {
            "line": {
             "colorbar": {
              "outlinewidth": 0,
              "ticks": ""
             }
            },
            "type": "parcoords"
           }
          ],
          "pie": [
           {
            "automargin": true,
            "type": "pie"
           }
          ],
          "scatter": [
           {
            "fillpattern": {
             "fillmode": "overlay",
             "size": 10,
             "solidity": 0.2
            },
            "type": "scatter"
           }
          ],
          "scatter3d": [
           {
            "line": {
             "colorbar": {
              "outlinewidth": 0,
              "ticks": ""
             }
            },
            "marker": {
             "colorbar": {
              "outlinewidth": 0,
              "ticks": ""
             }
            },
            "type": "scatter3d"
           }
          ],
          "scattercarpet": [
           {
            "marker": {
             "colorbar": {
              "outlinewidth": 0,
              "ticks": ""
             }
            },
            "type": "scattercarpet"
           }
          ],
          "scattergeo": [
           {
            "marker": {
             "colorbar": {
              "outlinewidth": 0,
              "ticks": ""
             }
            },
            "type": "scattergeo"
           }
          ],
          "scattergl": [
           {
            "marker": {
             "colorbar": {
              "outlinewidth": 0,
              "ticks": ""
             }
            },
            "type": "scattergl"
           }
          ],
          "scattermapbox": [
           {
            "marker": {
             "colorbar": {
              "outlinewidth": 0,
              "ticks": ""
             }
            },
            "type": "scattermapbox"
           }
          ],
          "scatterpolar": [
           {
            "marker": {
             "colorbar": {
              "outlinewidth": 0,
              "ticks": ""
             }
            },
            "type": "scatterpolar"
           }
          ],
          "scatterpolargl": [
           {
            "marker": {
             "colorbar": {
              "outlinewidth": 0,
              "ticks": ""
             }
            },
            "type": "scatterpolargl"
           }
          ],
          "scatterternary": [
           {
            "marker": {
             "colorbar": {
              "outlinewidth": 0,
              "ticks": ""
             }
            },
            "type": "scatterternary"
           }
          ],
          "surface": [
           {
            "colorbar": {
             "outlinewidth": 0,
             "ticks": ""
            },
            "colorscale": [
             [
              0,
              "#0d0887"
             ],
             [
              0.1111111111111111,
              "#46039f"
             ],
             [
              0.2222222222222222,
              "#7201a8"
             ],
             [
              0.3333333333333333,
              "#9c179e"
             ],
             [
              0.4444444444444444,
              "#bd3786"
             ],
             [
              0.5555555555555556,
              "#d8576b"
             ],
             [
              0.6666666666666666,
              "#ed7953"
             ],
             [
              0.7777777777777778,
              "#fb9f3a"
             ],
             [
              0.8888888888888888,
              "#fdca26"
             ],
             [
              1,
              "#f0f921"
             ]
            ],
            "type": "surface"
           }
          ],
          "table": [
           {
            "cells": {
             "fill": {
              "color": "#EBF0F8"
             },
             "line": {
              "color": "white"
             }
            },
            "header": {
             "fill": {
              "color": "#C8D4E3"
             },
             "line": {
              "color": "white"
             }
            },
            "type": "table"
           }
          ]
         },
         "layout": {
          "annotationdefaults": {
           "arrowcolor": "#2a3f5f",
           "arrowhead": 0,
           "arrowwidth": 1
          },
          "autotypenumbers": "strict",
          "coloraxis": {
           "colorbar": {
            "outlinewidth": 0,
            "ticks": ""
           }
          },
          "colorscale": {
           "diverging": [
            [
             0,
             "#8e0152"
            ],
            [
             0.1,
             "#c51b7d"
            ],
            [
             0.2,
             "#de77ae"
            ],
            [
             0.3,
             "#f1b6da"
            ],
            [
             0.4,
             "#fde0ef"
            ],
            [
             0.5,
             "#f7f7f7"
            ],
            [
             0.6,
             "#e6f5d0"
            ],
            [
             0.7,
             "#b8e186"
            ],
            [
             0.8,
             "#7fbc41"
            ],
            [
             0.9,
             "#4d9221"
            ],
            [
             1,
             "#276419"
            ]
           ],
           "sequential": [
            [
             0,
             "#0d0887"
            ],
            [
             0.1111111111111111,
             "#46039f"
            ],
            [
             0.2222222222222222,
             "#7201a8"
            ],
            [
             0.3333333333333333,
             "#9c179e"
            ],
            [
             0.4444444444444444,
             "#bd3786"
            ],
            [
             0.5555555555555556,
             "#d8576b"
            ],
            [
             0.6666666666666666,
             "#ed7953"
            ],
            [
             0.7777777777777778,
             "#fb9f3a"
            ],
            [
             0.8888888888888888,
             "#fdca26"
            ],
            [
             1,
             "#f0f921"
            ]
           ],
           "sequentialminus": [
            [
             0,
             "#0d0887"
            ],
            [
             0.1111111111111111,
             "#46039f"
            ],
            [
             0.2222222222222222,
             "#7201a8"
            ],
            [
             0.3333333333333333,
             "#9c179e"
            ],
            [
             0.4444444444444444,
             "#bd3786"
            ],
            [
             0.5555555555555556,
             "#d8576b"
            ],
            [
             0.6666666666666666,
             "#ed7953"
            ],
            [
             0.7777777777777778,
             "#fb9f3a"
            ],
            [
             0.8888888888888888,
             "#fdca26"
            ],
            [
             1,
             "#f0f921"
            ]
           ]
          },
          "colorway": [
           "#636efa",
           "#EF553B",
           "#00cc96",
           "#ab63fa",
           "#FFA15A",
           "#19d3f3",
           "#FF6692",
           "#B6E880",
           "#FF97FF",
           "#FECB52"
          ],
          "font": {
           "color": "#2a3f5f"
          },
          "geo": {
           "bgcolor": "white",
           "lakecolor": "white",
           "landcolor": "#E5ECF6",
           "showlakes": true,
           "showland": true,
           "subunitcolor": "white"
          },
          "hoverlabel": {
           "align": "left"
          },
          "hovermode": "closest",
          "mapbox": {
           "style": "light"
          },
          "paper_bgcolor": "white",
          "plot_bgcolor": "#E5ECF6",
          "polar": {
           "angularaxis": {
            "gridcolor": "white",
            "linecolor": "white",
            "ticks": ""
           },
           "bgcolor": "#E5ECF6",
           "radialaxis": {
            "gridcolor": "white",
            "linecolor": "white",
            "ticks": ""
           }
          },
          "scene": {
           "xaxis": {
            "backgroundcolor": "#E5ECF6",
            "gridcolor": "white",
            "gridwidth": 2,
            "linecolor": "white",
            "showbackground": true,
            "ticks": "",
            "zerolinecolor": "white"
           },
           "yaxis": {
            "backgroundcolor": "#E5ECF6",
            "gridcolor": "white",
            "gridwidth": 2,
            "linecolor": "white",
            "showbackground": true,
            "ticks": "",
            "zerolinecolor": "white"
           },
           "zaxis": {
            "backgroundcolor": "#E5ECF6",
            "gridcolor": "white",
            "gridwidth": 2,
            "linecolor": "white",
            "showbackground": true,
            "ticks": "",
            "zerolinecolor": "white"
           }
          },
          "shapedefaults": {
           "line": {
            "color": "#2a3f5f"
           }
          },
          "ternary": {
           "aaxis": {
            "gridcolor": "white",
            "linecolor": "white",
            "ticks": ""
           },
           "baxis": {
            "gridcolor": "white",
            "linecolor": "white",
            "ticks": ""
           },
           "bgcolor": "#E5ECF6",
           "caxis": {
            "gridcolor": "white",
            "linecolor": "white",
            "ticks": ""
           }
          },
          "title": {
           "x": 0.05
          },
          "xaxis": {
           "automargin": true,
           "gridcolor": "white",
           "linecolor": "white",
           "ticks": "",
           "title": {
            "standoff": 15
           },
           "zerolinecolor": "white",
           "zerolinewidth": 2
          },
          "yaxis": {
           "automargin": true,
           "gridcolor": "white",
           "linecolor": "white",
           "ticks": "",
           "title": {
            "standoff": 15
           },
           "zerolinecolor": "white",
           "zerolinewidth": 2
          }
         }
        },
        "xaxis": {
         "title": {
          "text": "<i>x</i>"
         }
        },
        "yaxis": {
         "scaleanchor": "x",
         "scaleratio": 1,
         "title": {
          "text": "<i>y</i>"
         }
        }
       }
      }
     },
     "metadata": {},
     "output_type": "display_data"
    }
   ],
   "source": [
    "plotter.plot_tracks(track, [0, 2], uncertainty=True)\n",
    "plotter.fig"
   ]
  },
  {
   "attachments": {},
   "cell_type": "markdown",
   "metadata": {},
   "source": [
    "### Observations\n",
    "- Test\n",
    "- Test"
   ]
  }
 ],
 "metadata": {
  "kernelspec": {
   "display_name": "base",
   "language": "python",
   "name": "python3"
  },
  "language_info": {
   "codemirror_mode": {
    "name": "ipython",
    "version": 3
   },
   "file_extension": ".py",
   "mimetype": "text/x-python",
   "name": "python",
   "nbconvert_exporter": "python",
   "pygments_lexer": "ipython3",
   "version": "3.10.9"
  },
  "orig_nbformat": 4
 },
 "nbformat": 4,
 "nbformat_minor": 2
}
